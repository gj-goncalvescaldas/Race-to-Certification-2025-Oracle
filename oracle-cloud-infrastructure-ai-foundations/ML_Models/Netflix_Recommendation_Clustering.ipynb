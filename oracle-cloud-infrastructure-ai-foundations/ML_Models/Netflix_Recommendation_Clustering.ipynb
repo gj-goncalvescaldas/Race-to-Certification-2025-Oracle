{
 "cells": [
  {
   "cell_type": "code",
   "execution_count": 0,
   "metadata": {
    "application/vnd.databricks.v1+cell": {
     "cellMetadata": {
      "byteLimit": 2048000,
      "rowLimit": 10000
     },
     "inputWidgets": {},
     "nuid": "e87f3803-11ff-4808-8c26-caeafb9b9b0b",
     "showTitle": false,
     "tableResultSettingsMap": {},
     "title": ""
    }
   },
   "outputs": [],
   "source": [
    "import numpy as np\n",
    "import pandas as pd\n",
    "import matplotlib.pyplot as plt\n",
    "import seaborn as sns\n",
    "#import networkx as nx\n",
    "import math as math\n",
    "import time\n",
    "import re\n",
    "\n",
    "from sklearn.preprocessing import LabelEncoder\n",
    "from collections import Counter\n",
    "from sklearn.cluster import KMeans\n",
    "from sklearn.decomposition import PCA\n",
    "import matplotlib.pyplot as plt"
   ]
  },
  {
   "cell_type": "code",
   "execution_count": 0,
   "metadata": {
    "application/vnd.databricks.v1+cell": {
     "cellMetadata": {
      "byteLimit": 2048000,
      "rowLimit": 10000
     },
     "inputWidgets": {},
     "nuid": "98d6c652-f69d-4e09-97c0-be5381d603f7",
     "showTitle": false,
     "tableResultSettingsMap": {},
     "title": ""
    }
   },
   "outputs": [],
   "source": [
    "def create_binary_columns(df, column_name, prefix):\n",
    "    \n",
    "    df[column_name] = df[column_name].str.lower().str.replace(' ', '', regex=False)\n",
    "\n",
    "    \n",
    "    unique_values = (\n",
    "        df[column_name]\n",
    "        .dropna()\n",
    "        .str.split(',')\n",
    "        .explode()\n",
    "        .str.strip()\n",
    "        .unique()\n",
    "    )\n",
    "\n",
    "    for val in unique_values:\n",
    "        df[f'{prefix}_{val}'] = df[column_name].apply(\n",
    "            lambda x: int(val in x) if pd.notnull(x) else 0\n",
    "        )\n",
    "\n",
    "    df.drop(columns=[column_name], inplace=True)\n",
    "\n",
    "    return df\n"
   ]
  },
  {
   "cell_type": "code",
   "execution_count": 0,
   "metadata": {
    "application/vnd.databricks.v1+cell": {
     "cellMetadata": {
      "byteLimit": 2048000,
      "rowLimit": 10000
     },
     "inputWidgets": {},
     "nuid": "6553af68-3f1c-4e5b-95ee-3ce9d4093afb",
     "showTitle": false,
     "tableResultSettingsMap": {},
     "title": ""
    }
   },
   "outputs": [],
   "source": [
    "df = pd.read_csv(\"Data/Netflix_movies_and_tv_shows_clustering.csv\")"
   ]
  },
  {
   "cell_type": "code",
   "execution_count": 0,
   "metadata": {
    "application/vnd.databricks.v1+cell": {
     "cellMetadata": {
      "byteLimit": 2048000,
      "rowLimit": 10000
     },
     "inputWidgets": {},
     "nuid": "69df529c-7fc0-404b-8ce3-5bdbe2005a3c",
     "showTitle": false,
     "tableResultSettingsMap": {},
     "title": ""
    }
   },
   "outputs": [],
   "source": [
    "df.head()"
   ]
  },
  {
   "cell_type": "code",
   "execution_count": 0,
   "metadata": {
    "application/vnd.databricks.v1+cell": {
     "cellMetadata": {
      "byteLimit": 2048000,
      "rowLimit": 10000
     },
     "inputWidgets": {},
     "nuid": "a99b33d6-1c20-4b50-b3cb-a6119db5e4eb",
     "showTitle": false,
     "tableResultSettingsMap": {},
     "title": ""
    }
   },
   "outputs": [],
   "source": [
    "print(\"\\nType:\\n \", df['type'].unique())\n",
    "print(\"\\nTitle:\\n \", df['title'].unique())\n",
    "print(\"\\ndirector:\\n \", df['director'].unique())\n",
    "print(\"\\nduration:\\n \", df['duration'].unique())\n",
    "\n"
   ]
  },
  {
   "cell_type": "code",
   "execution_count": 0,
   "metadata": {
    "application/vnd.databricks.v1+cell": {
     "cellMetadata": {
      "byteLimit": 2048000,
      "rowLimit": 10000
     },
     "inputWidgets": {},
     "nuid": "e96e5a59-2721-45dd-bdf7-1d45e6173db6",
     "showTitle": false,
     "tableResultSettingsMap": {},
     "title": ""
    }
   },
   "outputs": [],
   "source": [
    "display(df['cast'].nunique())\n",
    "all_actors = (\n",
    "    df['cast']\n",
    "    .dropna()\n",
    "    .str.lower()\n",
    "    .str.replace(' ', '', regex=False)\n",
    "    .str.split(',')\n",
    "    .explode()\n",
    ")\n",
    "actor_counts = Counter(all_actors.str.strip())\n",
    "display(len(actor_counts))\n",
    "\n",
    "min_freq = 1\n",
    "common_actors = {actor for actor, count in actor_counts.items() if count >= min_freq}\n",
    "display(len(common_actors))\n",
    "\n",
    "min_freq = 10\n",
    "common_actors = {actor for actor, count in actor_counts.items() if count >= min_freq}\n",
    "display(len(common_actors))\n",
    "\n",
    "df['cast'] = df['cast'].str.lower().str.replace(' ', '', regex=False)\n",
    "for actor in common_actors:\n",
    "    df[f'actor_{actor}'] = df['cast'].apply(lambda x: int(actor in x) if pd.notnull(x) else 0)"
   ]
  },
  {
   "cell_type": "code",
   "execution_count": 0,
   "metadata": {
    "application/vnd.databricks.v1+cell": {
     "cellMetadata": {
      "byteLimit": 2048000,
      "rowLimit": 10000
     },
     "inputWidgets": {},
     "nuid": "2a3cdb1a-63e2-48a6-abbf-b87aa74c4eca",
     "showTitle": false,
     "tableResultSettingsMap": {},
     "title": ""
    }
   },
   "outputs": [],
   "source": [
    "\n",
    "df['country'] = df['country'].str.lower().str.replace(' ', '', regex=False)\n",
    "\n",
    "df_listed_exploded = (\n",
    "    df['country']\n",
    "    .dropna()  \n",
    "    .str.split(',')  \n",
    "    .explode()  \n",
    "    .unique()  \n",
    ")\n",
    "\n",
    "print(f\"Número de categorias únicas em country: {len(df_listed_exploded)}\")\n",
    "print(df_listed_exploded)\n",
    "\n",
    "for category in df_listed_exploded:\n",
    "    df[f'listed_{category}'] = df['country'].apply(\n",
    "        lambda x: int(category in x) if pd.notnull(x) else 0\n",
    "    )"
   ]
  },
  {
   "cell_type": "code",
   "execution_count": 0,
   "metadata": {
    "application/vnd.databricks.v1+cell": {
     "cellMetadata": {
      "byteLimit": 2048000,
      "rowLimit": 10000
     },
     "inputWidgets": {},
     "nuid": "0cb9846c-3252-4a14-9ecf-0f12ea10d539",
     "showTitle": false,
     "tableResultSettingsMap": {},
     "title": ""
    }
   },
   "outputs": [],
   "source": [
    "\n",
    "df['listed_in'] = df['listed_in'].str.lower().str.replace(' ', '', regex=False)\n",
    "\n",
    "df_listed_exploded = (\n",
    "    df['listed_in']\n",
    "    .dropna()  \n",
    "    .str.split(',')  \n",
    "    .explode()  \n",
    "    .unique()  \n",
    ")\n",
    "\n",
    "print(f\"Número de categorias únicas em listed_in: {len(df_listed_exploded)}\")\n",
    "print(df_listed_exploded)\n",
    "\n",
    "for category in df_listed_exploded:\n",
    "    df[f'listed_{category}'] = df['listed_in'].apply(\n",
    "        lambda x: int(category in x) if pd.notnull(x) else 0\n",
    "    )"
   ]
  },
  {
   "cell_type": "code",
   "execution_count": 0,
   "metadata": {
    "application/vnd.databricks.v1+cell": {
     "cellMetadata": {
      "byteLimit": 2048000,
      "rowLimit": 10000
     },
     "inputWidgets": {},
     "nuid": "98472968-81c2-427e-b162-cfb5acae6cfc",
     "showTitle": false,
     "tableResultSettingsMap": {},
     "title": ""
    }
   },
   "outputs": [],
   "source": [
    "rating_map = {\n",
    "    'TV-MA':'Adults',\n",
    "    'R':'Adults',\n",
    "    'PG-13':'Teens',\n",
    "    'TV-14':'Young Adults',\n",
    "    'TV-PG':'Older Kids',\n",
    "    'NR':'Adults',\n",
    "    'TV-G':'Kids',\n",
    "    'TV-Y':'Kids',\n",
    "    'TV-Y7':'Older Kids',\n",
    "    'PG':'Older Kids',\n",
    "    'G':'Kids',\n",
    "    'NC-17':'Adults',\n",
    "    'TV-Y7-FV':'Older Kids',\n",
    "    'UR':'Adults'\n",
    "}\n",
    "\n",
    "\n",
    "df['rating_group'] = df['rating'].map(rating_map)\n",
    "\n",
    "df['rating_group'] = df['rating_group'].fillna('Unknown')\n",
    "\n",
    "df = pd.get_dummies(df, columns=['rating_group'], prefix='rating')\n",
    "\n",
    "df.head()"
   ]
  },
  {
   "cell_type": "code",
   "execution_count": 0,
   "metadata": {
    "application/vnd.databricks.v1+cell": {
     "cellMetadata": {
      "byteLimit": 2048000,
      "rowLimit": 10000
     },
     "inputWidgets": {},
     "nuid": "a8e3969f-e246-46f9-a181-2ead4825edce",
     "showTitle": false,
     "tableResultSettingsMap": {},
     "title": ""
    }
   },
   "outputs": [],
   "source": [
    "df = df.drop(columns = ['show_id', 'date_added', 'description', 'cast', 'director', 'listed_in', 'rating', 'country'])\n",
    "\n",
    "df['type'] = df['type'].map({'TV Show': 0, 'Movie': 1})\n",
    "df['duration'] = df['duration'].str.replace(' min', '', regex=False) \n",
    "\n",
    "def convert_season_to_minutes(value):\n",
    "    if 'Season' in value:\n",
    "        match = re.search(r'\\d+', value)\n",
    "        if match:\n",
    "            seasons = int(match.group())\n",
    "            return seasons * 450 #10x45\n",
    "        else:\n",
    "            return None\n",
    "    else:\n",
    "            return int(value)\n",
    "\n",
    "df['duration'] = df['duration'].apply(convert_season_to_minutes)"
   ]
  },
  {
   "cell_type": "code",
   "execution_count": 0,
   "metadata": {
    "application/vnd.databricks.v1+cell": {
     "cellMetadata": {
      "byteLimit": 2048000,
      "rowLimit": 10000
     },
     "inputWidgets": {},
     "nuid": "befa8d81-85c6-4a6e-8a08-d74253142f36",
     "showTitle": false,
     "tableResultSettingsMap": {
      "0": {
       "dataGridStateBlob": "{\"version\":1,\"tableState\":{\"columnPinning\":{\"left\":[\"#row_number#\"],\"right\":[]},\"columnSizing\":{},\"columnVisibility\":{}},\"settings\":{\"columns\":{}},\"syncTimestamp\":1752687080785}",
       "filterBlob": null,
       "queryPlanFiltersBlob": null,
       "tableResultIndex": 0
      }
     },
     "title": ""
    }
   },
   "outputs": [],
   "source": [
    "\n",
    "for col, dtype in df.dtypes.items():\n",
    "    if str(dtype) in ['int8', 'int16', 'uint8', 'uint16']:\n",
    "        df[col] = df[col].astype('int32')\n",
    "\n",
    "\n",
    "display(df)\n"
   ]
  },
  {
   "cell_type": "code",
   "execution_count": 0,
   "metadata": {
    "application/vnd.databricks.v1+cell": {
     "cellMetadata": {
      "byteLimit": 2048000,
      "rowLimit": 10000
     },
     "inputWidgets": {},
     "nuid": "a8b90216-fa0e-4210-a033-b927c7bb711d",
     "showTitle": false,
     "tableResultSettingsMap": {},
     "title": ""
    }
   },
   "outputs": [],
   "source": [
    "print(df)"
   ]
  },
  {
   "cell_type": "code",
   "execution_count": 0,
   "metadata": {
    "application/vnd.databricks.v1+cell": {
     "cellMetadata": {
      "byteLimit": 2048000,
      "rowLimit": 10000
     },
     "inputWidgets": {},
     "nuid": "4a356465-19a2-4294-91b6-a7e8cb5b7c83",
     "showTitle": false,
     "tableResultSettingsMap": {},
     "title": ""
    }
   },
   "outputs": [],
   "source": [
    "X = df.drop(columns=['title']).values\n",
    "titles = df['title']\n",
    "\n",
    "kmeans = KMeans(n_clusters=5, random_state=42)\n",
    "clusters = kmeans.fit_predict(X)\n",
    "\n",
    "pca = PCA(n_components=2)\n",
    "X_pca = pca.fit_transform(X)\n",
    "\n",
    "plt.figure(figsize=(12,8))\n",
    "scatter = plt.scatter(X_pca[:,0], X_pca[:,1], c=clusters, cmap='viridis')\n",
    "\n",
    "\n",
    "for i in range(0, len(titles), 100):  \n",
    "    plt.text(X_pca[i,0], X_pca[i,1], titles.iloc[i], fontsize=8)\n",
    "\n",
    "plt.title(\"Clusters de filmes (com PCA 2D)\")\n",
    "plt.xlabel(\"PCA 1\")\n",
    "plt.ylabel(\"PCA 2\")\n",
    "plt.colorbar(scatter, label='Cluster')\n",
    "plt.show()\n"
   ]
  },
  {
   "cell_type": "code",
   "execution_count": 0,
   "metadata": {
    "application/vnd.databricks.v1+cell": {
     "cellMetadata": {
      "byteLimit": 2048000,
      "rowLimit": 10000
     },
     "inputWidgets": {},
     "nuid": "02364331-0e22-4007-a8b5-147c0e7120fd",
     "showTitle": false,
     "tableResultSettingsMap": {},
     "title": ""
    }
   },
   "outputs": [],
   "source": [
    "df['cluster'] = clusters\n",
    "for i in range(5):\n",
    "    print(f\"Cluster {i}:\")\n",
    "    print(df[df['cluster'] == i]['title'].tolist()[:10])  \n",
    "    print()\n"
   ]
  },
  {
   "cell_type": "code",
   "execution_count": 0,
   "metadata": {
    "application/vnd.databricks.v1+cell": {
     "cellMetadata": {
      "byteLimit": 2048000,
      "rowLimit": 10000
     },
     "inputWidgets": {},
     "nuid": "b1d33594-c8a3-457a-a88a-e4e2da15a9ff",
     "showTitle": false,
     "tableResultSettingsMap": {},
     "title": ""
    }
   },
   "outputs": [],
   "source": []
  }
 ],
 "metadata": {
  "application/vnd.databricks.v1+notebook": {
   "computePreferences": null,
   "dashboards": [],
   "environmentMetadata": {
    "base_environment": "",
    "environment_version": "2"
   },
   "inputWidgetPreferences": null,
   "language": "python",
   "notebookMetadata": {
    "pythonIndentUnit": 4
   },
   "notebookName": "Netflix_Recommendation_Clustering",
   "widgets": {}
  },
  "language_info": {
   "name": "python"
  }
 },
 "nbformat": 4,
 "nbformat_minor": 0
}
