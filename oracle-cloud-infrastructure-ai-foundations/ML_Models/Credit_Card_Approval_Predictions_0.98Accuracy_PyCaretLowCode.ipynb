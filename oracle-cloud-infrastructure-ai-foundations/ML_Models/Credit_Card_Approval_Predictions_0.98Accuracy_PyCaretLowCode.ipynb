{
 "cells": [
  {
   "cell_type": "markdown",
   "metadata": {
    "application/vnd.databricks.v1+cell": {
     "cellMetadata": {
      "byteLimit": 2048000,
      "rowLimit": 10000
     },
     "inputWidgets": {},
     "nuid": "f4a64796-0c49-4887-8610-f33769153034",
     "showTitle": false,
     "tableResultSettingsMap": {},
     "title": ""
    }
   },
   "source": [
    "## Data Dictionary\n",
    "\n",
    "Below is a detailed description of each feature in both tables included in the Credit Card Approval Prediction dataset:\n",
    "\n",
    "### application_record.csv\n",
    "\n",
    "| Feature Name         | Explanation                | Remarks                                                                                           |\n",
    "|----------------------|---------------------------|---------------------------------------------------------------------------------------------------|\n",
    "| ID                   | Client number             | Unique identifier for each client                                                                  |\n",
    "| CODE_GENDER          | Gender                    | Values: M (male), F (female)                                                                      |\n",
    "| FLAG_OWN_CAR         | Is there a car            | 1 if the client owns a car, 0 otherwise                                                           |\n",
    "| FLAG_OWN_REALTY      | Is there a property       | 1 if the client owns property, 0 otherwise                                                        |\n",
    "| CNT_CHILDREN         | Number of children        | Number of children the client has                                                                  |\n",
    "| AMT_INCOME_TOTAL     | Annual income             | Client's annual income                                                                            |\n",
    "| NAME_INCOME_TYPE     | Income category           | Type of income: e.g., Working, Commercial associate, Pensioner, State servant, Unemployed         |\n",
    "| NAME_EDUCATION_TYPE  | Education level           | Level of education: e.g., Higher education, Secondary, Academic degree, Lower secondary           |\n",
    "| NAME_FAMILY_STATUS   | Marital status            | Client's family status: e.g., Single, Married, Civil marriage, Separated, Widow                   |\n",
    "| NAME_HOUSING_TYPE    | Way of living             | Type of housing: e.g., Own house/apartment, With parents, Municipal, Co-op, Rented, Office apt    |\n",
    "| DAYS_BIRTH           | Birthday                  | Counted backwards from current day (0); negative values, -1 means yesterday                       |\n",
    "| DAYS_EMPLOYED        | Start date of employment  | Counted backwards from current day (0). If positive, client is currently unemployed               |\n",
    "| FLAG_MOBIL           | Is there a mobile phone   | 1 if the client has a mobile phone, 0 otherwise                                                   |\n",
    "| FLAG_WORK_PHONE      | Is there a work phone     | 1 if the client has a work phone, 0 otherwise                                                     |\n",
    "| FLAG_PHONE           | Is there a phone          | 1 if the client has a phone, 0 otherwise                                                          |\n",
    "| FLAG_EMAIL           | Is there an email         | 1 if the client has an email address, 0 otherwise                                                 |\n",
    "| OCCUPATION_TYPE      | Occupation                | Client's occupation                                                                               |\n",
    "| CNT_FAM_MEMBERS      | Family size               | Number of family members                                                                          |\n",
    "\n",
    "### credit_record.csv\n",
    "\n",
    "| Feature Name    | Explanation              | Remarks                                                                                                                                                                                      |\n",
    "|-----------------|-------------------------|----------------------------------------------------------------------------------------------------------------------------------------------------------------------------------------------|\n",
    "| ID              | Client number           | Unique identifier for each client                                                                                                                      |\n",
    "| MONTHS_BALANCE  | Record month            | The month of the extracted data is the starting point; 0 is the current month, -1 is the previous month, and so on                                    |\n",
    "| STATUS          | Status                  | Payment status: <br>0 = 1–29 days past due <br>1 = 30–59 days past due <br>2 = 60–89 days overdue <br>3 = 90–119 days overdue <br>4 = 120–149 days overdue <br>5 = Overdue or bad debts, write-offs for more than 150 days <br>C = Paid off that month <br>X = No loan for the month |\n",
    "\n",
    "---\n",
    "\n",
    "This data dictionary provides clarity on the attributes available for modeling and feature engineering in the credit approval prediction task.\n"
   ]
  },
  {
   "cell_type": "code",
   "execution_count": 0,
   "metadata": {
    "application/vnd.databricks.v1+cell": {
     "cellMetadata": {
      "byteLimit": 2048000,
      "rowLimit": 10000
     },
     "inputWidgets": {},
     "nuid": "038bc0bb-4340-4e35-8afa-b2a3f4d527f0",
     "showTitle": false,
     "tableResultSettingsMap": {},
     "title": ""
    }
   },
   "outputs": [
    {
     "output_type": "stream",
     "name": "stdout",
     "output_type": "stream",
     "text": [
      "\u001B[43mNote: you may need to restart the kernel using %restart_python or dbutils.library.restartPython() to use updated packages.\u001B[0m\n"
     ]
    }
   ],
   "source": [
    "%pip install xgboost lightgbm catboost  --quiet"
   ]
  },
  {
   "cell_type": "code",
   "execution_count": 0,
   "metadata": {
    "application/vnd.databricks.v1+cell": {
     "cellMetadata": {
      "byteLimit": 2048000,
      "rowLimit": 10000
     },
     "inputWidgets": {},
     "nuid": "c669fa7b-05b2-4e84-a5e9-ecf89c2a3e49",
     "showTitle": false,
     "tableResultSettingsMap": {},
     "title": ""
    }
   },
   "outputs": [
    {
     "output_type": "stream",
     "name": "stdout",
     "output_type": "stream",
     "text": [
      "\u001B[43mNote: you may need to restart the kernel using %restart_python or dbutils.library.restartPython() to use updated packages.\u001B[0m\n"
     ]
    }
   ],
   "source": [
    "%pip install pycaret --quiet"
   ]
  },
  {
   "cell_type": "code",
   "execution_count": 0,
   "metadata": {
    "application/vnd.databricks.v1+cell": {
     "cellMetadata": {
      "byteLimit": 2048000,
      "rowLimit": 10000
     },
     "inputWidgets": {},
     "nuid": "7c06985c-79b6-4ad0-a061-1558e847a6b2",
     "showTitle": false,
     "tableResultSettingsMap": {},
     "title": ""
    }
   },
   "outputs": [],
   "source": [
    "import warnings\n",
    "warnings.filterwarnings('ignore')\n",
    "import pandas as pd\n",
    "import numpy as np\n",
    "import pandas as pd   \n",
    "import matplotlib.pyplot as plt\n",
    "import seaborn as sns\n",
    "\n",
    "from sklearn.model_selection import train_test_split\n",
    "from sklearn.metrics import accuracy_score, confusion_matrix\n",
    "from sklearn.linear_model import LogisticRegression\n",
    "from sklearn.tree import DecisionTreeClassifier\n",
    "from sklearn import svm\n",
    "from sklearn.ensemble import RandomForestClassifier\n",
    "from sklearn.preprocessing import LabelEncoder\n",
    "\n",
    "from xgboost import XGBClassifier\n",
    "from lightgbm import LGBMClassifier\n",
    "from catboost import CatBoostClassifier\n",
    "\n",
    "import pycaret\n",
    "from pycaret.classification import *"
   ]
  },
  {
   "cell_type": "code",
   "execution_count": 0,
   "metadata": {
    "application/vnd.databricks.v1+cell": {
     "cellMetadata": {
      "byteLimit": 2048000,
      "rowLimit": 10000
     },
     "inputWidgets": {},
     "nuid": "171d7ac8-a9fb-4715-992b-2db9590076ab",
     "showTitle": false,
     "tableResultSettingsMap": {},
     "title": ""
    }
   },
   "outputs": [
    {
     "output_type": "display_data",
     "data": {
      "text/html": [
       "<style scoped>\n",
       "  .table-result-container {\n",
       "    max-height: 300px;\n",
       "    overflow: auto;\n",
       "  }\n",
       "  table, th, td {\n",
       "    border: 1px solid black;\n",
       "    border-collapse: collapse;\n",
       "  }\n",
       "  th, td {\n",
       "    padding: 5px;\n",
       "  }\n",
       "  th {\n",
       "    text-align: left;\n",
       "  }\n",
       "</style><div class='table-result-container'><table class='table-result'><thead style='background-color: white'><tr><th>ID</th><th>MONTHS_BALANCE</th><th>STATUS</th></tr></thead><tbody><tr><td>5001711</td><td>0</td><td>X</td></tr><tr><td>5001711</td><td>-1</td><td>0</td></tr><tr><td>5001711</td><td>-2</td><td>0</td></tr><tr><td>5001711</td><td>-3</td><td>0</td></tr><tr><td>5001712</td><td>0</td><td>C</td></tr></tbody></table></div>"
      ]
     },
     "metadata": {
      "application/vnd.databricks.v1+output": {
       "addedWidgets": {},
       "aggData": [],
       "aggError": "",
       "aggOverflow": false,
       "aggSchema": [],
       "aggSeriesLimitReached": false,
       "aggType": "",
       "arguments": {},
       "columnCustomDisplayInfos": {},
       "data": [
        [
         5001711,
         0,
         "X"
        ],
        [
         5001711,
         -1,
         "0"
        ],
        [
         5001711,
         -2,
         "0"
        ],
        [
         5001711,
         -3,
         "0"
        ],
        [
         5001712,
         0,
         "C"
        ]
       ],
       "datasetInfos": [],
       "dbfsResultPath": null,
       "isJsonSchema": true,
       "metadata": {},
       "overflow": false,
       "plotOptions": {
        "customPlotOptions": {},
        "displayType": "table",
        "pivotAggregation": null,
        "pivotColumns": null,
        "xColumns": null,
        "yColumns": null
       },
       "removedWidgets": [],
       "schema": [
        {
         "metadata": "{}",
         "name": "ID",
         "type": "\"long\""
        },
        {
         "metadata": "{}",
         "name": "MONTHS_BALANCE",
         "type": "\"long\""
        },
        {
         "metadata": "{}",
         "name": "STATUS",
         "type": "\"string\""
        }
       ],
       "type": "table"
      }
     },
     "output_type": "display_data"
    }
   ],
   "source": [
    "record = pd.read_csv(\"Data/credit_record.csv\")\n",
    "display(record.head())"
   ]
  },
  {
   "cell_type": "code",
   "execution_count": 0,
   "metadata": {
    "application/vnd.databricks.v1+cell": {
     "cellMetadata": {
      "byteLimit": 2048000,
      "rowLimit": 10000
     },
     "inputWidgets": {},
     "nuid": "e5c51645-5b5b-43c9-845b-6745eeefafbd",
     "showTitle": false,
     "tableResultSettingsMap": {},
     "title": ""
    }
   },
   "outputs": [
    {
     "output_type": "execute_result",
     "data": {
      "text/html": [
       "<div>\n",
       "<style scoped>\n",
       "    .dataframe tbody tr th:only-of-type {\n",
       "        vertical-align: middle;\n",
       "    }\n",
       "\n",
       "    .dataframe tbody tr th {\n",
       "        vertical-align: top;\n",
       "    }\n",
       "\n",
       "    .dataframe thead th {\n",
       "        text-align: right;\n",
       "    }\n",
       "</style>\n",
       "<table border=\"1\" class=\"dataframe\">\n",
       "  <thead>\n",
       "    <tr style=\"text-align: right;\">\n",
       "      <th></th>\n",
       "      <th>ID</th>\n",
       "      <th>CODE_GENDER</th>\n",
       "      <th>FLAG_OWN_CAR</th>\n",
       "      <th>FLAG_OWN_REALTY</th>\n",
       "      <th>CNT_CHILDREN</th>\n",
       "      <th>AMT_INCOME_TOTAL</th>\n",
       "      <th>NAME_INCOME_TYPE</th>\n",
       "      <th>NAME_EDUCATION_TYPE</th>\n",
       "      <th>NAME_FAMILY_STATUS</th>\n",
       "      <th>NAME_HOUSING_TYPE</th>\n",
       "      <th>DAYS_BIRTH</th>\n",
       "      <th>DAYS_EMPLOYED</th>\n",
       "      <th>FLAG_MOBIL</th>\n",
       "      <th>FLAG_WORK_PHONE</th>\n",
       "      <th>FLAG_PHONE</th>\n",
       "      <th>FLAG_EMAIL</th>\n",
       "      <th>OCCUPATION_TYPE</th>\n",
       "      <th>CNT_FAM_MEMBERS</th>\n",
       "    </tr>\n",
       "  </thead>\n",
       "  <tbody>\n",
       "    <tr>\n",
       "      <th>0</th>\n",
       "      <td>5008804</td>\n",
       "      <td>M</td>\n",
       "      <td>Y</td>\n",
       "      <td>Y</td>\n",
       "      <td>0</td>\n",
       "      <td>427500.0</td>\n",
       "      <td>Working</td>\n",
       "      <td>Higher education</td>\n",
       "      <td>Civil marriage</td>\n",
       "      <td>Rented apartment</td>\n",
       "      <td>-12005</td>\n",
       "      <td>-4542</td>\n",
       "      <td>1</td>\n",
       "      <td>1</td>\n",
       "      <td>0</td>\n",
       "      <td>0</td>\n",
       "      <td>NaN</td>\n",
       "      <td>2.0</td>\n",
       "    </tr>\n",
       "    <tr>\n",
       "      <th>1</th>\n",
       "      <td>5008805</td>\n",
       "      <td>M</td>\n",
       "      <td>Y</td>\n",
       "      <td>Y</td>\n",
       "      <td>0</td>\n",
       "      <td>427500.0</td>\n",
       "      <td>Working</td>\n",
       "      <td>Higher education</td>\n",
       "      <td>Civil marriage</td>\n",
       "      <td>Rented apartment</td>\n",
       "      <td>-12005</td>\n",
       "      <td>-4542</td>\n",
       "      <td>1</td>\n",
       "      <td>1</td>\n",
       "      <td>0</td>\n",
       "      <td>0</td>\n",
       "      <td>NaN</td>\n",
       "      <td>2.0</td>\n",
       "    </tr>\n",
       "    <tr>\n",
       "      <th>2</th>\n",
       "      <td>5008806</td>\n",
       "      <td>M</td>\n",
       "      <td>Y</td>\n",
       "      <td>Y</td>\n",
       "      <td>0</td>\n",
       "      <td>112500.0</td>\n",
       "      <td>Working</td>\n",
       "      <td>Secondary / secondary special</td>\n",
       "      <td>Married</td>\n",
       "      <td>House / apartment</td>\n",
       "      <td>-21474</td>\n",
       "      <td>-1134</td>\n",
       "      <td>1</td>\n",
       "      <td>0</td>\n",
       "      <td>0</td>\n",
       "      <td>0</td>\n",
       "      <td>Security staff</td>\n",
       "      <td>2.0</td>\n",
       "    </tr>\n",
       "    <tr>\n",
       "      <th>3</th>\n",
       "      <td>5008808</td>\n",
       "      <td>F</td>\n",
       "      <td>N</td>\n",
       "      <td>Y</td>\n",
       "      <td>0</td>\n",
       "      <td>270000.0</td>\n",
       "      <td>Commercial associate</td>\n",
       "      <td>Secondary / secondary special</td>\n",
       "      <td>Single / not married</td>\n",
       "      <td>House / apartment</td>\n",
       "      <td>-19110</td>\n",
       "      <td>-3051</td>\n",
       "      <td>1</td>\n",
       "      <td>0</td>\n",
       "      <td>1</td>\n",
       "      <td>1</td>\n",
       "      <td>Sales staff</td>\n",
       "      <td>1.0</td>\n",
       "    </tr>\n",
       "    <tr>\n",
       "      <th>4</th>\n",
       "      <td>5008809</td>\n",
       "      <td>F</td>\n",
       "      <td>N</td>\n",
       "      <td>Y</td>\n",
       "      <td>0</td>\n",
       "      <td>270000.0</td>\n",
       "      <td>Commercial associate</td>\n",
       "      <td>Secondary / secondary special</td>\n",
       "      <td>Single / not married</td>\n",
       "      <td>House / apartment</td>\n",
       "      <td>-19110</td>\n",
       "      <td>-3051</td>\n",
       "      <td>1</td>\n",
       "      <td>0</td>\n",
       "      <td>1</td>\n",
       "      <td>1</td>\n",
       "      <td>Sales staff</td>\n",
       "      <td>1.0</td>\n",
       "    </tr>\n",
       "  </tbody>\n",
       "</table>\n",
       "</div>"
      ],
      "text/plain": [
       "        ID CODE_GENDER  ... OCCUPATION_TYPE CNT_FAM_MEMBERS\n",
       "0  5008804           M  ...             NaN             2.0\n",
       "1  5008805           M  ...             NaN             2.0\n",
       "2  5008806           M  ...  Security staff             2.0\n",
       "3  5008808           F  ...     Sales staff             1.0\n",
       "4  5008809           F  ...     Sales staff             1.0\n",
       "\n",
       "[5 rows x 18 columns]"
      ]
     },
     "execution_count": 173,
     "metadata": {},
     "output_type": "execute_result"
    }
   ],
   "source": [
    "data = pd.read_csv(\"Data/application_record.csv\")\n",
    "data.head()"
   ]
  },
  {
   "cell_type": "code",
   "execution_count": 0,
   "metadata": {
    "application/vnd.databricks.v1+cell": {
     "cellMetadata": {
      "byteLimit": 2048000,
      "rowLimit": 10000
     },
     "inputWidgets": {},
     "nuid": "36fa6590-ba1b-4fce-8017-c6b88707ce51",
     "showTitle": false,
     "tableResultSettingsMap": {},
     "title": ""
    }
   },
   "outputs": [
    {
     "output_type": "execute_result",
     "data": {
      "text/plain": [
       "ID                0\n",
       "MONTHS_BALANCE    0\n",
       "STATUS            0\n",
       "dtype: int64"
      ]
     },
     "execution_count": 174,
     "metadata": {},
     "output_type": "execute_result"
    }
   ],
   "source": [
    "record.isnull().sum()"
   ]
  },
  {
   "cell_type": "code",
   "execution_count": 0,
   "metadata": {
    "application/vnd.databricks.v1+cell": {
     "cellMetadata": {
      "byteLimit": 2048000,
      "rowLimit": 10000
     },
     "inputWidgets": {},
     "nuid": "9459f502-e8e4-4583-adf0-2e1dd20ba7bb",
     "showTitle": false,
     "tableResultSettingsMap": {},
     "title": ""
    }
   },
   "outputs": [
    {
     "output_type": "stream",
     "name": "stdout",
     "output_type": "stream",
     "text": [
      "\n Column: ID\n[5001711 5001712 5001713 ... 5150484 5150485 5150487]\n\n Column: MONTHS_BALANCE\n[  0  -1  -2  -3  -4  -5  -6  -7  -8  -9 -10 -11 -12 -13 -14 -15 -16 -17\n -18 -19 -20 -21 -22 -23 -24 -25 -26 -27 -28 -29 -30 -31 -32 -33 -34 -35\n -36 -37 -38 -39 -40 -41 -42 -43 -44 -45 -46 -47 -48 -49 -50 -51 -52 -53\n -54 -55 -56 -57 -58 -59 -60]\n\n Column: STATUS\n['X' '0' 'C' '1' '2' '3' '4' '5']\n"
     ]
    }
   ],
   "source": [
    "for col in record.columns:\n",
    "    print(f\"\\n Column: {col}\")\n",
    "    print(record[col].unique())"
   ]
  },
  {
   "cell_type": "markdown",
   "metadata": {
    "application/vnd.databricks.v1+cell": {
     "cellMetadata": {
      "byteLimit": 2048000,
      "rowLimit": 10000
     },
     "inputWidgets": {},
     "nuid": "a14b22dd-b819-481a-ad64-061a59edf149",
     "showTitle": false,
     "tableResultSettingsMap": {},
     "title": ""
    }
   },
   "source": [
    "### credit_record.csv\n",
    "\n",
    "| Feature Name    | Explanation              | Remarks                                                                                                                                                                                      |\n",
    "|-----------------|-------------------------|----------------------------------------------------------------------------------------------------------------------------------------------------------------------------------------------|\n",
    "| ID              | Client number           | Unique identifier for each client                                                                                                                      |\n",
    "| MONTHS_BALANCE  | Record month            | The month of the extracted data is the starting point; 0 is the current month, -1 is the previous month, and so on                                    |\n",
    "| STATUS          | Status                  | Payment status: <br>0 = 1–29 days past due <br>1 = 30–59 days past due <br>2 = 60–89 days overdue <br>3 = 90–119 days overdue <br>4 = 120–149 days overdue <br>5 = Overdue or bad debts, write-offs for more than 150 days <br>C = Paid off that month <br>X = No loan for the month |\n",
    "\n",
    "---"
   ]
  },
  {
   "cell_type": "markdown",
   "metadata": {
    "application/vnd.databricks.v1+cell": {
     "cellMetadata": {},
     "inputWidgets": {},
     "nuid": "ed3bb50b-63fd-43da-9f5b-ac3e5590ef79",
     "showTitle": false,
     "tableResultSettingsMap": {},
     "title": ""
    }
   },
   "source": [
    "#Pre-Processing"
   ]
  },
  {
   "cell_type": "code",
   "execution_count": 0,
   "metadata": {
    "application/vnd.databricks.v1+cell": {
     "cellMetadata": {
      "byteLimit": 2048000,
      "rowLimit": 10000
     },
     "inputWidgets": {},
     "nuid": "75680219-7a0c-4d59-964f-2361cb8b06f3",
     "showTitle": false,
     "tableResultSettingsMap": {},
     "title": ""
    }
   },
   "outputs": [
    {
     "output_type": "execute_result",
     "data": {
      "text/html": [
       "<div>\n",
       "<style scoped>\n",
       "    .dataframe tbody tr th:only-of-type {\n",
       "        vertical-align: middle;\n",
       "    }\n",
       "\n",
       "    .dataframe tbody tr th {\n",
       "        vertical-align: top;\n",
       "    }\n",
       "\n",
       "    .dataframe thead th {\n",
       "        text-align: right;\n",
       "    }\n",
       "</style>\n",
       "<table border=\"1\" class=\"dataframe\">\n",
       "  <thead>\n",
       "    <tr style=\"text-align: right;\">\n",
       "      <th></th>\n",
       "      <th>begin_month</th>\n",
       "    </tr>\n",
       "    <tr>\n",
       "      <th>ID</th>\n",
       "      <th></th>\n",
       "    </tr>\n",
       "  </thead>\n",
       "  <tbody>\n",
       "    <tr>\n",
       "      <th>5001711</th>\n",
       "      <td>-3</td>\n",
       "    </tr>\n",
       "    <tr>\n",
       "      <th>5001712</th>\n",
       "      <td>-18</td>\n",
       "    </tr>\n",
       "    <tr>\n",
       "      <th>5001713</th>\n",
       "      <td>-21</td>\n",
       "    </tr>\n",
       "    <tr>\n",
       "      <th>5001714</th>\n",
       "      <td>-14</td>\n",
       "    </tr>\n",
       "    <tr>\n",
       "      <th>5001715</th>\n",
       "      <td>-59</td>\n",
       "    </tr>\n",
       "  </tbody>\n",
       "</table>\n",
       "</div>"
      ],
      "text/plain": [
       "         begin_month\n",
       "ID                  \n",
       "5001711           -3\n",
       "5001712          -18\n",
       "5001713          -21\n",
       "5001714          -14\n",
       "5001715          -59"
      ]
     },
     "execution_count": 176,
     "metadata": {},
     "output_type": "execute_result"
    }
   ],
   "source": [
    "begin_month = (\n",
    "    record.groupby(\"ID\")['MONTHS_BALANCE']\n",
    "    .min()\n",
    "    .rename(\"begin_month\")\n",
    "    .to_frame()\n",
    ")\n",
    "begin_month.head()"
   ]
  },
  {
   "cell_type": "code",
   "execution_count": 0,
   "metadata": {
    "application/vnd.databricks.v1+cell": {
     "cellMetadata": {
      "byteLimit": 2048000,
      "rowLimit": 10000
     },
     "inputWidgets": {},
     "nuid": "259fafc8-2dbc-4384-9b61-5470344ec324",
     "showTitle": false,
     "tableResultSettingsMap": {},
     "title": ""
    }
   },
   "outputs": [],
   "source": [
    "\n",
    "record['dep_value'] = None\n",
    "record.loc[record['STATUS'].isin(['2', '3', '4', '5']), 'dep_value'] = 'Yes'\n",
    "\n",
    "cpunt = record.groupby('ID')['dep_value'].apply(lambda x: 'Yes' if (x == 'Yes').any() else 'No')\n",
    "cpunt = cpunt.to_frame()\n"
   ]
  },
  {
   "cell_type": "code",
   "execution_count": 0,
   "metadata": {
    "application/vnd.databricks.v1+cell": {
     "cellMetadata": {
      "byteLimit": 2048000,
      "rowLimit": 10000
     },
     "inputWidgets": {},
     "nuid": "27483bbb-3965-400b-ad05-75fcbde7afb4",
     "showTitle": false,
     "tableResultSettingsMap": {},
     "title": ""
    }
   },
   "outputs": [
    {
     "output_type": "stream",
     "name": "stdout",
     "output_type": "stream",
     "text": [
      "No     45318\nYes      667\nName: dep_value, dtype: int64\n"
     ]
    },
    {
     "output_type": "execute_result",
     "data": {
      "text/plain": [
       "No     0.985495\n",
       "Yes    0.014505\n",
       "Name: dep_value, dtype: float64"
      ]
     },
     "execution_count": 178,
     "metadata": {},
     "output_type": "execute_result"
    }
   ],
   "source": [
    "print(cpunt['dep_value'].value_counts())\n",
    "cpunt['dep_value'].value_counts(normalize=True)"
   ]
  },
  {
   "cell_type": "code",
   "execution_count": 0,
   "metadata": {
    "application/vnd.databricks.v1+cell": {
     "cellMetadata": {
      "byteLimit": 2048000,
      "rowLimit": 10000
     },
     "inputWidgets": {},
     "nuid": "aa9acf45-2770-48b8-8399-80fb90b5bb73",
     "showTitle": false,
     "tableResultSettingsMap": {
      "0": {
       "dataGridStateBlob": "{\"version\":1,\"tableState\":{\"columnPinning\":{\"left\":[\"#row_number#\"],\"right\":[]},\"columnSizing\":{},\"columnVisibility\":{}},\"settings\":{\"columns\":{}},\"syncTimestamp\":1752515560878}",
       "filterBlob": null,
       "queryPlanFiltersBlob": null,
       "tableResultIndex": 0
      }
     },
     "title": ""
    }
   },
   "outputs": [
    {
     "output_type": "display_data",
     "data": {
      "text/html": [
       "<style scoped>\n",
       "  .table-result-container {\n",
       "    max-height: 300px;\n",
       "    overflow: auto;\n",
       "  }\n",
       "  table, th, td {\n",
       "    border: 1px solid black;\n",
       "    border-collapse: collapse;\n",
       "  }\n",
       "  th, td {\n",
       "    padding: 5px;\n",
       "  }\n",
       "  th {\n",
       "    text-align: left;\n",
       "  }\n",
       "</style><div class='table-result-container'><table class='table-result'><thead style='background-color: white'><tr><th>ID</th><th>CODE_GENDER</th><th>FLAG_OWN_CAR</th><th>FLAG_OWN_REALTY</th><th>CNT_CHILDREN</th><th>AMT_INCOME_TOTAL</th><th>NAME_INCOME_TYPE</th><th>NAME_EDUCATION_TYPE</th><th>NAME_FAMILY_STATUS</th><th>NAME_HOUSING_TYPE</th><th>DAYS_BIRTH</th><th>DAYS_EMPLOYED</th><th>FLAG_MOBIL</th><th>FLAG_WORK_PHONE</th><th>FLAG_PHONE</th><th>FLAG_EMAIL</th><th>OCCUPATION_TYPE</th><th>CNT_FAM_MEMBERS</th><th>begin_month</th><th>dep_value</th><th>label</th></tr></thead><tbody><tr><td>5008804</td><td>M</td><td>Y</td><td>Y</td><td>0</td><td>427500.0</td><td>Working</td><td>Higher education</td><td>Civil marriage</td><td>Rented apartment</td><td>-12005</td><td>-4542</td><td>1</td><td>1</td><td>0</td><td>0</td><td>null</td><td>2.0</td><td>-15.0</td><td>No</td><td>0</td></tr><tr><td>5008805</td><td>M</td><td>Y</td><td>Y</td><td>0</td><td>427500.0</td><td>Working</td><td>Higher education</td><td>Civil marriage</td><td>Rented apartment</td><td>-12005</td><td>-4542</td><td>1</td><td>1</td><td>0</td><td>0</td><td>null</td><td>2.0</td><td>-14.0</td><td>No</td><td>0</td></tr><tr><td>5008806</td><td>M</td><td>Y</td><td>Y</td><td>0</td><td>112500.0</td><td>Working</td><td>Secondary / secondary special</td><td>Married</td><td>House / apartment</td><td>-21474</td><td>-1134</td><td>1</td><td>0</td><td>0</td><td>0</td><td>Security staff</td><td>2.0</td><td>-29.0</td><td>No</td><td>0</td></tr><tr><td>5008808</td><td>F</td><td>N</td><td>Y</td><td>0</td><td>270000.0</td><td>Commercial associate</td><td>Secondary / secondary special</td><td>Single / not married</td><td>House / apartment</td><td>-19110</td><td>-3051</td><td>1</td><td>0</td><td>1</td><td>1</td><td>Sales staff</td><td>1.0</td><td>-4.0</td><td>No</td><td>0</td></tr><tr><td>5008809</td><td>F</td><td>N</td><td>Y</td><td>0</td><td>270000.0</td><td>Commercial associate</td><td>Secondary / secondary special</td><td>Single / not married</td><td>House / apartment</td><td>-19110</td><td>-3051</td><td>1</td><td>0</td><td>1</td><td>1</td><td>Sales staff</td><td>1.0</td><td>-26.0</td><td>No</td><td>0</td></tr></tbody></table></div>"
      ]
     },
     "metadata": {
      "application/vnd.databricks.v1+output": {
       "addedWidgets": {},
       "aggData": [],
       "aggError": "",
       "aggOverflow": false,
       "aggSchema": [],
       "aggSeriesLimitReached": false,
       "aggType": "",
       "arguments": {},
       "columnCustomDisplayInfos": {},
       "data": [
        [
         5008804,
         "M",
         "Y",
         "Y",
         0,
         427500.0,
         "Working",
         "Higher education",
         "Civil marriage",
         "Rented apartment",
         -12005,
         -4542,
         1,
         1,
         0,
         0,
         null,
         2.0,
         -15.0,
         "No",
         0
        ],
        [
         5008805,
         "M",
         "Y",
         "Y",
         0,
         427500.0,
         "Working",
         "Higher education",
         "Civil marriage",
         "Rented apartment",
         -12005,
         -4542,
         1,
         1,
         0,
         0,
         null,
         2.0,
         -14.0,
         "No",
         0
        ],
        [
         5008806,
         "M",
         "Y",
         "Y",
         0,
         112500.0,
         "Working",
         "Secondary / secondary special",
         "Married",
         "House / apartment",
         -21474,
         -1134,
         1,
         0,
         0,
         0,
         "Security staff",
         2.0,
         -29.0,
         "No",
         0
        ],
        [
         5008808,
         "F",
         "N",
         "Y",
         0,
         270000.0,
         "Commercial associate",
         "Secondary / secondary special",
         "Single / not married",
         "House / apartment",
         -19110,
         -3051,
         1,
         0,
         1,
         1,
         "Sales staff",
         1.0,
         -4.0,
         "No",
         0
        ],
        [
         5008809,
         "F",
         "N",
         "Y",
         0,
         270000.0,
         "Commercial associate",
         "Secondary / secondary special",
         "Single / not married",
         "House / apartment",
         -19110,
         -3051,
         1,
         0,
         1,
         1,
         "Sales staff",
         1.0,
         -26.0,
         "No",
         0
        ]
       ],
       "datasetInfos": [],
       "dbfsResultPath": null,
       "isJsonSchema": true,
       "metadata": {},
       "overflow": false,
       "plotOptions": {
        "customPlotOptions": {},
        "displayType": "table",
        "pivotAggregation": null,
        "pivotColumns": null,
        "xColumns": null,
        "yColumns": null
       },
       "removedWidgets": [],
       "schema": [
        {
         "metadata": "{}",
         "name": "ID",
         "type": "\"long\""
        },
        {
         "metadata": "{}",
         "name": "CODE_GENDER",
         "type": "\"string\""
        },
        {
         "metadata": "{}",
         "name": "FLAG_OWN_CAR",
         "type": "\"string\""
        },
        {
         "metadata": "{}",
         "name": "FLAG_OWN_REALTY",
         "type": "\"string\""
        },
        {
         "metadata": "{}",
         "name": "CNT_CHILDREN",
         "type": "\"long\""
        },
        {
         "metadata": "{}",
         "name": "AMT_INCOME_TOTAL",
         "type": "\"double\""
        },
        {
         "metadata": "{}",
         "name": "NAME_INCOME_TYPE",
         "type": "\"string\""
        },
        {
         "metadata": "{}",
         "name": "NAME_EDUCATION_TYPE",
         "type": "\"string\""
        },
        {
         "metadata": "{}",
         "name": "NAME_FAMILY_STATUS",
         "type": "\"string\""
        },
        {
         "metadata": "{}",
         "name": "NAME_HOUSING_TYPE",
         "type": "\"string\""
        },
        {
         "metadata": "{}",
         "name": "DAYS_BIRTH",
         "type": "\"long\""
        },
        {
         "metadata": "{}",
         "name": "DAYS_EMPLOYED",
         "type": "\"long\""
        },
        {
         "metadata": "{}",
         "name": "FLAG_MOBIL",
         "type": "\"long\""
        },
        {
         "metadata": "{}",
         "name": "FLAG_WORK_PHONE",
         "type": "\"long\""
        },
        {
         "metadata": "{}",
         "name": "FLAG_PHONE",
         "type": "\"long\""
        },
        {
         "metadata": "{}",
         "name": "FLAG_EMAIL",
         "type": "\"long\""
        },
        {
         "metadata": "{}",
         "name": "OCCUPATION_TYPE",
         "type": "\"string\""
        },
        {
         "metadata": "{}",
         "name": "CNT_FAM_MEMBERS",
         "type": "\"double\""
        },
        {
         "metadata": "{}",
         "name": "begin_month",
         "type": "\"double\""
        },
        {
         "metadata": "{}",
         "name": "dep_value",
         "type": "\"string\""
        },
        {
         "metadata": "{}",
         "name": "label",
         "type": "\"long\""
        }
       ],
       "type": "table"
      }
     },
     "output_type": "display_data"
    }
   ],
   "source": [
    "data = pd.merge(data, begin_month, how = \"left\", on = \"ID\")\n",
    "data = pd.merge(data, cpunt, how = \"inner\", on = \"ID\" )\n",
    "data['label'] = data['dep_value'].map({'Yes': 1, 'No': 0})\n",
    "display(data.head())"
   ]
  },
  {
   "cell_type": "code",
   "execution_count": 0,
   "metadata": {
    "application/vnd.databricks.v1+cell": {
     "cellMetadata": {
      "byteLimit": 2048000,
      "rowLimit": 10000
     },
     "inputWidgets": {},
     "nuid": "304896cb-6ded-4961-8d0d-de8beea81e92",
     "showTitle": false,
     "tableResultSettingsMap": {},
     "title": ""
    }
   },
   "outputs": [
    {
     "output_type": "stream",
     "name": "stdout",
     "output_type": "stream",
     "text": [
      "<class 'pandas.core.frame.DataFrame'>\nInt64Index: 36457 entries, 0 to 36456\nData columns (total 21 columns):\n #   Column               Non-Null Count  Dtype  \n---  ------               --------------  -----  \n 0   ID                   36457 non-null  int64  \n 1   CODE_GENDER          36457 non-null  object \n 2   FLAG_OWN_CAR         36457 non-null  object \n 3   FLAG_OWN_REALTY      36457 non-null  object \n 4   CNT_CHILDREN         36457 non-null  int64  \n 5   AMT_INCOME_TOTAL     36457 non-null  float64\n 6   NAME_INCOME_TYPE     36457 non-null  object \n 7   NAME_EDUCATION_TYPE  36457 non-null  object \n 8   NAME_FAMILY_STATUS   36457 non-null  object \n 9   NAME_HOUSING_TYPE    36457 non-null  object \n 10  DAYS_BIRTH           36457 non-null  int64  \n 11  DAYS_EMPLOYED        36457 non-null  int64  \n 12  FLAG_MOBIL           36457 non-null  int64  \n 13  FLAG_WORK_PHONE      36457 non-null  int64  \n 14  FLAG_PHONE           36457 non-null  int64  \n 15  FLAG_EMAIL           36457 non-null  int64  \n 16  OCCUPATION_TYPE      25134 non-null  object \n 17  CNT_FAM_MEMBERS      36457 non-null  float64\n 18  begin_month          36457 non-null  float64\n 19  dep_value            36457 non-null  object \n 20  label                36457 non-null  int64  \ndtypes: float64(3), int64(9), object(9)\nmemory usage: 6.1+ MB\n"
     ]
    }
   ],
   "source": [
    "data.info()"
   ]
  },
  {
   "cell_type": "code",
   "execution_count": 0,
   "metadata": {
    "application/vnd.databricks.v1+cell": {
     "cellMetadata": {
      "byteLimit": 2048000,
      "rowLimit": 10000
     },
     "inputWidgets": {},
     "nuid": "d6c5355f-c61b-4e94-bbba-a174c67b65cb",
     "showTitle": false,
     "tableResultSettingsMap": {},
     "title": ""
    }
   },
   "outputs": [],
   "source": [
    "data = data.rename(columns={'CODE_GENDER':'Gender','FLAG_OWN_CAR':'Car','FLAG_OWN_REALTY':'Reality',\n",
    "                         'CNT_CHILDREN':'ChldNo','AMT_INCOME_TOTAL':'inc',\n",
    "                         'NAME_EDUCATION_TYPE':'edutp','NAME_FAMILY_STATUS':'famtp',\n",
    "                        'NAME_HOUSING_TYPE':'houtp','FLAG_EMAIL':'email',\n",
    "                         'NAME_INCOME_TYPE':'inctp','FLAG_WORK_PHONE':'wkphone',\n",
    "                         'FLAG_PHONE':'phone','CNT_FAM_MEMBERS':'famsize',\n",
    "                        'OCCUPATION_TYPE':'occyp'\n",
    "                        })"
   ]
  },
  {
   "cell_type": "code",
   "execution_count": 0,
   "metadata": {
    "application/vnd.databricks.v1+cell": {
     "cellMetadata": {
      "byteLimit": 2048000,
      "rowLimit": 10000
     },
     "inputWidgets": {},
     "nuid": "1a54acff-b378-4d5b-9ca4-c7dc7e6a6cf1",
     "showTitle": false,
     "tableResultSettingsMap": {},
     "title": ""
    }
   },
   "outputs": [
    {
     "output_type": "execute_result",
     "data": {
      "text/plain": [
       "ID                   0\n",
       "Gender               0\n",
       "Car                  0\n",
       "Reality              0\n",
       "ChldNo               0\n",
       "inc                  0\n",
       "inctp                0\n",
       "edutp                0\n",
       "famtp                0\n",
       "houtp                0\n",
       "DAYS_BIRTH           0\n",
       "DAYS_EMPLOYED        0\n",
       "FLAG_MOBIL           0\n",
       "wkphone              0\n",
       "phone                0\n",
       "email                0\n",
       "occyp            11323\n",
       "famsize              0\n",
       "begin_month          0\n",
       "dep_value            0\n",
       "label                0\n",
       "dtype: int64"
      ]
     },
     "execution_count": 182,
     "metadata": {},
     "output_type": "execute_result"
    }
   ],
   "source": [
    "data.isnull().sum()"
   ]
  },
  {
   "cell_type": "markdown",
   "metadata": {
    "application/vnd.databricks.v1+cell": {
     "cellMetadata": {
      "byteLimit": 2048000,
      "rowLimit": 10000
     },
     "inputWidgets": {},
     "nuid": "75da7962-e6fd-4eaf-be59-1e88771797f4",
     "showTitle": false,
     "tableResultSettingsMap": {},
     "title": ""
    }
   },
   "source": [
    "Dont forget Change days_employed"
   ]
  },
  {
   "cell_type": "code",
   "execution_count": 0,
   "metadata": {
    "application/vnd.databricks.v1+cell": {
     "cellMetadata": {
      "byteLimit": 2048000,
      "rowLimit": 10000
     },
     "inputWidgets": {},
     "nuid": "a3d250e9-e482-41f4-87b7-6a29093a5653",
     "showTitle": false,
     "tableResultSettingsMap": {},
     "title": ""
    }
   },
   "outputs": [],
   "source": [
    "data = data.drop(columns = ['dep_value', 'email', 'phone', 'wkphone', 'FLAG_MOBIL'])"
   ]
  },
  {
   "cell_type": "code",
   "execution_count": 0,
   "metadata": {
    "application/vnd.databricks.v1+cell": {
     "cellMetadata": {
      "byteLimit": 2048000,
      "rowLimit": 10000
     },
     "inputWidgets": {},
     "nuid": "d1047005-7a95-4bd4-bda7-82b9e061d26d",
     "showTitle": false,
     "tableResultSettingsMap": {},
     "title": ""
    }
   },
   "outputs": [
    {
     "output_type": "stream",
     "name": "stdout",
     "output_type": "stream",
     "text": [
      "<class 'pandas.core.frame.DataFrame'>\nInt64Index: 36457 entries, 0 to 36456\nData columns (total 16 columns):\n #   Column         Non-Null Count  Dtype  \n---  ------         --------------  -----  \n 0   ID             36457 non-null  int64  \n 1   Gender         36457 non-null  object \n 2   Car            36457 non-null  object \n 3   Reality        36457 non-null  object \n 4   ChldNo         36457 non-null  int64  \n 5   inc            36457 non-null  float64\n 6   inctp          36457 non-null  object \n 7   edutp          36457 non-null  object \n 8   famtp          36457 non-null  object \n 9   houtp          36457 non-null  object \n 10  DAYS_BIRTH     36457 non-null  int64  \n 11  DAYS_EMPLOYED  36457 non-null  int64  \n 12  occyp          25134 non-null  object \n 13  famsize        36457 non-null  float64\n 14  begin_month    36457 non-null  float64\n 15  label          36457 non-null  int64  \ndtypes: float64(3), int64(5), object(8)\nmemory usage: 4.7+ MB\n"
     ]
    }
   ],
   "source": [
    "data.info()"
   ]
  },
  {
   "cell_type": "code",
   "execution_count": 0,
   "metadata": {
    "application/vnd.databricks.v1+cell": {
     "cellMetadata": {
      "byteLimit": 2048000,
      "rowLimit": 10000
     },
     "inputWidgets": {},
     "nuid": "1dc1a3c1-d9c2-4168-85ec-f6844a88d791",
     "showTitle": false,
     "tableResultSettingsMap": {},
     "title": ""
    }
   },
   "outputs": [
    {
     "output_type": "display_data",
     "data": {
      "text/html": [
       "<style scoped>\n",
       "  .table-result-container {\n",
       "    max-height: 300px;\n",
       "    overflow: auto;\n",
       "  }\n",
       "  table, th, td {\n",
       "    border: 1px solid black;\n",
       "    border-collapse: collapse;\n",
       "  }\n",
       "  th, td {\n",
       "    padding: 5px;\n",
       "  }\n",
       "  th {\n",
       "    text-align: left;\n",
       "  }\n",
       "</style><div class='table-result-container'><table class='table-result'><thead style='background-color: white'><tr><th>ID</th><th>Gender</th><th>Car</th><th>Reality</th><th>ChldNo</th><th>inc</th><th>inctp</th><th>edutp</th><th>famtp</th><th>houtp</th><th>DAYS_BIRTH</th><th>DAYS_EMPLOYED</th><th>occyp</th><th>famsize</th><th>begin_month</th><th>label</th></tr></thead><tbody><tr><td>5008804</td><td>M</td><td>Y</td><td>Y</td><td>0</td><td>427500.0</td><td>Working</td><td>Higher education</td><td>Civil marriage</td><td>Rented apartment</td><td>-12005</td><td>-4542</td><td>null</td><td>2.0</td><td>-15.0</td><td>0</td></tr><tr><td>5008805</td><td>M</td><td>Y</td><td>Y</td><td>0</td><td>427500.0</td><td>Working</td><td>Higher education</td><td>Civil marriage</td><td>Rented apartment</td><td>-12005</td><td>-4542</td><td>null</td><td>2.0</td><td>-14.0</td><td>0</td></tr><tr><td>5008806</td><td>M</td><td>Y</td><td>Y</td><td>0</td><td>112500.0</td><td>Working</td><td>Secondary / secondary special</td><td>Married</td><td>House / apartment</td><td>-21474</td><td>-1134</td><td>Security staff</td><td>2.0</td><td>-29.0</td><td>0</td></tr><tr><td>5008808</td><td>F</td><td>N</td><td>Y</td><td>0</td><td>270000.0</td><td>Commercial associate</td><td>Secondary / secondary special</td><td>Single / not married</td><td>House / apartment</td><td>-19110</td><td>-3051</td><td>Sales staff</td><td>1.0</td><td>-4.0</td><td>0</td></tr><tr><td>5008809</td><td>F</td><td>N</td><td>Y</td><td>0</td><td>270000.0</td><td>Commercial associate</td><td>Secondary / secondary special</td><td>Single / not married</td><td>House / apartment</td><td>-19110</td><td>-3051</td><td>Sales staff</td><td>1.0</td><td>-26.0</td><td>0</td></tr></tbody></table></div>"
      ]
     },
     "metadata": {
      "application/vnd.databricks.v1+output": {
       "addedWidgets": {},
       "aggData": [],
       "aggError": "",
       "aggOverflow": false,
       "aggSchema": [],
       "aggSeriesLimitReached": false,
       "aggType": "",
       "arguments": {},
       "columnCustomDisplayInfos": {},
       "data": [
        [
         5008804,
         "M",
         "Y",
         "Y",
         0,
         427500.0,
         "Working",
         "Higher education",
         "Civil marriage",
         "Rented apartment",
         -12005,
         -4542,
         null,
         2.0,
         -15.0,
         0
        ],
        [
         5008805,
         "M",
         "Y",
         "Y",
         0,
         427500.0,
         "Working",
         "Higher education",
         "Civil marriage",
         "Rented apartment",
         -12005,
         -4542,
         null,
         2.0,
         -14.0,
         0
        ],
        [
         5008806,
         "M",
         "Y",
         "Y",
         0,
         112500.0,
         "Working",
         "Secondary / secondary special",
         "Married",
         "House / apartment",
         -21474,
         -1134,
         "Security staff",
         2.0,
         -29.0,
         0
        ],
        [
         5008808,
         "F",
         "N",
         "Y",
         0,
         270000.0,
         "Commercial associate",
         "Secondary / secondary special",
         "Single / not married",
         "House / apartment",
         -19110,
         -3051,
         "Sales staff",
         1.0,
         -4.0,
         0
        ],
        [
         5008809,
         "F",
         "N",
         "Y",
         0,
         270000.0,
         "Commercial associate",
         "Secondary / secondary special",
         "Single / not married",
         "House / apartment",
         -19110,
         -3051,
         "Sales staff",
         1.0,
         -26.0,
         0
        ]
       ],
       "datasetInfos": [],
       "dbfsResultPath": null,
       "isJsonSchema": true,
       "metadata": {},
       "overflow": false,
       "plotOptions": {
        "customPlotOptions": {},
        "displayType": "table",
        "pivotAggregation": null,
        "pivotColumns": null,
        "xColumns": null,
        "yColumns": null
       },
       "removedWidgets": [],
       "schema": [
        {
         "metadata": "{}",
         "name": "ID",
         "type": "\"long\""
        },
        {
         "metadata": "{}",
         "name": "Gender",
         "type": "\"string\""
        },
        {
         "metadata": "{}",
         "name": "Car",
         "type": "\"string\""
        },
        {
         "metadata": "{}",
         "name": "Reality",
         "type": "\"string\""
        },
        {
         "metadata": "{}",
         "name": "ChldNo",
         "type": "\"long\""
        },
        {
         "metadata": "{}",
         "name": "inc",
         "type": "\"double\""
        },
        {
         "metadata": "{}",
         "name": "inctp",
         "type": "\"string\""
        },
        {
         "metadata": "{}",
         "name": "edutp",
         "type": "\"string\""
        },
        {
         "metadata": "{}",
         "name": "famtp",
         "type": "\"string\""
        },
        {
         "metadata": "{}",
         "name": "houtp",
         "type": "\"string\""
        },
        {
         "metadata": "{}",
         "name": "DAYS_BIRTH",
         "type": "\"long\""
        },
        {
         "metadata": "{}",
         "name": "DAYS_EMPLOYED",
         "type": "\"long\""
        },
        {
         "metadata": "{}",
         "name": "occyp",
         "type": "\"string\""
        },
        {
         "metadata": "{}",
         "name": "famsize",
         "type": "\"double\""
        },
        {
         "metadata": "{}",
         "name": "begin_month",
         "type": "\"double\""
        },
        {
         "metadata": "{}",
         "name": "label",
         "type": "\"long\""
        }
       ],
       "type": "table"
      }
     },
     "output_type": "display_data"
    }
   ],
   "source": [
    "display(data.head()) "
   ]
  },
  {
   "cell_type": "code",
   "execution_count": 0,
   "metadata": {
    "application/vnd.databricks.v1+cell": {
     "cellMetadata": {
      "byteLimit": 2048000,
      "rowLimit": 10000
     },
     "inputWidgets": {},
     "nuid": "0d37ec23-40a7-444b-b47b-a182a6d63917",
     "showTitle": false,
     "tableResultSettingsMap": {},
     "title": ""
    }
   },
   "outputs": [
    {
     "output_type": "stream",
     "name": "stdout",
     "output_type": "stream",
     "text": [
      "\n Gender : ['M' 'F']\n\n Car : ['Y' 'N']\n\n Reality : ['Y' 'N']\n\n ChldNo : [ 0  1  3  2  4  5 14 19  7]\n\n inctp : ['Working' 'Commercial associate' 'Pensioner' 'State servant' 'Student']\n\n edutp : ['Higher education' 'Secondary / secondary special' 'Incomplete higher'\n 'Lower secondary' 'Academic degree']\n\n famtp : ['Civil marriage' 'Married' 'Single / not married' 'Separated' 'Widow']\n\n houtp : ['Rented apartment' 'House / apartment' 'Municipal apartment'\n 'With parents' 'Co-op apartment' 'Office apartment']\n\n occyp : ['Unknown' 'Security staff' 'Sales staff' 'Accountants' 'Laborers'\n 'Managers' 'Drivers' 'Core staff' 'High skill tech staff'\n 'Cleaning staff' 'Private service staff' 'Cooking staff'\n 'Low-skill Laborers' 'Medicine staff' 'Secretaries'\n 'Waiters/barmen staff' 'HR staff' 'Realty agents' 'IT staff']\n"
     ]
    }
   ],
   "source": [
    "data['occyp'] = data['occyp'].fillna('Unknown')\n",
    "print(\"\\n Gender :\", data['Gender'].unique())\n",
    "print(\"\\n Car :\", data['Car'].unique())\n",
    "print(\"\\n Reality :\", data['Reality'].unique())\n",
    "print(\"\\n ChldNo :\", data['ChldNo'].unique())\n",
    "print(\"\\n inctp :\", data['inctp'].unique())\n",
    "print(\"\\n edutp :\", data['edutp'].unique())\n",
    "print(\"\\n famtp :\", data['famtp'].unique())\n",
    "print(\"\\n houtp :\", data['houtp'].unique())\n",
    "print(\"\\n occyp :\", data['occyp'].unique())"
   ]
  },
  {
   "cell_type": "code",
   "execution_count": 0,
   "metadata": {
    "application/vnd.databricks.v1+cell": {
     "cellMetadata": {
      "byteLimit": 2048000,
      "rowLimit": 10000
     },
     "inputWidgets": {},
     "nuid": "479bd1be-d0da-4298-b694-85136d042b9f",
     "showTitle": false,
     "tableResultSettingsMap": {},
     "title": ""
    }
   },
   "outputs": [],
   "source": [
    "\n",
    "\n",
    "data['Gender'] = data['Gender'].map({'F': 0, 'M': 1})\n",
    "data['Car'] = data['Car'].map({'N': 0, 'Y': 1})\n",
    "data['Reality'] = data['Reality'].map({'N': 0, 'Y': 1})\n",
    "\n",
    "data = pd.get_dummies(data, columns = ['inctp', 'edutp', 'famtp', 'houtp', 'occyp'], dtype='int32')\n"
   ]
  },
  {
   "cell_type": "code",
   "execution_count": 0,
   "metadata": {
    "application/vnd.databricks.v1+cell": {
     "cellMetadata": {
      "byteLimit": 2048000,
      "rowLimit": 10000
     },
     "inputWidgets": {},
     "nuid": "1e2cee23-ec22-4c7f-9afd-d7c12d34cfc4",
     "showTitle": false,
     "tableResultSettingsMap": {},
     "title": ""
    }
   },
   "outputs": [],
   "source": [
    "for col in ['Gender', 'Car', 'Reality']:\n",
    "    data[col] = data[col].astype('int32')\n"
   ]
  },
  {
   "cell_type": "code",
   "execution_count": 0,
   "metadata": {
    "application/vnd.databricks.v1+cell": {
     "cellMetadata": {
      "byteLimit": 2048000,
      "rowLimit": 10000
     },
     "inputWidgets": {},
     "nuid": "8694c450-4dbc-4d86-8fdf-9dd57b39d800",
     "showTitle": false,
     "tableResultSettingsMap": {},
     "title": ""
    }
   },
   "outputs": [
    {
     "output_type": "display_data",
     "data": {
      "text/html": [
       "<style scoped>\n",
       "  .table-result-container {\n",
       "    max-height: 300px;\n",
       "    overflow: auto;\n",
       "  }\n",
       "  table, th, td {\n",
       "    border: 1px solid black;\n",
       "    border-collapse: collapse;\n",
       "  }\n",
       "  th, td {\n",
       "    padding: 5px;\n",
       "  }\n",
       "  th {\n",
       "    text-align: left;\n",
       "  }\n",
       "</style><div class='table-result-container'><table class='table-result'><thead style='background-color: white'><tr><th>ID</th><th>Gender</th><th>Car</th><th>Reality</th><th>ChldNo</th><th>inc</th><th>DAYS_BIRTH</th><th>DAYS_EMPLOYED</th><th>famsize</th><th>begin_month</th><th>label</th><th>inctp_Commercial associate</th><th>inctp_Pensioner</th><th>inctp_State servant</th><th>inctp_Student</th><th>inctp_Working</th><th>edutp_Academic degree</th><th>edutp_Higher education</th><th>edutp_Incomplete higher</th><th>edutp_Lower secondary</th><th>edutp_Secondary / secondary special</th><th>famtp_Civil marriage</th><th>famtp_Married</th><th>famtp_Separated</th><th>famtp_Single / not married</th><th>famtp_Widow</th><th>houtp_Co-op apartment</th><th>houtp_House / apartment</th><th>houtp_Municipal apartment</th><th>houtp_Office apartment</th><th>houtp_Rented apartment</th><th>houtp_With parents</th><th>occyp_Accountants</th><th>occyp_Cleaning staff</th><th>occyp_Cooking staff</th><th>occyp_Core staff</th><th>occyp_Drivers</th><th>occyp_HR staff</th><th>occyp_High skill tech staff</th><th>occyp_IT staff</th><th>occyp_Laborers</th><th>occyp_Low-skill Laborers</th><th>occyp_Managers</th><th>occyp_Medicine staff</th><th>occyp_Private service staff</th><th>occyp_Realty agents</th><th>occyp_Sales staff</th><th>occyp_Secretaries</th><th>occyp_Security staff</th><th>occyp_Unknown</th><th>occyp_Waiters/barmen staff</th></tr></thead><tbody><tr><td>5008804</td><td>1</td><td>1</td><td>1</td><td>0</td><td>427500.0</td><td>-12005</td><td>-4542</td><td>2.0</td><td>-15.0</td><td>0</td><td>0</td><td>0</td><td>0</td><td>0</td><td>1</td><td>0</td><td>1</td><td>0</td><td>0</td><td>0</td><td>1</td><td>0</td><td>0</td><td>0</td><td>0</td><td>0</td><td>0</td><td>0</td><td>0</td><td>1</td><td>0</td><td>0</td><td>0</td><td>0</td><td>0</td><td>0</td><td>0</td><td>0</td><td>0</td><td>0</td><td>0</td><td>0</td><td>0</td><td>0</td><td>0</td><td>0</td><td>0</td><td>0</td><td>1</td><td>0</td></tr><tr><td>5008805</td><td>1</td><td>1</td><td>1</td><td>0</td><td>427500.0</td><td>-12005</td><td>-4542</td><td>2.0</td><td>-14.0</td><td>0</td><td>0</td><td>0</td><td>0</td><td>0</td><td>1</td><td>0</td><td>1</td><td>0</td><td>0</td><td>0</td><td>1</td><td>0</td><td>0</td><td>0</td><td>0</td><td>0</td><td>0</td><td>0</td><td>0</td><td>1</td><td>0</td><td>0</td><td>0</td><td>0</td><td>0</td><td>0</td><td>0</td><td>0</td><td>0</td><td>0</td><td>0</td><td>0</td><td>0</td><td>0</td><td>0</td><td>0</td><td>0</td><td>0</td><td>1</td><td>0</td></tr><tr><td>5008806</td><td>1</td><td>1</td><td>1</td><td>0</td><td>112500.0</td><td>-21474</td><td>-1134</td><td>2.0</td><td>-29.0</td><td>0</td><td>0</td><td>0</td><td>0</td><td>0</td><td>1</td><td>0</td><td>0</td><td>0</td><td>0</td><td>1</td><td>0</td><td>1</td><td>0</td><td>0</td><td>0</td><td>0</td><td>1</td><td>0</td><td>0</td><td>0</td><td>0</td><td>0</td><td>0</td><td>0</td><td>0</td><td>0</td><td>0</td><td>0</td><td>0</td><td>0</td><td>0</td><td>0</td><td>0</td><td>0</td><td>0</td><td>0</td><td>0</td><td>1</td><td>0</td><td>0</td></tr><tr><td>5008808</td><td>0</td><td>0</td><td>1</td><td>0</td><td>270000.0</td><td>-19110</td><td>-3051</td><td>1.0</td><td>-4.0</td><td>0</td><td>1</td><td>0</td><td>0</td><td>0</td><td>0</td><td>0</td><td>0</td><td>0</td><td>0</td><td>1</td><td>0</td><td>0</td><td>0</td><td>1</td><td>0</td><td>0</td><td>1</td><td>0</td><td>0</td><td>0</td><td>0</td><td>0</td><td>0</td><td>0</td><td>0</td><td>0</td><td>0</td><td>0</td><td>0</td><td>0</td><td>0</td><td>0</td><td>0</td><td>0</td><td>0</td><td>1</td><td>0</td><td>0</td><td>0</td><td>0</td></tr><tr><td>5008809</td><td>0</td><td>0</td><td>1</td><td>0</td><td>270000.0</td><td>-19110</td><td>-3051</td><td>1.0</td><td>-26.0</td><td>0</td><td>1</td><td>0</td><td>0</td><td>0</td><td>0</td><td>0</td><td>0</td><td>0</td><td>0</td><td>1</td><td>0</td><td>0</td><td>0</td><td>1</td><td>0</td><td>0</td><td>1</td><td>0</td><td>0</td><td>0</td><td>0</td><td>0</td><td>0</td><td>0</td><td>0</td><td>0</td><td>0</td><td>0</td><td>0</td><td>0</td><td>0</td><td>0</td><td>0</td><td>0</td><td>0</td><td>1</td><td>0</td><td>0</td><td>0</td><td>0</td></tr></tbody></table></div>"
      ]
     },
     "metadata": {
      "application/vnd.databricks.v1+output": {
       "addedWidgets": {},
       "aggData": [],
       "aggError": "",
       "aggOverflow": false,
       "aggSchema": [],
       "aggSeriesLimitReached": false,
       "aggType": "",
       "arguments": {},
       "columnCustomDisplayInfos": {},
       "data": [
        [
         5008804,
         1,
         1,
         1,
         0,
         427500.0,
         -12005,
         -4542,
         2.0,
         -15.0,
         0,
         0,
         0,
         0,
         0,
         1,
         0,
         1,
         0,
         0,
         0,
         1,
         0,
         0,
         0,
         0,
         0,
         0,
         0,
         0,
         1,
         0,
         0,
         0,
         0,
         0,
         0,
         0,
         0,
         0,
         0,
         0,
         0,
         0,
         0,
         0,
         0,
         0,
         0,
         1,
         0
        ],
        [
         5008805,
         1,
         1,
         1,
         0,
         427500.0,
         -12005,
         -4542,
         2.0,
         -14.0,
         0,
         0,
         0,
         0,
         0,
         1,
         0,
         1,
         0,
         0,
         0,
         1,
         0,
         0,
         0,
         0,
         0,
         0,
         0,
         0,
         1,
         0,
         0,
         0,
         0,
         0,
         0,
         0,
         0,
         0,
         0,
         0,
         0,
         0,
         0,
         0,
         0,
         0,
         0,
         1,
         0
        ],
        [
         5008806,
         1,
         1,
         1,
         0,
         112500.0,
         -21474,
         -1134,
         2.0,
         -29.0,
         0,
         0,
         0,
         0,
         0,
         1,
         0,
         0,
         0,
         0,
         1,
         0,
         1,
         0,
         0,
         0,
         0,
         1,
         0,
         0,
         0,
         0,
         0,
         0,
         0,
         0,
         0,
         0,
         0,
         0,
         0,
         0,
         0,
         0,
         0,
         0,
         0,
         0,
         1,
         0,
         0
        ],
        [
         5008808,
         0,
         0,
         1,
         0,
         270000.0,
         -19110,
         -3051,
         1.0,
         -4.0,
         0,
         1,
         0,
         0,
         0,
         0,
         0,
         0,
         0,
         0,
         1,
         0,
         0,
         0,
         1,
         0,
         0,
         1,
         0,
         0,
         0,
         0,
         0,
         0,
         0,
         0,
         0,
         0,
         0,
         0,
         0,
         0,
         0,
         0,
         0,
         0,
         1,
         0,
         0,
         0,
         0
        ],
        [
         5008809,
         0,
         0,
         1,
         0,
         270000.0,
         -19110,
         -3051,
         1.0,
         -26.0,
         0,
         1,
         0,
         0,
         0,
         0,
         0,
         0,
         0,
         0,
         1,
         0,
         0,
         0,
         1,
         0,
         0,
         1,
         0,
         0,
         0,
         0,
         0,
         0,
         0,
         0,
         0,
         0,
         0,
         0,
         0,
         0,
         0,
         0,
         0,
         0,
         1,
         0,
         0,
         0,
         0
        ]
       ],
       "datasetInfos": [],
       "dbfsResultPath": null,
       "isJsonSchema": true,
       "metadata": {},
       "overflow": false,
       "plotOptions": {
        "customPlotOptions": {},
        "displayType": "table",
        "pivotAggregation": null,
        "pivotColumns": null,
        "xColumns": null,
        "yColumns": null
       },
       "removedWidgets": [],
       "schema": [
        {
         "metadata": "{}",
         "name": "ID",
         "type": "\"long\""
        },
        {
         "metadata": "{}",
         "name": "Gender",
         "type": "\"integer\""
        },
        {
         "metadata": "{}",
         "name": "Car",
         "type": "\"integer\""
        },
        {
         "metadata": "{}",
         "name": "Reality",
         "type": "\"integer\""
        },
        {
         "metadata": "{}",
         "name": "ChldNo",
         "type": "\"long\""
        },
        {
         "metadata": "{}",
         "name": "inc",
         "type": "\"double\""
        },
        {
         "metadata": "{}",
         "name": "DAYS_BIRTH",
         "type": "\"long\""
        },
        {
         "metadata": "{}",
         "name": "DAYS_EMPLOYED",
         "type": "\"long\""
        },
        {
         "metadata": "{}",
         "name": "famsize",
         "type": "\"double\""
        },
        {
         "metadata": "{}",
         "name": "begin_month",
         "type": "\"double\""
        },
        {
         "metadata": "{}",
         "name": "label",
         "type": "\"long\""
        },
        {
         "metadata": "{}",
         "name": "inctp_Commercial associate",
         "type": "\"integer\""
        },
        {
         "metadata": "{}",
         "name": "inctp_Pensioner",
         "type": "\"integer\""
        },
        {
         "metadata": "{}",
         "name": "inctp_State servant",
         "type": "\"integer\""
        },
        {
         "metadata": "{}",
         "name": "inctp_Student",
         "type": "\"integer\""
        },
        {
         "metadata": "{}",
         "name": "inctp_Working",
         "type": "\"integer\""
        },
        {
         "metadata": "{}",
         "name": "edutp_Academic degree",
         "type": "\"integer\""
        },
        {
         "metadata": "{}",
         "name": "edutp_Higher education",
         "type": "\"integer\""
        },
        {
         "metadata": "{}",
         "name": "edutp_Incomplete higher",
         "type": "\"integer\""
        },
        {
         "metadata": "{}",
         "name": "edutp_Lower secondary",
         "type": "\"integer\""
        },
        {
         "metadata": "{}",
         "name": "edutp_Secondary / secondary special",
         "type": "\"integer\""
        },
        {
         "metadata": "{}",
         "name": "famtp_Civil marriage",
         "type": "\"integer\""
        },
        {
         "metadata": "{}",
         "name": "famtp_Married",
         "type": "\"integer\""
        },
        {
         "metadata": "{}",
         "name": "famtp_Separated",
         "type": "\"integer\""
        },
        {
         "metadata": "{}",
         "name": "famtp_Single / not married",
         "type": "\"integer\""
        },
        {
         "metadata": "{}",
         "name": "famtp_Widow",
         "type": "\"integer\""
        },
        {
         "metadata": "{}",
         "name": "houtp_Co-op apartment",
         "type": "\"integer\""
        },
        {
         "metadata": "{}",
         "name": "houtp_House / apartment",
         "type": "\"integer\""
        },
        {
         "metadata": "{}",
         "name": "houtp_Municipal apartment",
         "type": "\"integer\""
        },
        {
         "metadata": "{}",
         "name": "houtp_Office apartment",
         "type": "\"integer\""
        },
        {
         "metadata": "{}",
         "name": "houtp_Rented apartment",
         "type": "\"integer\""
        },
        {
         "metadata": "{}",
         "name": "houtp_With parents",
         "type": "\"integer\""
        },
        {
         "metadata": "{}",
         "name": "occyp_Accountants",
         "type": "\"integer\""
        },
        {
         "metadata": "{}",
         "name": "occyp_Cleaning staff",
         "type": "\"integer\""
        },
        {
         "metadata": "{}",
         "name": "occyp_Cooking staff",
         "type": "\"integer\""
        },
        {
         "metadata": "{}",
         "name": "occyp_Core staff",
         "type": "\"integer\""
        },
        {
         "metadata": "{}",
         "name": "occyp_Drivers",
         "type": "\"integer\""
        },
        {
         "metadata": "{}",
         "name": "occyp_HR staff",
         "type": "\"integer\""
        },
        {
         "metadata": "{}",
         "name": "occyp_High skill tech staff",
         "type": "\"integer\""
        },
        {
         "metadata": "{}",
         "name": "occyp_IT staff",
         "type": "\"integer\""
        },
        {
         "metadata": "{}",
         "name": "occyp_Laborers",
         "type": "\"integer\""
        },
        {
         "metadata": "{}",
         "name": "occyp_Low-skill Laborers",
         "type": "\"integer\""
        },
        {
         "metadata": "{}",
         "name": "occyp_Managers",
         "type": "\"integer\""
        },
        {
         "metadata": "{}",
         "name": "occyp_Medicine staff",
         "type": "\"integer\""
        },
        {
         "metadata": "{}",
         "name": "occyp_Private service staff",
         "type": "\"integer\""
        },
        {
         "metadata": "{}",
         "name": "occyp_Realty agents",
         "type": "\"integer\""
        },
        {
         "metadata": "{}",
         "name": "occyp_Sales staff",
         "type": "\"integer\""
        },
        {
         "metadata": "{}",
         "name": "occyp_Secretaries",
         "type": "\"integer\""
        },
        {
         "metadata": "{}",
         "name": "occyp_Security staff",
         "type": "\"integer\""
        },
        {
         "metadata": "{}",
         "name": "occyp_Unknown",
         "type": "\"integer\""
        },
        {
         "metadata": "{}",
         "name": "occyp_Waiters/barmen staff",
         "type": "\"integer\""
        }
       ],
       "type": "table"
      }
     },
     "output_type": "display_data"
    }
   ],
   "source": [
    "display(data.head())"
   ]
  },
  {
   "cell_type": "code",
   "execution_count": 0,
   "metadata": {
    "application/vnd.databricks.v1+cell": {
     "cellMetadata": {
      "byteLimit": 2048000,
      "rowLimit": 10000
     },
     "inputWidgets": {},
     "nuid": "d14f4107-c5e5-45dc-b8fb-7e27d36f7c39",
     "showTitle": false,
     "tableResultSettingsMap": {},
     "title": ""
    }
   },
   "outputs": [],
   "source": [
    "data['EMPLOYED_FLAG'] = (data['DAYS_EMPLOYED'] != 365243).astype(int)"
   ]
  },
  {
   "cell_type": "code",
   "execution_count": 0,
   "metadata": {
    "application/vnd.databricks.v1+cell": {
     "cellMetadata": {
      "byteLimit": 2048000,
      "rowLimit": 10000
     },
     "inputWidgets": {},
     "nuid": "dd40a570-1809-41f5-8aea-80de27e583ea",
     "showTitle": false,
     "tableResultSettingsMap": {},
     "title": ""
    }
   },
   "outputs": [
    {
     "output_type": "stream",
     "name": "stdout",
     "output_type": "stream",
     "text": [
      "\n YEARS_EMPLOYED:  [12  3  8  0  2  4  5 19 14 13  7  6 17 29  1 15 11 10 23 24 20  9 27 26\n 18 21 22 16 28 38 32 31 36 37 30 39 25 34 33 41 40 35 43 42]\n"
     ]
    }
   ],
   "source": [
    "data['AGE_YEARS'] = (-data['DAYS_BIRTH']) // 365\n",
    "data['YEARS_EMPLOYED'] = np.where(data['DAYS_EMPLOYED'] == 365243, 0, -data['DAYS_EMPLOYED'] // 365)\n",
    "data = data.drop(columns = ['DAYS_BIRTH', 'DAYS_EMPLOYED'])\n",
    "\n",
    "print(\"\\n YEARS_EMPLOYED: \", data['YEARS_EMPLOYED'].unique())"
   ]
  },
  {
   "cell_type": "code",
   "execution_count": 0,
   "metadata": {
    "application/vnd.databricks.v1+cell": {
     "cellMetadata": {
      "byteLimit": 2048000,
      "rowLimit": 10000
     },
     "inputWidgets": {},
     "nuid": "8a50e402-9ae9-4e35-af07-d10f447fb063",
     "showTitle": false,
     "tableResultSettingsMap": {
      "0": {
       "dataGridStateBlob": "{\"version\":1,\"tableState\":{\"columnPinning\":{\"left\":[\"#row_number#\"],\"right\":[]},\"columnSizing\":{},\"columnVisibility\":{}},\"settings\":{\"columns\":{}},\"syncTimestamp\":1752655190971}",
       "filterBlob": null,
       "queryPlanFiltersBlob": null,
       "tableResultIndex": 0
      }
     },
     "title": ""
    }
   },
   "outputs": [
    {
     "output_type": "display_data",
     "data": {
      "text/html": [
       "<style scoped>\n",
       "  .table-result-container {\n",
       "    max-height: 300px;\n",
       "    overflow: auto;\n",
       "  }\n",
       "  table, th, td {\n",
       "    border: 1px solid black;\n",
       "    border-collapse: collapse;\n",
       "  }\n",
       "  th, td {\n",
       "    padding: 5px;\n",
       "  }\n",
       "  th {\n",
       "    text-align: left;\n",
       "  }\n",
       "</style><div class='table-result-container'><table class='table-result'><thead style='background-color: white'><tr><th>ID</th><th>Gender</th><th>Car</th><th>Reality</th><th>ChldNo</th><th>inc</th><th>famsize</th><th>begin_month</th><th>label</th><th>inctp_Commercial associate</th><th>inctp_Pensioner</th><th>inctp_State servant</th><th>inctp_Student</th><th>inctp_Working</th><th>edutp_Academic degree</th><th>edutp_Higher education</th><th>edutp_Incomplete higher</th><th>edutp_Lower secondary</th><th>edutp_Secondary / secondary special</th><th>famtp_Civil marriage</th><th>famtp_Married</th><th>famtp_Separated</th><th>famtp_Single / not married</th><th>famtp_Widow</th><th>houtp_Co-op apartment</th><th>houtp_House / apartment</th><th>houtp_Municipal apartment</th><th>houtp_Office apartment</th><th>houtp_Rented apartment</th><th>houtp_With parents</th><th>occyp_Accountants</th><th>occyp_Cleaning staff</th><th>occyp_Cooking staff</th><th>occyp_Core staff</th><th>occyp_Drivers</th><th>occyp_HR staff</th><th>occyp_High skill tech staff</th><th>occyp_IT staff</th><th>occyp_Laborers</th><th>occyp_Low-skill Laborers</th><th>occyp_Managers</th><th>occyp_Medicine staff</th><th>occyp_Private service staff</th><th>occyp_Realty agents</th><th>occyp_Sales staff</th><th>occyp_Secretaries</th><th>occyp_Security staff</th><th>occyp_Unknown</th><th>occyp_Waiters/barmen staff</th><th>EMPLOYED_FLAG</th><th>AGE_YEARS</th><th>YEARS_EMPLOYED</th></tr></thead><tbody><tr><td>5008804</td><td>1</td><td>1</td><td>1</td><td>0</td><td>427500.0</td><td>2.0</td><td>-15.0</td><td>0</td><td>0</td><td>0</td><td>0</td><td>0</td><td>1</td><td>0</td><td>1</td><td>0</td><td>0</td><td>0</td><td>1</td><td>0</td><td>0</td><td>0</td><td>0</td><td>0</td><td>0</td><td>0</td><td>0</td><td>1</td><td>0</td><td>0</td><td>0</td><td>0</td><td>0</td><td>0</td><td>0</td><td>0</td><td>0</td><td>0</td><td>0</td><td>0</td><td>0</td><td>0</td><td>0</td><td>0</td><td>0</td><td>0</td><td>1</td><td>0</td><td>1</td><td>32</td><td>12</td></tr><tr><td>5008805</td><td>1</td><td>1</td><td>1</td><td>0</td><td>427500.0</td><td>2.0</td><td>-14.0</td><td>0</td><td>0</td><td>0</td><td>0</td><td>0</td><td>1</td><td>0</td><td>1</td><td>0</td><td>0</td><td>0</td><td>1</td><td>0</td><td>0</td><td>0</td><td>0</td><td>0</td><td>0</td><td>0</td><td>0</td><td>1</td><td>0</td><td>0</td><td>0</td><td>0</td><td>0</td><td>0</td><td>0</td><td>0</td><td>0</td><td>0</td><td>0</td><td>0</td><td>0</td><td>0</td><td>0</td><td>0</td><td>0</td><td>0</td><td>1</td><td>0</td><td>1</td><td>32</td><td>12</td></tr><tr><td>5008806</td><td>1</td><td>1</td><td>1</td><td>0</td><td>112500.0</td><td>2.0</td><td>-29.0</td><td>0</td><td>0</td><td>0</td><td>0</td><td>0</td><td>1</td><td>0</td><td>0</td><td>0</td><td>0</td><td>1</td><td>0</td><td>1</td><td>0</td><td>0</td><td>0</td><td>0</td><td>1</td><td>0</td><td>0</td><td>0</td><td>0</td><td>0</td><td>0</td><td>0</td><td>0</td><td>0</td><td>0</td><td>0</td><td>0</td><td>0</td><td>0</td><td>0</td><td>0</td><td>0</td><td>0</td><td>0</td><td>0</td><td>1</td><td>0</td><td>0</td><td>1</td><td>58</td><td>3</td></tr><tr><td>5008808</td><td>0</td><td>0</td><td>1</td><td>0</td><td>270000.0</td><td>1.0</td><td>-4.0</td><td>0</td><td>1</td><td>0</td><td>0</td><td>0</td><td>0</td><td>0</td><td>0</td><td>0</td><td>0</td><td>1</td><td>0</td><td>0</td><td>0</td><td>1</td><td>0</td><td>0</td><td>1</td><td>0</td><td>0</td><td>0</td><td>0</td><td>0</td><td>0</td><td>0</td><td>0</td><td>0</td><td>0</td><td>0</td><td>0</td><td>0</td><td>0</td><td>0</td><td>0</td><td>0</td><td>0</td><td>1</td><td>0</td><td>0</td><td>0</td><td>0</td><td>1</td><td>52</td><td>8</td></tr><tr><td>5008809</td><td>0</td><td>0</td><td>1</td><td>0</td><td>270000.0</td><td>1.0</td><td>-26.0</td><td>0</td><td>1</td><td>0</td><td>0</td><td>0</td><td>0</td><td>0</td><td>0</td><td>0</td><td>0</td><td>1</td><td>0</td><td>0</td><td>0</td><td>1</td><td>0</td><td>0</td><td>1</td><td>0</td><td>0</td><td>0</td><td>0</td><td>0</td><td>0</td><td>0</td><td>0</td><td>0</td><td>0</td><td>0</td><td>0</td><td>0</td><td>0</td><td>0</td><td>0</td><td>0</td><td>0</td><td>1</td><td>0</td><td>0</td><td>0</td><td>0</td><td>1</td><td>52</td><td>8</td></tr></tbody></table></div>"
      ]
     },
     "metadata": {
      "application/vnd.databricks.v1+output": {
       "addedWidgets": {},
       "aggData": [],
       "aggError": "",
       "aggOverflow": false,
       "aggSchema": [],
       "aggSeriesLimitReached": false,
       "aggType": "",
       "arguments": {},
       "columnCustomDisplayInfos": {},
       "data": [
        [
         5008804,
         1,
         1,
         1,
         0,
         427500.0,
         2.0,
         -15.0,
         0,
         0,
         0,
         0,
         0,
         1,
         0,
         1,
         0,
         0,
         0,
         1,
         0,
         0,
         0,
         0,
         0,
         0,
         0,
         0,
         1,
         0,
         0,
         0,
         0,
         0,
         0,
         0,
         0,
         0,
         0,
         0,
         0,
         0,
         0,
         0,
         0,
         0,
         0,
         1,
         0,
         1,
         32,
         12
        ],
        [
         5008805,
         1,
         1,
         1,
         0,
         427500.0,
         2.0,
         -14.0,
         0,
         0,
         0,
         0,
         0,
         1,
         0,
         1,
         0,
         0,
         0,
         1,
         0,
         0,
         0,
         0,
         0,
         0,
         0,
         0,
         1,
         0,
         0,
         0,
         0,
         0,
         0,
         0,
         0,
         0,
         0,
         0,
         0,
         0,
         0,
         0,
         0,
         0,
         0,
         1,
         0,
         1,
         32,
         12
        ],
        [
         5008806,
         1,
         1,
         1,
         0,
         112500.0,
         2.0,
         -29.0,
         0,
         0,
         0,
         0,
         0,
         1,
         0,
         0,
         0,
         0,
         1,
         0,
         1,
         0,
         0,
         0,
         0,
         1,
         0,
         0,
         0,
         0,
         0,
         0,
         0,
         0,
         0,
         0,
         0,
         0,
         0,
         0,
         0,
         0,
         0,
         0,
         0,
         0,
         1,
         0,
         0,
         1,
         58,
         3
        ],
        [
         5008808,
         0,
         0,
         1,
         0,
         270000.0,
         1.0,
         -4.0,
         0,
         1,
         0,
         0,
         0,
         0,
         0,
         0,
         0,
         0,
         1,
         0,
         0,
         0,
         1,
         0,
         0,
         1,
         0,
         0,
         0,
         0,
         0,
         0,
         0,
         0,
         0,
         0,
         0,
         0,
         0,
         0,
         0,
         0,
         0,
         0,
         1,
         0,
         0,
         0,
         0,
         1,
         52,
         8
        ],
        [
         5008809,
         0,
         0,
         1,
         0,
         270000.0,
         1.0,
         -26.0,
         0,
         1,
         0,
         0,
         0,
         0,
         0,
         0,
         0,
         0,
         1,
         0,
         0,
         0,
         1,
         0,
         0,
         1,
         0,
         0,
         0,
         0,
         0,
         0,
         0,
         0,
         0,
         0,
         0,
         0,
         0,
         0,
         0,
         0,
         0,
         0,
         1,
         0,
         0,
         0,
         0,
         1,
         52,
         8
        ]
       ],
       "datasetInfos": [],
       "dbfsResultPath": null,
       "isJsonSchema": true,
       "metadata": {},
       "overflow": false,
       "plotOptions": {
        "customPlotOptions": {},
        "displayType": "table",
        "pivotAggregation": null,
        "pivotColumns": null,
        "xColumns": null,
        "yColumns": null
       },
       "removedWidgets": [],
       "schema": [
        {
         "metadata": "{}",
         "name": "ID",
         "type": "\"long\""
        },
        {
         "metadata": "{}",
         "name": "Gender",
         "type": "\"integer\""
        },
        {
         "metadata": "{}",
         "name": "Car",
         "type": "\"integer\""
        },
        {
         "metadata": "{}",
         "name": "Reality",
         "type": "\"integer\""
        },
        {
         "metadata": "{}",
         "name": "ChldNo",
         "type": "\"long\""
        },
        {
         "metadata": "{}",
         "name": "inc",
         "type": "\"double\""
        },
        {
         "metadata": "{}",
         "name": "famsize",
         "type": "\"double\""
        },
        {
         "metadata": "{}",
         "name": "begin_month",
         "type": "\"double\""
        },
        {
         "metadata": "{}",
         "name": "label",
         "type": "\"long\""
        },
        {
         "metadata": "{}",
         "name": "inctp_Commercial associate",
         "type": "\"integer\""
        },
        {
         "metadata": "{}",
         "name": "inctp_Pensioner",
         "type": "\"integer\""
        },
        {
         "metadata": "{}",
         "name": "inctp_State servant",
         "type": "\"integer\""
        },
        {
         "metadata": "{}",
         "name": "inctp_Student",
         "type": "\"integer\""
        },
        {
         "metadata": "{}",
         "name": "inctp_Working",
         "type": "\"integer\""
        },
        {
         "metadata": "{}",
         "name": "edutp_Academic degree",
         "type": "\"integer\""
        },
        {
         "metadata": "{}",
         "name": "edutp_Higher education",
         "type": "\"integer\""
        },
        {
         "metadata": "{}",
         "name": "edutp_Incomplete higher",
         "type": "\"integer\""
        },
        {
         "metadata": "{}",
         "name": "edutp_Lower secondary",
         "type": "\"integer\""
        },
        {
         "metadata": "{}",
         "name": "edutp_Secondary / secondary special",
         "type": "\"integer\""
        },
        {
         "metadata": "{}",
         "name": "famtp_Civil marriage",
         "type": "\"integer\""
        },
        {
         "metadata": "{}",
         "name": "famtp_Married",
         "type": "\"integer\""
        },
        {
         "metadata": "{}",
         "name": "famtp_Separated",
         "type": "\"integer\""
        },
        {
         "metadata": "{}",
         "name": "famtp_Single / not married",
         "type": "\"integer\""
        },
        {
         "metadata": "{}",
         "name": "famtp_Widow",
         "type": "\"integer\""
        },
        {
         "metadata": "{}",
         "name": "houtp_Co-op apartment",
         "type": "\"integer\""
        },
        {
         "metadata": "{}",
         "name": "houtp_House / apartment",
         "type": "\"integer\""
        },
        {
         "metadata": "{}",
         "name": "houtp_Municipal apartment",
         "type": "\"integer\""
        },
        {
         "metadata": "{}",
         "name": "houtp_Office apartment",
         "type": "\"integer\""
        },
        {
         "metadata": "{}",
         "name": "houtp_Rented apartment",
         "type": "\"integer\""
        },
        {
         "metadata": "{}",
         "name": "houtp_With parents",
         "type": "\"integer\""
        },
        {
         "metadata": "{}",
         "name": "occyp_Accountants",
         "type": "\"integer\""
        },
        {
         "metadata": "{}",
         "name": "occyp_Cleaning staff",
         "type": "\"integer\""
        },
        {
         "metadata": "{}",
         "name": "occyp_Cooking staff",
         "type": "\"integer\""
        },
        {
         "metadata": "{}",
         "name": "occyp_Core staff",
         "type": "\"integer\""
        },
        {
         "metadata": "{}",
         "name": "occyp_Drivers",
         "type": "\"integer\""
        },
        {
         "metadata": "{}",
         "name": "occyp_HR staff",
         "type": "\"integer\""
        },
        {
         "metadata": "{}",
         "name": "occyp_High skill tech staff",
         "type": "\"integer\""
        },
        {
         "metadata": "{}",
         "name": "occyp_IT staff",
         "type": "\"integer\""
        },
        {
         "metadata": "{}",
         "name": "occyp_Laborers",
         "type": "\"integer\""
        },
        {
         "metadata": "{}",
         "name": "occyp_Low-skill Laborers",
         "type": "\"integer\""
        },
        {
         "metadata": "{}",
         "name": "occyp_Managers",
         "type": "\"integer\""
        },
        {
         "metadata": "{}",
         "name": "occyp_Medicine staff",
         "type": "\"integer\""
        },
        {
         "metadata": "{}",
         "name": "occyp_Private service staff",
         "type": "\"integer\""
        },
        {
         "metadata": "{}",
         "name": "occyp_Realty agents",
         "type": "\"integer\""
        },
        {
         "metadata": "{}",
         "name": "occyp_Sales staff",
         "type": "\"integer\""
        },
        {
         "metadata": "{}",
         "name": "occyp_Secretaries",
         "type": "\"integer\""
        },
        {
         "metadata": "{}",
         "name": "occyp_Security staff",
         "type": "\"integer\""
        },
        {
         "metadata": "{}",
         "name": "occyp_Unknown",
         "type": "\"integer\""
        },
        {
         "metadata": "{}",
         "name": "occyp_Waiters/barmen staff",
         "type": "\"integer\""
        },
        {
         "metadata": "{}",
         "name": "EMPLOYED_FLAG",
         "type": "\"long\""
        },
        {
         "metadata": "{}",
         "name": "AGE_YEARS",
         "type": "\"long\""
        },
        {
         "metadata": "{}",
         "name": "YEARS_EMPLOYED",
         "type": "\"long\""
        }
       ],
       "type": "table"
      }
     },
     "output_type": "display_data"
    }
   ],
   "source": [
    "display(data.head())"
   ]
  },
  {
   "cell_type": "code",
   "execution_count": 0,
   "metadata": {
    "application/vnd.databricks.v1+cell": {
     "cellMetadata": {
      "byteLimit": 2048000,
      "rowLimit": 10000
     },
     "inputWidgets": {},
     "nuid": "79d238d1-97ba-404f-bc65-162b95fcf8d5",
     "showTitle": false,
     "tableResultSettingsMap": {},
     "title": ""
    }
   },
   "outputs": [
    {
     "output_type": "stream",
     "name": "stdout",
     "output_type": "stream",
     "text": [
      "[0 1]\n"
     ]
    }
   ],
   "source": [
    "print(data['label'].unique()) # Good Debt Bad Debt"
   ]
  },
  {
   "cell_type": "code",
   "execution_count": 0,
   "metadata": {
    "application/vnd.databricks.v1+cell": {
     "cellMetadata": {
      "byteLimit": 2048000,
      "rowLimit": 10000
     },
     "inputWidgets": {},
     "nuid": "1fb6a948-05ac-4c39-8fad-61bfcf29de7f",
     "showTitle": false,
     "tableResultSettingsMap": {},
     "title": ""
    }
   },
   "outputs": [
    {
     "output_type": "stream",
     "name": "stdout",
     "output_type": "stream",
     "text": [
      "<class 'pandas.core.frame.DataFrame'>\nInt64Index: 36457 entries, 0 to 36456\nData columns (total 52 columns):\n #   Column                               Non-Null Count  Dtype  \n---  ------                               --------------  -----  \n 0   ID                                   36457 non-null  int64  \n 1   Gender                               36457 non-null  int32  \n 2   Car                                  36457 non-null  int32  \n 3   Reality                              36457 non-null  int32  \n 4   ChldNo                               36457 non-null  int64  \n 5   inc                                  36457 non-null  float64\n 6   famsize                              36457 non-null  float64\n 7   begin_month                          36457 non-null  float64\n 8   label                                36457 non-null  int64  \n 9   inctp_Commercial associate           36457 non-null  int32  \n 10  inctp_Pensioner                      36457 non-null  int32  \n 11  inctp_State servant                  36457 non-null  int32  \n 12  inctp_Student                        36457 non-null  int32  \n 13  inctp_Working                        36457 non-null  int32  \n 14  edutp_Academic degree                36457 non-null  int32  \n 15  edutp_Higher education               36457 non-null  int32  \n 16  edutp_Incomplete higher              36457 non-null  int32  \n 17  edutp_Lower secondary                36457 non-null  int32  \n 18  edutp_Secondary / secondary special  36457 non-null  int32  \n 19  famtp_Civil marriage                 36457 non-null  int32  \n 20  famtp_Married                        36457 non-null  int32  \n 21  famtp_Separated                      36457 non-null  int32  \n 22  famtp_Single / not married           36457 non-null  int32  \n 23  famtp_Widow                          36457 non-null  int32  \n 24  houtp_Co-op apartment                36457 non-null  int32  \n 25  houtp_House / apartment              36457 non-null  int32  \n 26  houtp_Municipal apartment            36457 non-null  int32  \n 27  houtp_Office apartment               36457 non-null  int32  \n 28  houtp_Rented apartment               36457 non-null  int32  \n 29  houtp_With parents                   36457 non-null  int32  \n 30  occyp_Accountants                    36457 non-null  int32  \n 31  occyp_Cleaning staff                 36457 non-null  int32  \n 32  occyp_Cooking staff                  36457 non-null  int32  \n 33  occyp_Core staff                     36457 non-null  int32  \n 34  occyp_Drivers                        36457 non-null  int32  \n 35  occyp_HR staff                       36457 non-null  int32  \n 36  occyp_High skill tech staff          36457 non-null  int32  \n 37  occyp_IT staff                       36457 non-null  int32  \n 38  occyp_Laborers                       36457 non-null  int32  \n 39  occyp_Low-skill Laborers             36457 non-null  int32  \n 40  occyp_Managers                       36457 non-null  int32  \n 41  occyp_Medicine staff                 36457 non-null  int32  \n 42  occyp_Private service staff          36457 non-null  int32  \n 43  occyp_Realty agents                  36457 non-null  int32  \n 44  occyp_Sales staff                    36457 non-null  int32  \n 45  occyp_Secretaries                    36457 non-null  int32  \n 46  occyp_Security staff                 36457 non-null  int32  \n 47  occyp_Unknown                        36457 non-null  int32  \n 48  occyp_Waiters/barmen staff           36457 non-null  int32  \n 49  EMPLOYED_FLAG                        36457 non-null  int64  \n 50  AGE_YEARS                            36457 non-null  int64  \n 51  YEARS_EMPLOYED                       36457 non-null  int64  \ndtypes: float64(3), int32(43), int64(6)\nmemory usage: 8.8 MB\n"
     ]
    }
   ],
   "source": [
    "data.info()"
   ]
  },
  {
   "cell_type": "markdown",
   "metadata": {
    "application/vnd.databricks.v1+cell": {
     "cellMetadata": {},
     "inputWidgets": {},
     "nuid": "b508a252-e88d-406f-8d49-3623758dc62f",
     "showTitle": true,
     "tableResultSettingsMap": {},
     "title": ""
    }
   },
   "source": [
    "#Model"
   ]
  },
  {
   "cell_type": "code",
   "execution_count": 0,
   "metadata": {
    "application/vnd.databricks.v1+cell": {
     "cellMetadata": {
      "byteLimit": 2048000,
      "rowLimit": 10000
     },
     "inputWidgets": {},
     "nuid": "a601a0dc-55ed-4396-8266-d6d8b04bddee",
     "showTitle": false,
     "tableResultSettingsMap": {},
     "title": ""
    }
   },
   "outputs": [
    {
     "output_type": "stream",
     "name": "stderr",
     "output_type": "stream",
     "text": [
      "Exception ignored on calling ctypes callback function: <function _ThreadpoolInfo._find_modules_with_dl_iterate_phdr.<locals>.match_module_callback at 0xff2ff062af20>\nTraceback (most recent call last):\n  File \"/databricks/python/lib/python3.11/site-packages/threadpoolctl.py\", line 400, in match_module_callback\n    self._make_module_from_path(filepath)\n  File \"/databricks/python/lib/python3.11/site-packages/threadpoolctl.py\", line 515, in _make_module_from_path\n    module = module_class(filepath, prefix, user_api, internal_api)\n             ^^^^^^^^^^^^^^^^^^^^^^^^^^^^^^^^^^^^^^^^^^^^^^^^^^^^^^\n  File \"/databricks/python/lib/python3.11/site-packages/threadpoolctl.py\", line 606, in __init__\n    self.version = self.get_version()\n                   ^^^^^^^^^^^^^^^^^^\n  File \"/databricks/python/lib/python3.11/site-packages/threadpoolctl.py\", line 646, in get_version\n    config = get_config().split()\n             ^^^^^^^^^^^^^^^^^^\nAttributeError: 'NoneType' object has no attribute 'split'\nException ignored on calling ctypes callback function: <function _ThreadpoolInfo._find_modules_with_dl_iterate_phdr.<locals>.match_module_callback at 0xff2ff062aa20>\nTraceback (most recent call last):\n  File \"/databricks/python/lib/python3.11/site-packages/threadpoolctl.py\", line 400, in match_module_callback\n    self._make_module_from_path(filepath)\n  File \"/databricks/python/lib/python3.11/site-packages/threadpoolctl.py\", line 515, in _make_module_from_path\n    module = module_class(filepath, prefix, user_api, internal_api)\n             ^^^^^^^^^^^^^^^^^^^^^^^^^^^^^^^^^^^^^^^^^^^^^^^^^^^^^^\n  File \"/databricks/python/lib/python3.11/site-packages/threadpoolctl.py\", line 606, in __init__\n    self.version = self.get_version()\n                   ^^^^^^^^^^^^^^^^^^\n  File \"/databricks/python/lib/python3.11/site-packages/threadpoolctl.py\", line 646, in get_version\n    config = get_config().split()\n             ^^^^^^^^^^^^^^^^^^\nAttributeError: 'NoneType' object has no attribute 'split'\n"
     ]
    },
    {
     "output_type": "display_data",
     "data": {
      "text/html": [
       "<div>\n",
       "<style scoped>\n",
       "    .dataframe tbody tr th:only-of-type {\n",
       "        vertical-align: middle;\n",
       "    }\n",
       "\n",
       "    .dataframe tbody tr th {\n",
       "        vertical-align: top;\n",
       "    }\n",
       "\n",
       "    .dataframe thead th {\n",
       "        text-align: right;\n",
       "    }\n",
       "</style>\n",
       "<table border=\"1\" class=\"dataframe\">\n",
       "  <thead>\n",
       "    <tr style=\"text-align: right;\">\n",
       "      <th></th>\n",
       "      <th>Description</th>\n",
       "      <th>Value</th>\n",
       "    </tr>\n",
       "  </thead>\n",
       "  <tbody>\n",
       "    <tr>\n",
       "      <th>0</th>\n",
       "      <td>Session id</td>\n",
       "      <td>123</td>\n",
       "    </tr>\n",
       "    <tr>\n",
       "      <th>1</th>\n",
       "      <td>Target</td>\n",
       "      <td>label</td>\n",
       "    </tr>\n",
       "    <tr>\n",
       "      <th>2</th>\n",
       "      <td>Target type</td>\n",
       "      <td>Binary</td>\n",
       "    </tr>\n",
       "    <tr>\n",
       "      <th>3</th>\n",
       "      <td>Original data shape</td>\n",
       "      <td>(36457, 52)</td>\n",
       "    </tr>\n",
       "    <tr>\n",
       "      <th>4</th>\n",
       "      <td>Transformed data shape</td>\n",
       "      <td>(64636, 51)</td>\n",
       "    </tr>\n",
       "    <tr>\n",
       "      <th>5</th>\n",
       "      <td>Transformed train set shape</td>\n",
       "      <td>(57344, 51)</td>\n",
       "    </tr>\n",
       "    <tr>\n",
       "      <th>6</th>\n",
       "      <td>Transformed test set shape</td>\n",
       "      <td>(7292, 51)</td>\n",
       "    </tr>\n",
       "    <tr>\n",
       "      <th>7</th>\n",
       "      <td>Ignore features</td>\n",
       "      <td>1</td>\n",
       "    </tr>\n",
       "    <tr>\n",
       "      <th>8</th>\n",
       "      <td>Numeric features</td>\n",
       "      <td>50</td>\n",
       "    </tr>\n",
       "    <tr>\n",
       "      <th>9</th>\n",
       "      <td>Preprocess</td>\n",
       "      <td>True</td>\n",
       "    </tr>\n",
       "    <tr>\n",
       "      <th>10</th>\n",
       "      <td>Imputation type</td>\n",
       "      <td>simple</td>\n",
       "    </tr>\n",
       "    <tr>\n",
       "      <th>11</th>\n",
       "      <td>Numeric imputation</td>\n",
       "      <td>mean</td>\n",
       "    </tr>\n",
       "    <tr>\n",
       "      <th>12</th>\n",
       "      <td>Categorical imputation</td>\n",
       "      <td>mode</td>\n",
       "    </tr>\n",
       "    <tr>\n",
       "      <th>13</th>\n",
       "      <td>Fix imbalance</td>\n",
       "      <td>True</td>\n",
       "    </tr>\n",
       "    <tr>\n",
       "      <th>14</th>\n",
       "      <td>Fix imbalance method</td>\n",
       "      <td>SMOTE</td>\n",
       "    </tr>\n",
       "    <tr>\n",
       "      <th>15</th>\n",
       "      <td>Fold Generator</td>\n",
       "      <td>StratifiedKFold</td>\n",
       "    </tr>\n",
       "    <tr>\n",
       "      <th>16</th>\n",
       "      <td>Fold Number</td>\n",
       "      <td>10</td>\n",
       "    </tr>\n",
       "    <tr>\n",
       "      <th>17</th>\n",
       "      <td>CPU Jobs</td>\n",
       "      <td>-1</td>\n",
       "    </tr>\n",
       "    <tr>\n",
       "      <th>18</th>\n",
       "      <td>Use GPU</td>\n",
       "      <td>False</td>\n",
       "    </tr>\n",
       "    <tr>\n",
       "      <th>19</th>\n",
       "      <td>Log Experiment</td>\n",
       "      <td>False</td>\n",
       "    </tr>\n",
       "    <tr>\n",
       "      <th>20</th>\n",
       "      <td>Experiment Name</td>\n",
       "      <td>clf-default-name</td>\n",
       "    </tr>\n",
       "    <tr>\n",
       "      <th>21</th>\n",
       "      <td>USI</td>\n",
       "      <td>3053</td>\n",
       "    </tr>\n",
       "  </tbody>\n",
       "</table>\n",
       "</div>"
      ],
      "text/plain": [
       "                    Description             Value\n",
       "0                    Session id               123\n",
       "1                        Target             label\n",
       "2                   Target type            Binary\n",
       "3           Original data shape       (36457, 52)\n",
       "4        Transformed data shape       (64636, 51)\n",
       "5   Transformed train set shape       (57344, 51)\n",
       "6    Transformed test set shape        (7292, 51)\n",
       "7               Ignore features                 1\n",
       "8              Numeric features                50\n",
       "9                    Preprocess              True\n",
       "10              Imputation type            simple\n",
       "11           Numeric imputation              mean\n",
       "12       Categorical imputation              mode\n",
       "13                Fix imbalance              True\n",
       "14         Fix imbalance method             SMOTE\n",
       "15               Fold Generator   StratifiedKFold\n",
       "16                  Fold Number                10\n",
       "17                     CPU Jobs                -1\n",
       "18                      Use GPU             False\n",
       "19               Log Experiment             False\n",
       "20              Experiment Name  clf-default-name\n",
       "21                          USI              3053"
      ]
     },
     "metadata": {},
     "output_type": "display_data"
    }
   ],
   "source": [
    "stp = setup(\n",
    "    data = data,\n",
    "    target= 'label',\n",
    "    train_size=0.8,\n",
    "    ignore_features=['ID'],\n",
    "    fix_imbalance=True,\n",
    "    session_id=123\n",
    ")"
   ]
  },
  {
   "cell_type": "code",
   "execution_count": 0,
   "metadata": {
    "application/vnd.databricks.v1+cell": {
     "cellMetadata": {
      "byteLimit": 2048000,
      "rowLimit": 10000
     },
     "inputWidgets": {},
     "nuid": "58e5e77d-4a52-4c46-9128-4f3cb8742271",
     "showTitle": false,
     "tableResultSettingsMap": {},
     "title": ""
    }
   },
   "outputs": [
    {
     "output_type": "display_data",
     "data": {
      "text/html": [
       "<div>\n",
       "<style scoped>\n",
       "    .dataframe tbody tr th:only-of-type {\n",
       "        vertical-align: middle;\n",
       "    }\n",
       "\n",
       "    .dataframe tbody tr th {\n",
       "        vertical-align: top;\n",
       "    }\n",
       "\n",
       "    .dataframe thead th {\n",
       "        text-align: right;\n",
       "    }\n",
       "</style>\n",
       "<table border=\"1\" class=\"dataframe\">\n",
       "  <thead>\n",
       "    <tr style=\"text-align: right;\">\n",
       "      <th></th>\n",
       "      <th>Model</th>\n",
       "      <th>Accuracy</th>\n",
       "      <th>AUC</th>\n",
       "      <th>Recall</th>\n",
       "      <th>Prec.</th>\n",
       "      <th>F1</th>\n",
       "      <th>Kappa</th>\n",
       "      <th>MCC</th>\n",
       "      <th>TT (Sec)</th>\n",
       "    </tr>\n",
       "  </thead>\n",
       "  <tbody>\n",
       "    <tr>\n",
       "      <th>dummy</th>\n",
       "      <td>Dummy Classifier</td>\n",
       "      <td>0.9831</td>\n",
       "      <td>0.5000</td>\n",
       "      <td>0.0000</td>\n",
       "      <td>0.0000</td>\n",
       "      <td>0.0000</td>\n",
       "      <td>0.0000</td>\n",
       "      <td>0.0000</td>\n",
       "      <td>0.078</td>\n",
       "    </tr>\n",
       "    <tr>\n",
       "      <th>catboost</th>\n",
       "      <td>CatBoost Classifier</td>\n",
       "      <td>0.9827</td>\n",
       "      <td>0.7585</td>\n",
       "      <td>0.1501</td>\n",
       "      <td>0.4590</td>\n",
       "      <td>0.2246</td>\n",
       "      <td>0.2182</td>\n",
       "      <td>0.2544</td>\n",
       "      <td>30.324</td>\n",
       "    </tr>\n",
       "    <tr>\n",
       "      <th>xgboost</th>\n",
       "      <td>Extreme Gradient Boosting</td>\n",
       "      <td>0.9824</td>\n",
       "      <td>0.7458</td>\n",
       "      <td>0.1359</td>\n",
       "      <td>0.4411</td>\n",
       "      <td>0.2059</td>\n",
       "      <td>0.1996</td>\n",
       "      <td>0.2365</td>\n",
       "      <td>0.830</td>\n",
       "    </tr>\n",
       "    <tr>\n",
       "      <th>lightgbm</th>\n",
       "      <td>Light Gradient Boosting Machine</td>\n",
       "      <td>0.9822</td>\n",
       "      <td>0.7379</td>\n",
       "      <td>0.1135</td>\n",
       "      <td>0.4138</td>\n",
       "      <td>0.1769</td>\n",
       "      <td>0.1708</td>\n",
       "      <td>0.2089</td>\n",
       "      <td>3.189</td>\n",
       "    </tr>\n",
       "    <tr>\n",
       "      <th>rf</th>\n",
       "      <td>Random Forest Classifier</td>\n",
       "      <td>0.9819</td>\n",
       "      <td>0.7676</td>\n",
       "      <td>0.1784</td>\n",
       "      <td>0.4069</td>\n",
       "      <td>0.2459</td>\n",
       "      <td>0.2383</td>\n",
       "      <td>0.2602</td>\n",
       "      <td>3.781</td>\n",
       "    </tr>\n",
       "    <tr>\n",
       "      <th>gbc</th>\n",
       "      <td>Gradient Boosting Classifier</td>\n",
       "      <td>0.9813</td>\n",
       "      <td>0.6523</td>\n",
       "      <td>0.0142</td>\n",
       "      <td>0.1283</td>\n",
       "      <td>0.0249</td>\n",
       "      <td>0.0210</td>\n",
       "      <td>0.0351</td>\n",
       "      <td>10.005</td>\n",
       "    </tr>\n",
       "    <tr>\n",
       "      <th>et</th>\n",
       "      <td>Extra Trees Classifier</td>\n",
       "      <td>0.9805</td>\n",
       "      <td>0.7267</td>\n",
       "      <td>0.2212</td>\n",
       "      <td>0.3702</td>\n",
       "      <td>0.2750</td>\n",
       "      <td>0.2658</td>\n",
       "      <td>0.2758</td>\n",
       "      <td>4.281</td>\n",
       "    </tr>\n",
       "    <tr>\n",
       "      <th>ada</th>\n",
       "      <td>Ada Boost Classifier</td>\n",
       "      <td>0.9766</td>\n",
       "      <td>0.6172</td>\n",
       "      <td>0.0061</td>\n",
       "      <td>0.0125</td>\n",
       "      <td>0.0080</td>\n",
       "      <td>-0.0011</td>\n",
       "      <td>-0.0016</td>\n",
       "      <td>1.969</td>\n",
       "    </tr>\n",
       "    <tr>\n",
       "      <th>dt</th>\n",
       "      <td>Decision Tree Classifier</td>\n",
       "      <td>0.9712</td>\n",
       "      <td>0.6071</td>\n",
       "      <td>0.2192</td>\n",
       "      <td>0.1876</td>\n",
       "      <td>0.2013</td>\n",
       "      <td>0.1868</td>\n",
       "      <td>0.1878</td>\n",
       "      <td>0.267</td>\n",
       "    </tr>\n",
       "    <tr>\n",
       "      <th>knn</th>\n",
       "      <td>K Neighbors Classifier</td>\n",
       "      <td>0.8386</td>\n",
       "      <td>0.6315</td>\n",
       "      <td>0.3777</td>\n",
       "      <td>0.0405</td>\n",
       "      <td>0.0731</td>\n",
       "      <td>0.0440</td>\n",
       "      <td>0.0792</td>\n",
       "      <td>1.536</td>\n",
       "    </tr>\n",
       "    <tr>\n",
       "      <th>ridge</th>\n",
       "      <td>Ridge Classifier</td>\n",
       "      <td>0.6587</td>\n",
       "      <td>0.6634</td>\n",
       "      <td>0.5638</td>\n",
       "      <td>0.0277</td>\n",
       "      <td>0.0528</td>\n",
       "      <td>0.0213</td>\n",
       "      <td>0.0608</td>\n",
       "      <td>0.110</td>\n",
       "    </tr>\n",
       "    <tr>\n",
       "      <th>lda</th>\n",
       "      <td>Linear Discriminant Analysis</td>\n",
       "      <td>0.6587</td>\n",
       "      <td>0.6634</td>\n",
       "      <td>0.5638</td>\n",
       "      <td>0.0277</td>\n",
       "      <td>0.0529</td>\n",
       "      <td>0.0213</td>\n",
       "      <td>0.0608</td>\n",
       "      <td>0.151</td>\n",
       "    </tr>\n",
       "    <tr>\n",
       "      <th>lr</th>\n",
       "      <td>Logistic Regression</td>\n",
       "      <td>0.6292</td>\n",
       "      <td>0.6581</td>\n",
       "      <td>0.6066</td>\n",
       "      <td>0.0274</td>\n",
       "      <td>0.0524</td>\n",
       "      <td>0.0207</td>\n",
       "      <td>0.0629</td>\n",
       "      <td>3.989</td>\n",
       "    </tr>\n",
       "    <tr>\n",
       "      <th>nb</th>\n",
       "      <td>Naive Bayes</td>\n",
       "      <td>0.4947</td>\n",
       "      <td>0.6346</td>\n",
       "      <td>0.6898</td>\n",
       "      <td>0.0228</td>\n",
       "      <td>0.0441</td>\n",
       "      <td>0.0118</td>\n",
       "      <td>0.0467</td>\n",
       "      <td>0.113</td>\n",
       "    </tr>\n",
       "    <tr>\n",
       "      <th>svm</th>\n",
       "      <td>SVM - Linear Kernel</td>\n",
       "      <td>0.3067</td>\n",
       "      <td>0.5236</td>\n",
       "      <td>0.7000</td>\n",
       "      <td>0.0118</td>\n",
       "      <td>0.0232</td>\n",
       "      <td>0.0000</td>\n",
       "      <td>0.0000</td>\n",
       "      <td>2.357</td>\n",
       "    </tr>\n",
       "    <tr>\n",
       "      <th>qda</th>\n",
       "      <td>Quadratic Discriminant Analysis</td>\n",
       "      <td>0.0211</td>\n",
       "      <td>0.5577</td>\n",
       "      <td>0.9939</td>\n",
       "      <td>0.0169</td>\n",
       "      <td>0.0332</td>\n",
       "      <td>-0.0001</td>\n",
       "      <td>-0.0010</td>\n",
       "      <td>0.183</td>\n",
       "    </tr>\n",
       "  </tbody>\n",
       "</table>\n",
       "</div>"
      ],
      "text/plain": [
       "                                    Model  Accuracy     AUC  Recall   Prec.  \\\n",
       "dummy                    Dummy Classifier    0.9831  0.5000  0.0000  0.0000   \n",
       "catboost              CatBoost Classifier    0.9827  0.7585  0.1501  0.4590   \n",
       "xgboost         Extreme Gradient Boosting    0.9824  0.7458  0.1359  0.4411   \n",
       "lightgbm  Light Gradient Boosting Machine    0.9822  0.7379  0.1135  0.4138   \n",
       "rf               Random Forest Classifier    0.9819  0.7676  0.1784  0.4069   \n",
       "gbc          Gradient Boosting Classifier    0.9813  0.6523  0.0142  0.1283   \n",
       "et                 Extra Trees Classifier    0.9805  0.7267  0.2212  0.3702   \n",
       "ada                  Ada Boost Classifier    0.9766  0.6172  0.0061  0.0125   \n",
       "dt               Decision Tree Classifier    0.9712  0.6071  0.2192  0.1876   \n",
       "knn                K Neighbors Classifier    0.8386  0.6315  0.3777  0.0405   \n",
       "ridge                    Ridge Classifier    0.6587  0.6634  0.5638  0.0277   \n",
       "lda          Linear Discriminant Analysis    0.6587  0.6634  0.5638  0.0277   \n",
       "lr                    Logistic Regression    0.6292  0.6581  0.6066  0.0274   \n",
       "nb                            Naive Bayes    0.4947  0.6346  0.6898  0.0228   \n",
       "svm                   SVM - Linear Kernel    0.3067  0.5236  0.7000  0.0118   \n",
       "qda       Quadratic Discriminant Analysis    0.0211  0.5577  0.9939  0.0169   \n",
       "\n",
       "              F1   Kappa     MCC  TT (Sec)  \n",
       "dummy     0.0000  0.0000  0.0000     0.078  \n",
       "catboost  0.2246  0.2182  0.2544    30.324  \n",
       "xgboost   0.2059  0.1996  0.2365     0.830  \n",
       "lightgbm  0.1769  0.1708  0.2089     3.189  \n",
       "rf        0.2459  0.2383  0.2602     3.781  \n",
       "gbc       0.0249  0.0210  0.0351    10.005  \n",
       "et        0.2750  0.2658  0.2758     4.281  \n",
       "ada       0.0080 -0.0011 -0.0016     1.969  \n",
       "dt        0.2013  0.1868  0.1878     0.267  \n",
       "knn       0.0731  0.0440  0.0792     1.536  \n",
       "ridge     0.0528  0.0213  0.0608     0.110  \n",
       "lda       0.0529  0.0213  0.0608     0.151  \n",
       "lr        0.0524  0.0207  0.0629     3.989  \n",
       "nb        0.0441  0.0118  0.0467     0.113  \n",
       "svm       0.0232  0.0000  0.0000     2.357  \n",
       "qda       0.0332 -0.0001 -0.0010     0.183  "
      ]
     },
     "metadata": {},
     "output_type": "display_data"
    },
    {
     "output_type": "stream",
     "name": "stderr",
     "output_type": "stream",
     "text": [
      "\rProcessing:   0%|          | 0/69 [00:00<?, ?it/s]\rProcessing:   7%|▋         | 5/69 [00:39<08:30,  7.98s/it]\rProcessing:  10%|█         | 7/69 [00:40<05:25,  5.26s/it]\rProcessing:  13%|█▎        | 9/69 [00:56<06:05,  6.09s/it]\rProcessing:  16%|█▌        | 11/69 [00:57<04:05,  4.23s/it]\rProcessing:  19%|█▉        | 13/69 [00:58<02:51,  3.06s/it]\rProcessing:  22%|██▏       | 15/69 [00:59<02:00,  2.22s/it]\rProcessing:  25%|██▍       | 17/69 [01:01<01:41,  1.95s/it]\rProcessing:  28%|██▊       | 19/69 [01:02<01:13,  1.47s/it]\rProcessing:  30%|███       | 21/69 [01:26<03:41,  4.61s/it]\rProcessing:  33%|███▎      | 23/69 [01:26<02:32,  3.32s/it]\rProcessing:  36%|███▌      | 25/69 [01:27<01:49,  2.48s/it]\rProcessing:  39%|███▉      | 27/69 [01:28<01:17,  1.84s/it]\rProcessing:  42%|████▏     | 29/69 [02:06<04:39,  6.98s/it]\rProcessing:  45%|████▍     | 31/69 [02:07<03:09,  4.99s/it]\rProcessing:  48%|████▊     | 33/69 [02:08<02:15,  3.77s/it]\rProcessing:  51%|█████     | 35/69 [02:09<01:33,  2.76s/it]\rProcessing:  54%|█████▎    | 37/69 [02:29<02:36,  4.89s/it]\rProcessing:  57%|█████▋    | 39/69 [02:30<01:46,  3.56s/it]\rProcessing:  59%|█████▉    | 41/69 [04:10<08:10, 17.50s/it]\rProcessing:  62%|██████▏   | 43/69 [04:11<05:21, 12.35s/it]\rProcessing:  65%|██████▌   | 45/69 [04:12<03:33,  8.88s/it]\rProcessing:  68%|██████▊   | 47/69 [04:13<02:18,  6.32s/it]\rProcessing:  71%|███████   | 49/69 [04:56<03:36, 10.84s/it]\rProcessing:  74%|███████▍  | 51/69 [04:56<02:18,  7.71s/it]\rProcessing:  77%|███████▋  | 53/69 [05:05<01:46,  6.64s/it]\rProcessing:  80%|███████▉  | 55/69 [05:06<01:06,  4.78s/it]\rProcessing:  83%|████████▎ | 57/69 [05:37<01:37,  8.13s/it]\rProcessing:  86%|████████▌ | 59/69 [05:38<00:57,  5.79s/it]\rProcessing:  88%|████████▊ | 61/69 [10:41<06:36, 49.55s/it]\rProcessing:  91%|█████████▏| 63/69 [10:42<03:28, 34.80s/it]\rProcessing:  94%|█████████▍| 65/69 [10:43<01:37, 24.48s/it]\rProcessing:  97%|█████████▋| 67/69 [10:44<00:34, 17.26s/it]\rProcessing: 100%|██████████| 69/69 [10:45<00:00, 12.22s/it]\r                                                           \r"
     ]
    }
   ],
   "source": [
    "est_model = compare_models()"
   ]
  },
  {
   "cell_type": "markdown",
   "metadata": {
    "application/vnd.databricks.v1+cell": {
     "cellMetadata": {},
     "inputWidgets": {},
     "nuid": "89323a96-bdb9-42a9-a691-cb3fad4ace94",
     "showTitle": false,
     "tableResultSettingsMap": {},
     "title": ""
    }
   },
   "source": [
    "# Model Evaluation Summary\n",
    "\n",
    "Several classification models were tested to predict the target variable. The main metrics used to compare models were Accuracy, AUC (Area Under the ROC Curve), Recall, Precision, F1-Score, Kappa, and MCC (Matthews Correlation Coefficient).\n",
    "\n",
    "- **Accuracy:** Measures the overall percentage of correct predictions but can be misleading if the data is imbalanced.\n",
    "- **AUC:** Reflects the model’s ability to distinguish between classes; values closer to 1 are better.\n",
    "- **Recall:** Indicates how well the model detects positive cases.\n",
    "- **Precision:** Measures how many predicted positives are actually correct.\n",
    "- **F1-Score:** Balances Precision and Recall into a single metric.\n",
    "- **Kappa and MCC:** Assess the model's performance accounting for chance agreement and class imbalance.\n",
    "\n",
    "The best performing model for this dataset was **CatBoost Classifier**, showing the highest balance between Recall, Precision, and overall discrimination (AUC). Random Forest and Extra Trees classifiers also performed well.\n",
    "\n",
    "Models with high accuracy but low recall or precision (like the Dummy classifier) are not reliable because they tend to predict only the majority class.\n"
   ]
  },
  {
   "cell_type": "code",
   "execution_count": 0,
   "metadata": {
    "application/vnd.databricks.v1+cell": {
     "cellMetadata": {
      "byteLimit": 2048000,
      "rowLimit": 10000
     },
     "inputWidgets": {},
     "nuid": "d8f0179b-1d21-4248-a0f6-4974d6ddf05e",
     "showTitle": false,
     "tableResultSettingsMap": {},
     "title": ""
    }
   },
   "outputs": [
    {
     "output_type": "display_data",
     "data": {
      "text/html": [
       "<div>\n",
       "<style scoped>\n",
       "    .dataframe tbody tr th:only-of-type {\n",
       "        vertical-align: middle;\n",
       "    }\n",
       "\n",
       "    .dataframe tbody tr th {\n",
       "        vertical-align: top;\n",
       "    }\n",
       "\n",
       "    .dataframe thead th {\n",
       "        text-align: right;\n",
       "    }\n",
       "</style>\n",
       "<table border=\"1\" class=\"dataframe\">\n",
       "  <thead>\n",
       "    <tr style=\"text-align: right;\">\n",
       "      <th></th>\n",
       "      <th>Accuracy</th>\n",
       "      <th>AUC</th>\n",
       "      <th>Recall</th>\n",
       "      <th>Prec.</th>\n",
       "      <th>F1</th>\n",
       "      <th>Kappa</th>\n",
       "      <th>MCC</th>\n",
       "    </tr>\n",
       "    <tr>\n",
       "      <th>Fold</th>\n",
       "      <th></th>\n",
       "      <th></th>\n",
       "      <th></th>\n",
       "      <th></th>\n",
       "      <th></th>\n",
       "      <th></th>\n",
       "      <th></th>\n",
       "    </tr>\n",
       "  </thead>\n",
       "  <tbody>\n",
       "    <tr>\n",
       "      <th>0</th>\n",
       "      <td>0.9832</td>\n",
       "      <td>0.8019</td>\n",
       "      <td>0.1020</td>\n",
       "      <td>0.5000</td>\n",
       "      <td>0.1695</td>\n",
       "      <td>0.1647</td>\n",
       "      <td>0.2205</td>\n",
       "    </tr>\n",
       "    <tr>\n",
       "      <th>1</th>\n",
       "      <td>0.9825</td>\n",
       "      <td>0.7472</td>\n",
       "      <td>0.1837</td>\n",
       "      <td>0.4500</td>\n",
       "      <td>0.2609</td>\n",
       "      <td>0.2536</td>\n",
       "      <td>0.2801</td>\n",
       "    </tr>\n",
       "    <tr>\n",
       "      <th>2</th>\n",
       "      <td>0.9839</td>\n",
       "      <td>0.7528</td>\n",
       "      <td>0.2000</td>\n",
       "      <td>0.5882</td>\n",
       "      <td>0.2985</td>\n",
       "      <td>0.2924</td>\n",
       "      <td>0.3369</td>\n",
       "    </tr>\n",
       "    <tr>\n",
       "      <th>3</th>\n",
       "      <td>0.9822</td>\n",
       "      <td>0.7808</td>\n",
       "      <td>0.1400</td>\n",
       "      <td>0.4375</td>\n",
       "      <td>0.2121</td>\n",
       "      <td>0.2055</td>\n",
       "      <td>0.2405</td>\n",
       "    </tr>\n",
       "    <tr>\n",
       "      <th>4</th>\n",
       "      <td>0.9825</td>\n",
       "      <td>0.6810</td>\n",
       "      <td>0.1200</td>\n",
       "      <td>0.4615</td>\n",
       "      <td>0.1905</td>\n",
       "      <td>0.1847</td>\n",
       "      <td>0.2291</td>\n",
       "    </tr>\n",
       "    <tr>\n",
       "      <th>5</th>\n",
       "      <td>0.9818</td>\n",
       "      <td>0.7849</td>\n",
       "      <td>0.1429</td>\n",
       "      <td>0.3889</td>\n",
       "      <td>0.2090</td>\n",
       "      <td>0.2017</td>\n",
       "      <td>0.2281</td>\n",
       "    </tr>\n",
       "    <tr>\n",
       "      <th>6</th>\n",
       "      <td>0.9818</td>\n",
       "      <td>0.6889</td>\n",
       "      <td>0.1429</td>\n",
       "      <td>0.3889</td>\n",
       "      <td>0.2090</td>\n",
       "      <td>0.2017</td>\n",
       "      <td>0.2281</td>\n",
       "    </tr>\n",
       "    <tr>\n",
       "      <th>7</th>\n",
       "      <td>0.9842</td>\n",
       "      <td>0.8078</td>\n",
       "      <td>0.2245</td>\n",
       "      <td>0.5789</td>\n",
       "      <td>0.3235</td>\n",
       "      <td>0.3171</td>\n",
       "      <td>0.3542</td>\n",
       "    </tr>\n",
       "    <tr>\n",
       "      <th>8</th>\n",
       "      <td>0.9822</td>\n",
       "      <td>0.7258</td>\n",
       "      <td>0.1020</td>\n",
       "      <td>0.3846</td>\n",
       "      <td>0.1613</td>\n",
       "      <td>0.1553</td>\n",
       "      <td>0.1915</td>\n",
       "    </tr>\n",
       "    <tr>\n",
       "      <th>9</th>\n",
       "      <td>0.9822</td>\n",
       "      <td>0.8140</td>\n",
       "      <td>0.1429</td>\n",
       "      <td>0.4118</td>\n",
       "      <td>0.2121</td>\n",
       "      <td>0.2052</td>\n",
       "      <td>0.2353</td>\n",
       "    </tr>\n",
       "    <tr>\n",
       "      <th>Mean</th>\n",
       "      <td>0.9827</td>\n",
       "      <td>0.7585</td>\n",
       "      <td>0.1501</td>\n",
       "      <td>0.4590</td>\n",
       "      <td>0.2246</td>\n",
       "      <td>0.2182</td>\n",
       "      <td>0.2544</td>\n",
       "    </tr>\n",
       "    <tr>\n",
       "      <th>Std</th>\n",
       "      <td>0.0008</td>\n",
       "      <td>0.0455</td>\n",
       "      <td>0.0386</td>\n",
       "      <td>0.0714</td>\n",
       "      <td>0.0506</td>\n",
       "      <td>0.0503</td>\n",
       "      <td>0.0501</td>\n",
       "    </tr>\n",
       "  </tbody>\n",
       "</table>\n",
       "</div>"
      ],
      "text/plain": [
       "      Accuracy     AUC  Recall   Prec.      F1   Kappa     MCC\n",
       "Fold                                                          \n",
       "0       0.9832  0.8019  0.1020  0.5000  0.1695  0.1647  0.2205\n",
       "1       0.9825  0.7472  0.1837  0.4500  0.2609  0.2536  0.2801\n",
       "2       0.9839  0.7528  0.2000  0.5882  0.2985  0.2924  0.3369\n",
       "3       0.9822  0.7808  0.1400  0.4375  0.2121  0.2055  0.2405\n",
       "4       0.9825  0.6810  0.1200  0.4615  0.1905  0.1847  0.2291\n",
       "5       0.9818  0.7849  0.1429  0.3889  0.2090  0.2017  0.2281\n",
       "6       0.9818  0.6889  0.1429  0.3889  0.2090  0.2017  0.2281\n",
       "7       0.9842  0.8078  0.2245  0.5789  0.3235  0.3171  0.3542\n",
       "8       0.9822  0.7258  0.1020  0.3846  0.1613  0.1553  0.1915\n",
       "9       0.9822  0.8140  0.1429  0.4118  0.2121  0.2052  0.2353\n",
       "Mean    0.9827  0.7585  0.1501  0.4590  0.2246  0.2182  0.2544\n",
       "Std     0.0008  0.0455  0.0386  0.0714  0.0506  0.0503  0.0501"
      ]
     },
     "metadata": {},
     "output_type": "display_data"
    },
    {
     "output_type": "stream",
     "name": "stderr",
     "output_type": "stream",
     "text": [
      "\rProcessing:   0%|          | 0/4 [00:00<?, ?it/s]\rProcessing:  75%|███████▌  | 3/4 [05:00<01:40, 100.19s/it]\rProcessing: 100%|██████████| 4/4 [05:33<00:00, 78.46s/it] \r                                                         \r"
     ]
    },
    {
     "output_type": "stream",
     "name": "stdout",
     "output_type": "stream",
     "text": [
      "Pipeline(memory=Memory(location=None),\n         steps=[('numerical_imputer',\n                 TransformerWrapper(exclude=None,\n                                    include=['Gender', 'Car', 'Reality',\n                                             'ChldNo', 'inc', 'famsize',\n                                             'begin_month',\n                                             'inctp_Commercial associate',\n                                             'inctp_Pensioner',\n                                             'inctp_State servant',\n                                             'inctp_Student', 'inctp_Working',\n                                             'edutp_Academic degree',\n                                             'edutp_Higher education',\n                                             'edutp_Incomplete higher',\n                                             'edutp_L...\n                 TransformerWrapper(exclude=None, include=None,\n                                    transformer=FixImbalancer(estimator=SMOTE(k_neighbors=5,\n                                                                              random_state=123,\n                                                                              sampling_strategy='auto')))),\n                ('clean_column_names',\n                 TransformerWrapper(exclude=None, include=None,\n                                    transformer=CleanColumnNames(match='[\\\\]\\\\[\\\\,\\\\{\\\\}\\\\\"\\\\:]+'))),\n                ('actual_estimator',\n                 <catboost.core.CatBoostClassifier object at 0xff2fe407eed0>)],\n         verbose=False)\n"
     ]
    }
   ],
   "source": [
    "catboost_model = create_model('catboost')\n",
    "\n",
    "catboost_model = finalize_model(catboost_model)\n",
    "\n",
    "print(catboost_model)"
   ]
  },
  {
   "cell_type": "code",
   "execution_count": 0,
   "metadata": {
    "application/vnd.databricks.v1+cell": {
     "cellMetadata": {
      "byteLimit": 2048000,
      "rowLimit": 10000
     },
     "inputWidgets": {},
     "nuid": "9e7c12a9-918b-4f59-b4bb-9ed399cb1a6c",
     "showTitle": false,
     "tableResultSettingsMap": {},
     "title": ""
    }
   },
   "outputs": [
    {
     "output_type": "display_data",
     "data": {
      "application/vnd.jupyter.widget-view+json": {
       "model_id": "1deb8d1393ee476587d5c442d4f7f3b2",
       "version_major": 2,
       "version_minor": 0
      },
      "text/plain": [
       "interactive(children=(ToggleButtons(description='Plot Type:', icons=('',), options=(('Pipeline Plot', 'pipelin…"
      ]
     },
     "metadata": {},
     "output_type": "display_data"
    }
   ],
   "source": [
    "evaluate_model(catboost_model)"
   ]
  },
  {
   "cell_type": "code",
   "execution_count": 0,
   "metadata": {
    "application/vnd.databricks.v1+cell": {
     "cellMetadata": {
      "byteLimit": 2048000,
      "rowLimit": 10000
     },
     "inputWidgets": {},
     "nuid": "c23b2de4-ee93-42c4-b967-9fccdf24db61",
     "showTitle": false,
     "tableResultSettingsMap": {},
     "title": ""
    }
   },
   "outputs": [
    {
     "output_type": "display_data",
     "data": {
      "text/plain": [
       "''"
      ]
     },
     "metadata": {},
     "output_type": "display_data"
    },
    {
     "output_type": "display_data",
     "data": {
      "image/png": "[encoded data removed]",
      "text/plain": [
       "<Figure size 800x550 with 1 Axes>"
      ]
     },
     "metadata": {},
     "output_type": "display_data"
    }
   ],
   "source": [
    "plot_model(catboost_model, plot = 'auc')"
   ]
  },
  {
   "cell_type": "code",
   "execution_count": 0,
   "metadata": {
    "application/vnd.databricks.v1+cell": {
     "cellMetadata": {
      "byteLimit": 2048000,
      "rowLimit": 10000
     },
     "inputWidgets": {},
     "nuid": "8ce87cc4-f132-4eeb-9274-7a418612c6dc",
     "showTitle": false,
     "tableResultSettingsMap": {},
     "title": ""
    }
   },
   "outputs": [
    {
     "output_type": "display_data",
     "data": {
      "text/plain": [
       "''"
      ]
     },
     "metadata": {},
     "output_type": "display_data"
    },
    {
     "output_type": "display_data",
     "data": {
      "image/png": "[encoded data removed]",
      "text/plain": [
       "<Figure size 800x550 with 1 Axes>"
      ]
     },
     "metadata": {},
     "output_type": "display_data"
    }
   ],
   "source": [
    "plot_model(catboost_model, plot = 'pr')"
   ]
  },
  {
   "cell_type": "code",
   "execution_count": 0,
   "metadata": {
    "application/vnd.databricks.v1+cell": {
     "cellMetadata": {
      "byteLimit": 2048000,
      "rowLimit": 10000
     },
     "inputWidgets": {},
     "nuid": "7a2175b3-98ba-4afb-97a5-c88b4779741a",
     "showTitle": false,
     "tableResultSettingsMap": {},
     "title": ""
    }
   },
   "outputs": [
    {
     "output_type": "display_data",
     "data": {
      "text/plain": [
       "''"
      ]
     },
     "metadata": {},
     "output_type": "display_data"
    },
    {
     "output_type": "display_data",
     "data": {
      "image/png": "[encoded data removed]",
      "text/plain": [
       "<Figure size 800x500 with 1 Axes>"
      ]
     },
     "metadata": {},
     "output_type": "display_data"
    }
   ],
   "source": [
    "plot_model(catboost_model, plot='feature')"
   ]
  },
  {
   "cell_type": "code",
   "execution_count": 0,
   "metadata": {
    "application/vnd.databricks.v1+cell": {
     "cellMetadata": {
      "byteLimit": 2048000,
      "rowLimit": 10000
     },
     "inputWidgets": {},
     "nuid": "472bfe2f-56c1-43d6-99c2-7fc1ff1177ad",
     "showTitle": false,
     "tableResultSettingsMap": {},
     "title": ""
    }
   },
   "outputs": [
    {
     "output_type": "display_data",
     "data": {
      "text/plain": [
       "''"
      ]
     },
     "metadata": {},
     "output_type": "display_data"
    },
    {
     "output_type": "display_data",
     "data": {
      "image/png": "[encoded data removed]",
      "text/plain": [
       "<Figure size 800x550 with 1 Axes>"
      ]
     },
     "metadata": {},
     "output_type": "display_data"
    }
   ],
   "source": [
    "plot_model(catboost_model, plot = 'confusion_matrix')"
   ]
  },
  {
   "cell_type": "code",
   "execution_count": 0,
   "metadata": {
    "application/vnd.databricks.v1+cell": {
     "cellMetadata": {},
     "inputWidgets": {},
     "nuid": "e0bb717d-2d2d-4a59-8ebd-c904dec0c42a",
     "showTitle": false,
     "tableResultSettingsMap": {},
     "title": ""
    }
   },
   "outputs": [],
   "source": []
  }
 ],
 "metadata": {
  "application/vnd.databricks.v1+notebook": {
   "computePreferences": null,
   "dashboards": [],
   "environmentMetadata": {
    "base_environment": "",
    "environment_version": "2"
   },
   "inputWidgetPreferences": null,
   "language": "python",
   "notebookMetadata": {
    "pythonIndentUnit": 4
   },
   "notebookName": "Credit_Card_Approval_Predictions_0.98Accuracy_PyCaretLowCode",
   "widgets": {}
  },
  "language_info": {
   "name": "python"
  }
 },
 "nbformat": 4,
 "nbformat_minor": 0
}
