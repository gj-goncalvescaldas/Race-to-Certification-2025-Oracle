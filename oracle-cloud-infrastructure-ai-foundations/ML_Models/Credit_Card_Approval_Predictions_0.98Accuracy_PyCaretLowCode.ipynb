{
 "cells": [
  {
   "cell_type": "markdown",
   "metadata": {
    "application/vnd.databricks.v1+cell": {
     "cellMetadata": {
      "byteLimit": 2048000,
      "rowLimit": 10000
     },
     "inputWidgets": {},
     "nuid": "f4a64796-0c49-4887-8610-f33769153034",
     "showTitle": false,
     "tableResultSettingsMap": {},
     "title": ""
    }
   },
   "source": [
    "## Data Dictionary\n",
    "\n",
    "Below is a detailed description of each feature in both tables included in the Credit Card Approval Prediction dataset:\n",
    "\n",
    "### application_record.csv\n",
    "\n",
    "| Feature Name         | Explanation                | Remarks                                                                                           |\n",
    "|----------------------|---------------------------|---------------------------------------------------------------------------------------------------|\n",
    "| ID                   | Client number             | Unique identifier for each client                                                                  |\n",
    "| CODE_GENDER          | Gender                    | Values: M (male), F (female)                                                                      |\n",
    "| FLAG_OWN_CAR         | Is there a car            | 1 if the client owns a car, 0 otherwise                                                           |\n",
    "| FLAG_OWN_REALTY      | Is there a property       | 1 if the client owns property, 0 otherwise                                                        |\n",
    "| CNT_CHILDREN         | Number of children        | Number of children the client has                                                                  |\n",
    "| AMT_INCOME_TOTAL     | Annual income             | Client's annual income                                                                            |\n",
    "| NAME_INCOME_TYPE     | Income category           | Type of income: e.g., Working, Commercial associate, Pensioner, State servant, Unemployed         |\n",
    "| NAME_EDUCATION_TYPE  | Education level           | Level of education: e.g., Higher education, Secondary, Academic degree, Lower secondary           |\n",
    "| NAME_FAMILY_STATUS   | Marital status            | Client's family status: e.g., Single, Married, Civil marriage, Separated, Widow                   |\n",
    "| NAME_HOUSING_TYPE    | Way of living             | Type of housing: e.g., Own house/apartment, With parents, Municipal, Co-op, Rented, Office apt    |\n",
    "| DAYS_BIRTH           | Birthday                  | Counted backwards from current day (0); negative values, -1 means yesterday                       |\n",
    "| DAYS_EMPLOYED        | Start date of employment  | Counted backwards from current day (0). If positive, client is currently unemployed               |\n",
    "| FLAG_MOBIL           | Is there a mobile phone   | 1 if the client has a mobile phone, 0 otherwise                                                   |\n",
    "| FLAG_WORK_PHONE      | Is there a work phone     | 1 if the client has a work phone, 0 otherwise                                                     |\n",
    "| FLAG_PHONE           | Is there a phone          | 1 if the client has a phone, 0 otherwise                                                          |\n",
    "| FLAG_EMAIL           | Is there an email         | 1 if the client has an email address, 0 otherwise                                                 |\n",
    "| OCCUPATION_TYPE      | Occupation                | Client's occupation                                                                               |\n",
    "| CNT_FAM_MEMBERS      | Family size               | Number of family members                                                                          |\n",
    "\n",
    "### credit_record.csv\n",
    "\n",
    "| Feature Name    | Explanation              | Remarks                                                                                                                                                                                      |\n",
    "|-----------------|-------------------------|----------------------------------------------------------------------------------------------------------------------------------------------------------------------------------------------|\n",
    "| ID              | Client number           | Unique identifier for each client                                                                                                                      |\n",
    "| MONTHS_BALANCE  | Record month            | The month of the extracted data is the starting point; 0 is the current month, -1 is the previous month, and so on                                    |\n",
    "| STATUS          | Status                  | Payment status: <br>0 = 1–29 days past due <br>1 = 30–59 days past due <br>2 = 60–89 days overdue <br>3 = 90–119 days overdue <br>4 = 120–149 days overdue <br>5 = Overdue or bad debts, write-offs for more than 150 days <br>C = Paid off that month <br>X = No loan for the month |\n",
    "\n",
    "---\n",
    "\n",
    "This data dictionary provides clarity on the attributes available for modeling and feature engineering in the credit approval prediction task.\n"
   ]
  },
  {
   "cell_type": "code",
   "execution_count": 0,
   "metadata": {
    "application/vnd.databricks.v1+cell": {
     "cellMetadata": {
      "byteLimit": 2048000,
      "rowLimit": 10000
     },
     "inputWidgets": {},
     "nuid": "038bc0bb-4340-4e35-8afa-b2a3f4d527f0",
     "showTitle": false,
     "tableResultSettingsMap": {},
     "title": ""
    }
   },
   "outputs": [],
   "source": [
    "%pip install xgboost lightgbm catboost  --quiet"
   ]
  },
  {
   "cell_type": "code",
   "execution_count": 0,
   "metadata": {
    "application/vnd.databricks.v1+cell": {
     "cellMetadata": {
      "byteLimit": 2048000,
      "rowLimit": 10000
     },
     "inputWidgets": {},
     "nuid": "c669fa7b-05b2-4e84-a5e9-ecf89c2a3e49",
     "showTitle": false,
     "tableResultSettingsMap": {},
     "title": ""
    }
   },
   "outputs": [],
   "source": [
    "%pip install pycaret --quiet"
   ]
  },
  {
   "cell_type": "code",
   "execution_count": 0,
   "metadata": {
    "application/vnd.databricks.v1+cell": {
     "cellMetadata": {
      "byteLimit": 2048000,
      "rowLimit": 10000
     },
     "inputWidgets": {},
     "nuid": "7c06985c-79b6-4ad0-a061-1558e847a6b2",
     "showTitle": false,
     "tableResultSettingsMap": {},
     "title": ""
    }
   },
   "outputs": [],
   "source": [
    "import warnings\n",
    "warnings.filterwarnings('ignore')\n",
    "import pandas as pd\n",
    "import numpy as np\n",
    "import pandas as pd   \n",
    "import matplotlib.pyplot as plt\n",
    "import seaborn as sns\n",
    "\n",
    "from sklearn.model_selection import train_test_split\n",
    "from sklearn.metrics import accuracy_score, confusion_matrix\n",
    "from sklearn.linear_model import LogisticRegression\n",
    "from sklearn.tree import DecisionTreeClassifier\n",
    "from sklearn import svm\n",
    "from sklearn.ensemble import RandomForestClassifier\n",
    "from sklearn.preprocessing import LabelEncoder\n",
    "\n",
    "from xgboost import XGBClassifier\n",
    "from lightgbm import LGBMClassifier\n",
    "from catboost import CatBoostClassifier\n",
    "\n",
    "import pycaret\n",
    "from pycaret.classification import *"
   ]
  },
  {
   "cell_type": "code",
   "execution_count": 0,
   "metadata": {
    "application/vnd.databricks.v1+cell": {
     "cellMetadata": {
      "byteLimit": 2048000,
      "rowLimit": 10000
     },
     "inputWidgets": {},
     "nuid": "171d7ac8-a9fb-4715-992b-2db9590076ab",
     "showTitle": false,
     "tableResultSettingsMap": {},
     "title": ""
    }
   },
   "outputs": [],
   "source": [
    "record = pd.read_csv(\"Data/credit_record.csv\")\n",
    "display(record.head())"
   ]
  },
  {
   "cell_type": "code",
   "execution_count": 0,
   "metadata": {
    "application/vnd.databricks.v1+cell": {
     "cellMetadata": {
      "byteLimit": 2048000,
      "rowLimit": 10000
     },
     "inputWidgets": {},
     "nuid": "e5c51645-5b5b-43c9-845b-6745eeefafbd",
     "showTitle": false,
     "tableResultSettingsMap": {},
     "title": ""
    }
   },
   "outputs": [],
   "source": [
    "data = pd.read_csv(\"Data/application_record.csv\")\n",
    "data.head()"
   ]
  },
  {
   "cell_type": "code",
   "execution_count": 0,
   "metadata": {
    "application/vnd.databricks.v1+cell": {
     "cellMetadata": {
      "byteLimit": 2048000,
      "rowLimit": 10000
     },
     "inputWidgets": {},
     "nuid": "36fa6590-ba1b-4fce-8017-c6b88707ce51",
     "showTitle": false,
     "tableResultSettingsMap": {},
     "title": ""
    }
   },
   "outputs": [],
   "source": [
    "record.isnull().sum()"
   ]
  },
  {
   "cell_type": "code",
   "execution_count": 0,
   "metadata": {
    "application/vnd.databricks.v1+cell": {
     "cellMetadata": {
      "byteLimit": 2048000,
      "rowLimit": 10000
     },
     "inputWidgets": {},
     "nuid": "9459f502-e8e4-4583-adf0-2e1dd20ba7bb",
     "showTitle": false,
     "tableResultSettingsMap": {},
     "title": ""
    }
   },
   "outputs": [],
   "source": [
    "for col in record.columns:\n",
    "    print(f\"\\n Column: {col}\")\n",
    "    print(record[col].unique())"
   ]
  },
  {
   "cell_type": "markdown",
   "metadata": {
    "application/vnd.databricks.v1+cell": {
     "cellMetadata": {
      "byteLimit": 2048000,
      "rowLimit": 10000
     },
     "inputWidgets": {},
     "nuid": "a14b22dd-b819-481a-ad64-061a59edf149",
     "showTitle": false,
     "tableResultSettingsMap": {},
     "title": ""
    }
   },
   "source": [
    "### credit_record.csv\n",
    "\n",
    "| Feature Name    | Explanation              | Remarks                                                                                                                                                                                      |\n",
    "|-----------------|-------------------------|----------------------------------------------------------------------------------------------------------------------------------------------------------------------------------------------|\n",
    "| ID              | Client number           | Unique identifier for each client                                                                                                                      |\n",
    "| MONTHS_BALANCE  | Record month            | The month of the extracted data is the starting point; 0 is the current month, -1 is the previous month, and so on                                    |\n",
    "| STATUS          | Status                  | Payment status: <br>0 = 1–29 days past due <br>1 = 30–59 days past due <br>2 = 60–89 days overdue <br>3 = 90–119 days overdue <br>4 = 120–149 days overdue <br>5 = Overdue or bad debts, write-offs for more than 150 days <br>C = Paid off that month <br>X = No loan for the month |\n",
    "\n",
    "---"
   ]
  },
  {
   "cell_type": "markdown",
   "metadata": {
    "application/vnd.databricks.v1+cell": {
     "cellMetadata": {},
     "inputWidgets": {},
     "nuid": "ed3bb50b-63fd-43da-9f5b-ac3e5590ef79",
     "showTitle": false,
     "tableResultSettingsMap": {},
     "title": ""
    }
   },
   "source": [
    "#Pre-Processing"
   ]
  },
  {
   "cell_type": "code",
   "execution_count": 0,
   "metadata": {
    "application/vnd.databricks.v1+cell": {
     "cellMetadata": {
      "byteLimit": 2048000,
      "rowLimit": 10000
     },
     "inputWidgets": {},
     "nuid": "75680219-7a0c-4d59-964f-2361cb8b06f3",
     "showTitle": false,
     "tableResultSettingsMap": {},
     "title": ""
    }
   },
   "outputs": [],
   "source": [
    "begin_month = (\n",
    "    record.groupby(\"ID\")['MONTHS_BALANCE']\n",
    "    .min()\n",
    "    .rename(\"begin_month\")\n",
    "    .to_frame()\n",
    ")\n",
    "begin_month.head()"
   ]
  },
  {
   "cell_type": "code",
   "execution_count": 0,
   "metadata": {
    "application/vnd.databricks.v1+cell": {
     "cellMetadata": {
      "byteLimit": 2048000,
      "rowLimit": 10000
     },
     "inputWidgets": {},
     "nuid": "259fafc8-2dbc-4384-9b61-5470344ec324",
     "showTitle": false,
     "tableResultSettingsMap": {},
     "title": ""
    }
   },
   "outputs": [],
   "source": [
    "\n",
    "record['dep_value'] = None\n",
    "record.loc[record['STATUS'].isin(['2', '3', '4', '5']), 'dep_value'] = 'Yes'\n",
    "\n",
    "cpunt = record.groupby('ID')['dep_value'].apply(lambda x: 'Yes' if (x == 'Yes').any() else 'No')\n",
    "cpunt = cpunt.to_frame()\n"
   ]
  },
  {
   "cell_type": "code",
   "execution_count": 0,
   "metadata": {
    "application/vnd.databricks.v1+cell": {
     "cellMetadata": {
      "byteLimit": 2048000,
      "rowLimit": 10000
     },
     "inputWidgets": {},
     "nuid": "27483bbb-3965-400b-ad05-75fcbde7afb4",
     "showTitle": false,
     "tableResultSettingsMap": {},
     "title": ""
    }
   },
   "outputs": [],
   "source": [
    "print(cpunt['dep_value'].value_counts())\n",
    "cpunt['dep_value'].value_counts(normalize=True)"
   ]
  },
  {
   "cell_type": "code",
   "execution_count": 0,
   "metadata": {
    "application/vnd.databricks.v1+cell": {
     "cellMetadata": {
      "byteLimit": 2048000,
      "rowLimit": 10000
     },
     "inputWidgets": {},
     "nuid": "aa9acf45-2770-48b8-8399-80fb90b5bb73",
     "showTitle": false,
     "tableResultSettingsMap": {
      "0": {
       "dataGridStateBlob": "{\"version\":1,\"tableState\":{\"columnPinning\":{\"left\":[\"#row_number#\"],\"right\":[]},\"columnSizing\":{},\"columnVisibility\":{}},\"settings\":{\"columns\":{}},\"syncTimestamp\":1752515560878}",
       "filterBlob": null,
       "queryPlanFiltersBlob": null,
       "tableResultIndex": 0
      }
     },
     "title": ""
    }
   },
   "outputs": [],
   "source": [
    "data = pd.merge(data, begin_month, how = \"left\", on = \"ID\")\n",
    "data = pd.merge(data, cpunt, how = \"inner\", on = \"ID\" )\n",
    "data['label'] = data['dep_value'].map({'Yes': 1, 'No': 0})\n",
    "display(data.head())"
   ]
  },
  {
   "cell_type": "code",
   "execution_count": 0,
   "metadata": {
    "application/vnd.databricks.v1+cell": {
     "cellMetadata": {
      "byteLimit": 2048000,
      "rowLimit": 10000
     },
     "inputWidgets": {},
     "nuid": "304896cb-6ded-4961-8d0d-de8beea81e92",
     "showTitle": false,
     "tableResultSettingsMap": {},
     "title": ""
    }
   },
   "outputs": [],
   "source": [
    "data.info()"
   ]
  },
  {
   "cell_type": "code",
   "execution_count": 0,
   "metadata": {
    "application/vnd.databricks.v1+cell": {
     "cellMetadata": {
      "byteLimit": 2048000,
      "rowLimit": 10000
     },
     "inputWidgets": {},
     "nuid": "d6c5355f-c61b-4e94-bbba-a174c67b65cb",
     "showTitle": false,
     "tableResultSettingsMap": {},
     "title": ""
    }
   },
   "outputs": [],
   "source": [
    "data = data.rename(columns={'CODE_GENDER':'Gender','FLAG_OWN_CAR':'Car','FLAG_OWN_REALTY':'Reality',\n",
    "                         'CNT_CHILDREN':'ChldNo','AMT_INCOME_TOTAL':'inc',\n",
    "                         'NAME_EDUCATION_TYPE':'edutp','NAME_FAMILY_STATUS':'famtp',\n",
    "                        'NAME_HOUSING_TYPE':'houtp','FLAG_EMAIL':'email',\n",
    "                         'NAME_INCOME_TYPE':'inctp','FLAG_WORK_PHONE':'wkphone',\n",
    "                         'FLAG_PHONE':'phone','CNT_FAM_MEMBERS':'famsize',\n",
    "                        'OCCUPATION_TYPE':'occyp'\n",
    "                        })"
   ]
  },
  {
   "cell_type": "code",
   "execution_count": 0,
   "metadata": {
    "application/vnd.databricks.v1+cell": {
     "cellMetadata": {
      "byteLimit": 2048000,
      "rowLimit": 10000
     },
     "inputWidgets": {},
     "nuid": "1a54acff-b378-4d5b-9ca4-c7dc7e6a6cf1",
     "showTitle": false,
     "tableResultSettingsMap": {},
     "title": ""
    }
   },
   "outputs": [],
   "source": [
    "data.isnull().sum()"
   ]
  },
  {
   "cell_type": "markdown",
   "metadata": {
    "application/vnd.databricks.v1+cell": {
     "cellMetadata": {
      "byteLimit": 2048000,
      "rowLimit": 10000
     },
     "inputWidgets": {},
     "nuid": "75da7962-e6fd-4eaf-be59-1e88771797f4",
     "showTitle": false,
     "tableResultSettingsMap": {},
     "title": ""
    }
   },
   "source": [
    "Dont forget Change days_employed"
   ]
  },
  {
   "cell_type": "code",
   "execution_count": 0,
   "metadata": {
    "application/vnd.databricks.v1+cell": {
     "cellMetadata": {
      "byteLimit": 2048000,
      "rowLimit": 10000
     },
     "inputWidgets": {},
     "nuid": "a3d250e9-e482-41f4-87b7-6a29093a5653",
     "showTitle": false,
     "tableResultSettingsMap": {},
     "title": ""
    }
   },
   "outputs": [],
   "source": [
    "data = data.drop(columns = ['dep_value', 'email', 'phone', 'wkphone', 'FLAG_MOBIL'])"
   ]
  },
  {
   "cell_type": "code",
   "execution_count": 0,
   "metadata": {
    "application/vnd.databricks.v1+cell": {
     "cellMetadata": {
      "byteLimit": 2048000,
      "rowLimit": 10000
     },
     "inputWidgets": {},
     "nuid": "d1047005-7a95-4bd4-bda7-82b9e061d26d",
     "showTitle": false,
     "tableResultSettingsMap": {},
     "title": ""
    }
   },
   "outputs": [],
   "source": [
    "data.info()"
   ]
  },
  {
   "cell_type": "code",
   "execution_count": 0,
   "metadata": {
    "application/vnd.databricks.v1+cell": {
     "cellMetadata": {
      "byteLimit": 2048000,
      "rowLimit": 10000
     },
     "inputWidgets": {},
     "nuid": "1dc1a3c1-d9c2-4168-85ec-f6844a88d791",
     "showTitle": false,
     "tableResultSettingsMap": {},
     "title": ""
    }
   },
   "outputs": [],
   "source": [
    "display(data.head()) "
   ]
  },
  {
   "cell_type": "code",
   "execution_count": 0,
   "metadata": {
    "application/vnd.databricks.v1+cell": {
     "cellMetadata": {
      "byteLimit": 2048000,
      "rowLimit": 10000
     },
     "inputWidgets": {},
     "nuid": "0d37ec23-40a7-444b-b47b-a182a6d63917",
     "showTitle": false,
     "tableResultSettingsMap": {},
     "title": ""
    }
   },
   "outputs": [],
   "source": [
    "data['occyp'] = data['occyp'].fillna('Unknown')\n",
    "print(\"\\n Gender :\", data['Gender'].unique())\n",
    "print(\"\\n Car :\", data['Car'].unique())\n",
    "print(\"\\n Reality :\", data['Reality'].unique())\n",
    "print(\"\\n ChldNo :\", data['ChldNo'].unique())\n",
    "print(\"\\n inctp :\", data['inctp'].unique())\n",
    "print(\"\\n edutp :\", data['edutp'].unique())\n",
    "print(\"\\n famtp :\", data['famtp'].unique())\n",
    "print(\"\\n houtp :\", data['houtp'].unique())\n",
    "print(\"\\n occyp :\", data['occyp'].unique())"
   ]
  },
  {
   "cell_type": "code",
   "execution_count": 0,
   "metadata": {
    "application/vnd.databricks.v1+cell": {
     "cellMetadata": {
      "byteLimit": 2048000,
      "rowLimit": 10000
     },
     "inputWidgets": {},
     "nuid": "479bd1be-d0da-4298-b694-85136d042b9f",
     "showTitle": false,
     "tableResultSettingsMap": {},
     "title": ""
    }
   },
   "outputs": [],
   "source": [
    "\n",
    "\n",
    "data['Gender'] = data['Gender'].map({'F': 0, 'M': 1})\n",
    "data['Car'] = data['Car'].map({'N': 0, 'Y': 1})\n",
    "data['Reality'] = data['Reality'].map({'N': 0, 'Y': 1})\n",
    "\n",
    "data = pd.get_dummies(data, columns = ['inctp', 'edutp', 'famtp', 'houtp', 'occyp'], dtype='int32')\n"
   ]
  },
  {
   "cell_type": "code",
   "execution_count": 0,
   "metadata": {
    "application/vnd.databricks.v1+cell": {
     "cellMetadata": {
      "byteLimit": 2048000,
      "rowLimit": 10000
     },
     "inputWidgets": {},
     "nuid": "1e2cee23-ec22-4c7f-9afd-d7c12d34cfc4",
     "showTitle": false,
     "tableResultSettingsMap": {},
     "title": ""
    }
   },
   "outputs": [],
   "source": [
    "for col in ['Gender', 'Car', 'Reality']:\n",
    "    data[col] = data[col].astype('int32')\n"
   ]
  },
  {
   "cell_type": "code",
   "execution_count": 0,
   "metadata": {
    "application/vnd.databricks.v1+cell": {
     "cellMetadata": {
      "byteLimit": 2048000,
      "rowLimit": 10000
     },
     "inputWidgets": {},
     "nuid": "8694c450-4dbc-4d86-8fdf-9dd57b39d800",
     "showTitle": false,
     "tableResultSettingsMap": {},
     "title": ""
    }
   },
   "outputs": [],
   "source": [
    "display(data.head())"
   ]
  },
  {
   "cell_type": "code",
   "execution_count": 0,
   "metadata": {
    "application/vnd.databricks.v1+cell": {
     "cellMetadata": {
      "byteLimit": 2048000,
      "rowLimit": 10000
     },
     "inputWidgets": {},
     "nuid": "d14f4107-c5e5-45dc-b8fb-7e27d36f7c39",
     "showTitle": false,
     "tableResultSettingsMap": {},
     "title": ""
    }
   },
   "outputs": [],
   "source": [
    "data['EMPLOYED_FLAG'] = (data['DAYS_EMPLOYED'] != 365243).astype(int)"
   ]
  },
  {
   "cell_type": "code",
   "execution_count": 0,
   "metadata": {
    "application/vnd.databricks.v1+cell": {
     "cellMetadata": {
      "byteLimit": 2048000,
      "rowLimit": 10000
     },
     "inputWidgets": {},
     "nuid": "dd40a570-1809-41f5-8aea-80de27e583ea",
     "showTitle": false,
     "tableResultSettingsMap": {},
     "title": ""
    }
   },
   "outputs": [],
   "source": [
    "data['AGE_YEARS'] = (-data['DAYS_BIRTH']) // 365\n",
    "data['YEARS_EMPLOYED'] = np.where(data['DAYS_EMPLOYED'] == 365243, 0, -data['DAYS_EMPLOYED'] // 365)\n",
    "data = data.drop(columns = ['DAYS_BIRTH', 'DAYS_EMPLOYED'])\n",
    "\n",
    "print(\"\\n YEARS_EMPLOYED: \", data['YEARS_EMPLOYED'].unique())"
   ]
  },
  {
   "cell_type": "code",
   "execution_count": 0,
   "metadata": {
    "application/vnd.databricks.v1+cell": {
     "cellMetadata": {
      "byteLimit": 2048000,
      "rowLimit": 10000
     },
     "inputWidgets": {},
     "nuid": "8a50e402-9ae9-4e35-af07-d10f447fb063",
     "showTitle": false,
     "tableResultSettingsMap": {
      "0": {
       "dataGridStateBlob": "{\"version\":1,\"tableState\":{\"columnPinning\":{\"left\":[\"#row_number#\"],\"right\":[]},\"columnSizing\":{},\"columnVisibility\":{}},\"settings\":{\"columns\":{}},\"syncTimestamp\":1752655190971}",
       "filterBlob": null,
       "queryPlanFiltersBlob": null,
       "tableResultIndex": 0
      }
     },
     "title": ""
    }
   },
   "outputs": [],
   "source": [
    "display(data.head())"
   ]
  },
  {
   "cell_type": "code",
   "execution_count": 0,
   "metadata": {
    "application/vnd.databricks.v1+cell": {
     "cellMetadata": {
      "byteLimit": 2048000,
      "rowLimit": 10000
     },
     "inputWidgets": {},
     "nuid": "79d238d1-97ba-404f-bc65-162b95fcf8d5",
     "showTitle": false,
     "tableResultSettingsMap": {},
     "title": ""
    }
   },
   "outputs": [],
   "source": [
    "print(data['label'].unique()) # Good Debt Bad Debt"
   ]
  },
  {
   "cell_type": "code",
   "execution_count": 0,
   "metadata": {
    "application/vnd.databricks.v1+cell": {
     "cellMetadata": {
      "byteLimit": 2048000,
      "rowLimit": 10000
     },
     "inputWidgets": {},
     "nuid": "1fb6a948-05ac-4c39-8fad-61bfcf29de7f",
     "showTitle": false,
     "tableResultSettingsMap": {},
     "title": ""
    }
   },
   "outputs": [],
   "source": [
    "data.info()"
   ]
  },
  {
   "cell_type": "markdown",
   "metadata": {
    "application/vnd.databricks.v1+cell": {
     "cellMetadata": {},
     "inputWidgets": {},
     "nuid": "b508a252-e88d-406f-8d49-3623758dc62f",
     "showTitle": true,
     "tableResultSettingsMap": {},
     "title": ""
    }
   },
   "source": [
    "#Model"
   ]
  },
  {
   "cell_type": "code",
   "execution_count": 0,
   "metadata": {
    "application/vnd.databricks.v1+cell": {
     "cellMetadata": {
      "byteLimit": 2048000,
      "rowLimit": 10000
     },
     "inputWidgets": {},
     "nuid": "a601a0dc-55ed-4396-8266-d6d8b04bddee",
     "showTitle": false,
     "tableResultSettingsMap": {},
     "title": ""
    }
   },
   "outputs": [],
   "source": [
    "stp = setup(\n",
    "    data = data,\n",
    "    target= 'label',\n",
    "    train_size=0.8,\n",
    "    ignore_features=['ID'],\n",
    "    fix_imbalance=True,\n",
    "    session_id=123\n",
    ")"
   ]
  },
  {
   "cell_type": "code",
   "execution_count": 0,
   "metadata": {
    "application/vnd.databricks.v1+cell": {
     "cellMetadata": {
      "byteLimit": 2048000,
      "rowLimit": 10000
     },
     "inputWidgets": {},
     "nuid": "58e5e77d-4a52-4c46-9128-4f3cb8742271",
     "showTitle": false,
     "tableResultSettingsMap": {},
     "title": ""
    }
   },
   "outputs": [],
   "source": [
    "est_model = compare_models()"
   ]
  },
  {
   "cell_type": "markdown",
   "metadata": {
    "application/vnd.databricks.v1+cell": {
     "cellMetadata": {},
     "inputWidgets": {},
     "nuid": "89323a96-bdb9-42a9-a691-cb3fad4ace94",
     "showTitle": false,
     "tableResultSettingsMap": {},
     "title": ""
    }
   },
   "source": [
    "# Model Evaluation Summary\n",
    "\n",
    "Several classification models were tested to predict the target variable. The main metrics used to compare models were Accuracy, AUC (Area Under the ROC Curve), Recall, Precision, F1-Score, Kappa, and MCC (Matthews Correlation Coefficient).\n",
    "\n",
    "- **Accuracy:** Measures the overall percentage of correct predictions but can be misleading if the data is imbalanced.\n",
    "- **AUC:** Reflects the model’s ability to distinguish between classes; values closer to 1 are better.\n",
    "- **Recall:** Indicates how well the model detects positive cases.\n",
    "- **Precision:** Measures how many predicted positives are actually correct.\n",
    "- **F1-Score:** Balances Precision and Recall into a single metric.\n",
    "- **Kappa and MCC:** Assess the model's performance accounting for chance agreement and class imbalance.\n",
    "\n",
    "The best performing model for this dataset was **CatBoost Classifier**, showing the highest balance between Recall, Precision, and overall discrimination (AUC). Random Forest and Extra Trees classifiers also performed well.\n",
    "\n",
    "Models with high accuracy but low recall or precision (like the Dummy classifier) are not reliable because they tend to predict only the majority class.\n"
   ]
  },
  {
   "cell_type": "code",
   "execution_count": 0,
   "metadata": {
    "application/vnd.databricks.v1+cell": {
     "cellMetadata": {
      "byteLimit": 2048000,
      "rowLimit": 10000
     },
     "inputWidgets": {},
     "nuid": "d8f0179b-1d21-4248-a0f6-4974d6ddf05e",
     "showTitle": false,
     "tableResultSettingsMap": {},
     "title": ""
    }
   },
   "outputs": [],
   "source": [
    "catboost_model = create_model('catboost')\n",
    "\n",
    "catboost_model = finalize_model(catboost_model)\n",
    "\n",
    "print(catboost_model)"
   ]
  },
  {
   "cell_type": "code",
   "execution_count": 0,
   "metadata": {
    "application/vnd.databricks.v1+cell": {
     "cellMetadata": {
      "byteLimit": 2048000,
      "rowLimit": 10000
     },
     "inputWidgets": {},
     "nuid": "9e7c12a9-918b-4f59-b4bb-9ed399cb1a6c",
     "showTitle": false,
     "tableResultSettingsMap": {},
     "title": ""
    }
   },
   "outputs": [],
   "source": [
    "evaluate_model(catboost_model)"
   ]
  },
  {
   "cell_type": "code",
   "execution_count": 0,
   "metadata": {
    "application/vnd.databricks.v1+cell": {
     "cellMetadata": {
      "byteLimit": 2048000,
      "rowLimit": 10000
     },
     "inputWidgets": {},
     "nuid": "c23b2de4-ee93-42c4-b967-9fccdf24db61",
     "showTitle": false,
     "tableResultSettingsMap": {},
     "title": ""
    }
   },
   "outputs": [],
   "source": [
    "plot_model(catboost_model, plot = 'auc')"
   ]
  },
  {
   "cell_type": "code",
   "execution_count": 0,
   "metadata": {
    "application/vnd.databricks.v1+cell": {
     "cellMetadata": {
      "byteLimit": 2048000,
      "rowLimit": 10000
     },
     "inputWidgets": {},
     "nuid": "8ce87cc4-f132-4eeb-9274-7a418612c6dc",
     "showTitle": false,
     "tableResultSettingsMap": {},
     "title": ""
    }
   },
   "outputs": [],
   "source": [
    "plot_model(catboost_model, plot = 'pr')"
   ]
  },
  {
   "cell_type": "code",
   "execution_count": 0,
   "metadata": {
    "application/vnd.databricks.v1+cell": {
     "cellMetadata": {
      "byteLimit": 2048000,
      "rowLimit": 10000
     },
     "inputWidgets": {},
     "nuid": "7a2175b3-98ba-4afb-97a5-c88b4779741a",
     "showTitle": false,
     "tableResultSettingsMap": {},
     "title": ""
    }
   },
   "outputs": [],
   "source": [
    "plot_model(catboost_model, plot='feature')"
   ]
  },
  {
   "cell_type": "code",
   "execution_count": 0,
   "metadata": {
    "application/vnd.databricks.v1+cell": {
     "cellMetadata": {
      "byteLimit": 2048000,
      "rowLimit": 10000
     },
     "inputWidgets": {},
     "nuid": "472bfe2f-56c1-43d6-99c2-7fc1ff1177ad",
     "showTitle": false,
     "tableResultSettingsMap": {},
     "title": ""
    }
   },
   "outputs": [],
   "source": [
    "plot_model(catboost_model, plot = 'confusion_matrix')"
   ]
  },
  {
   "cell_type": "code",
   "execution_count": 0,
   "metadata": {
    "application/vnd.databricks.v1+cell": {
     "cellMetadata": {},
     "inputWidgets": {},
     "nuid": "e0bb717d-2d2d-4a59-8ebd-c904dec0c42a",
     "showTitle": false,
     "tableResultSettingsMap": {},
     "title": ""
    }
   },
   "outputs": [],
   "source": []
  }
 ],
 "metadata": {
  "application/vnd.databricks.v1+notebook": {
   "computePreferences": null,
   "dashboards": [],
   "environmentMetadata": {
    "base_environment": "",
    "environment_version": "2"
   },
   "inputWidgetPreferences": null,
   "language": "python",
   "notebookMetadata": {
    "pythonIndentUnit": 4
   },
   "notebookName": "Credit_Card_Approval_Predictions_0.98Accuracy_PyCaretLowCode",
   "widgets": {}
  },
  "language_info": {
   "name": "python"
  }
 },
 "nbformat": 4,
 "nbformat_minor": 0
}
