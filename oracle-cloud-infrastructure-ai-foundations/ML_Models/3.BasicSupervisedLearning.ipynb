{
 "cells": [
  {
   "cell_type": "code",
   "execution_count": 0,
   "metadata": {
    "application/vnd.databricks.v1+cell": {
     "cellMetadata": {
      "byteLimit": 2048000,
      "rowLimit": 10000
     },
     "inputWidgets": {},
     "nuid": "fbb8b3fc-6a86-49cb-9910-15aef7f7de0f",
     "showTitle": false,
     "tableResultSettingsMap": {},
     "title": ""
    }
   },
   "outputs": [],
   "source": [
    "from datetime import datetime\n",
    "import datetime as dt\n",
    "import time\n",
    "import numpy as np\n",
    "import pandas as pd\n",
    "import matplotlib.pyplot as plt\n",
    "import seaborn as sns\n",
    "import warnings\n",
    "warnings.filterwarnings(\"ignore\")\n",
    "\n",
    "#Sklearn\n",
    "from sklearn.model_selection import train_test_split, cross_val_score\n",
    "\n",
    "from sklearn.linear_model import LogisticRegression, LinearRegression\n",
    "from sklearn.neighbors import KNeighborsClassifier\n",
    "from sklearn.ensemble import RandomForestRegressor\n",
    "\n",
    "from sklearn.preprocessing import StandardScaler, LabelEncoder\n",
    "\n",
    "from sklearn.metrics import mean_absolute_error, mean_squared_error"
   ]
  },
  {
   "cell_type": "code",
   "execution_count": 0,
   "metadata": {
    "application/vnd.databricks.v1+cell": {
     "cellMetadata": {
      "byteLimit": 2048000,
      "rowLimit": 10000
     },
     "inputWidgets": {},
     "nuid": "5e2536df-44c2-4fd2-96d1-7b80e362085f",
     "showTitle": false,
     "tableResultSettingsMap": {},
     "title": ""
    }
   },
   "outputs": [],
   "source": [
    "data = pd.read_csv(\"column_2C_weka.csv\")\n",
    "data.head()"
   ]
  },
  {
   "cell_type": "code",
   "execution_count": 0,
   "metadata": {
    "application/vnd.databricks.v1+cell": {
     "cellMetadata": {
      "byteLimit": 2048000,
      "rowLimit": 10000
     },
     "inputWidgets": {},
     "nuid": "1b583c7e-9a94-4b7b-9ac7-2ce45916eecd",
     "showTitle": false,
     "tableResultSettingsMap": {},
     "title": ""
    }
   },
   "outputs": [],
   "source": [
    "data.info()"
   ]
  },
  {
   "cell_type": "code",
   "execution_count": 0,
   "metadata": {
    "application/vnd.databricks.v1+cell": {
     "cellMetadata": {
      "byteLimit": 2048000,
      "rowLimit": 10000
     },
     "inputWidgets": {},
     "nuid": "ed0260d5-bb5b-4a2a-97bf-530a16f2705e",
     "showTitle": false,
     "tableResultSettingsMap": {},
     "title": ""
    }
   },
   "outputs": [],
   "source": [
    "data.describe()"
   ]
  },
  {
   "cell_type": "code",
   "execution_count": 0,
   "metadata": {
    "application/vnd.databricks.v1+cell": {
     "cellMetadata": {
      "byteLimit": 2048000,
      "rowLimit": 10000
     },
     "inputWidgets": {},
     "nuid": "c78bbd47-3807-4ac7-a6f4-09019a522b67",
     "showTitle": false,
     "tableResultSettingsMap": {},
     "title": ""
    }
   },
   "outputs": [],
   "source": [
    "data.isnull().sum()"
   ]
  },
  {
   "cell_type": "code",
   "execution_count": 0,
   "metadata": {
    "application/vnd.databricks.v1+cell": {
     "cellMetadata": {
      "byteLimit": 2048000,
      "rowLimit": 10000
     },
     "inputWidgets": {},
     "nuid": "8ed0e0eb-1478-4a46-b4e5-8bee2530f0a5",
     "showTitle": false,
     "tableResultSettingsMap": {},
     "title": ""
    }
   },
   "outputs": [],
   "source": [
    "data['class'].value_counts()"
   ]
  },
  {
   "cell_type": "code",
   "execution_count": 0,
   "metadata": {
    "application/vnd.databricks.v1+cell": {
     "cellMetadata": {
      "byteLimit": 2048000,
      "rowLimit": 10000
     },
     "inputWidgets": {},
     "nuid": "4062e867-dc05-4a50-9a52-d7c638d6fe7a",
     "showTitle": false,
     "tableResultSettingsMap": {},
     "title": ""
    }
   },
   "outputs": [],
   "source": [
    "color_list = ['red' if i == 'Abnormal' else 'green' for i in data.loc[:, 'class']]\n",
    "\n",
    "pd.plotting.scatter_matrix(data.loc[:, data.columns != 'class'],\n",
    "                           c=color_list,\n",
    "                           figsize=[10,10],\n",
    "                           diagonal='hist',\n",
    "                           alpha=0.5,\n",
    "                           s=200,\n",
    "                           marker = '*',\n",
    "                           edgecolor = \"black\"\n",
    "                           )"
   ]
  },
  {
   "cell_type": "markdown",
   "metadata": {
    "application/vnd.databricks.v1+cell": {
     "cellMetadata": {
      "byteLimit": 2048000,
      "rowLimit": 10000
     },
     "inputWidgets": {},
     "nuid": "bc50b660-79ea-4159-8b67-7c2e54007d05",
     "showTitle": false,
     "tableResultSettingsMap": {},
     "title": ""
    }
   },
   "source": [
    "### Similar to Demo: Basic Machine Learning Part – 1\n"
   ]
  },
  {
   "cell_type": "code",
   "execution_count": 0,
   "metadata": {
    "application/vnd.databricks.v1+cell": {
     "cellMetadata": {
      "byteLimit": 2048000,
      "rowLimit": 10000
     },
     "inputWidgets": {},
     "nuid": "f6469632-1ea5-488a-a33e-06fbc7b80ac8",
     "showTitle": false,
     "tableResultSettingsMap": {},
     "title": ""
    }
   },
   "outputs": [],
   "source": [
    "x = data.loc[:, data.columns!='class']\n",
    "y = data.loc[:, 'class']\n",
    "\n",
    "x_train, x_test, y_train, y_test = train_test_split(\n",
    "    x, y, test_size=0.3, random_state=42\n",
    ")\n",
    "\n",
    "log_reg = LogisticRegression()\n",
    "log_reg.fit(x_train, y_train)\n",
    "log_reg.predict(x_test)\n",
    "log_reg.score(x_test, y_test)"
   ]
  },
  {
   "cell_type": "markdown",
   "metadata": {
    "application/vnd.databricks.v1+cell": {
     "cellMetadata": {
      "byteLimit": 2048000,
      "rowLimit": 10000
     },
     "inputWidgets": {},
     "nuid": "ceea147b-fc5e-4254-813c-f7f9726cb0ee",
     "showTitle": false,
     "tableResultSettingsMap": {},
     "title": ""
    }
   },
   "source": [
    "### Similar to Demo: Basic Machine Learning Part – 2"
   ]
  },
  {
   "cell_type": "code",
   "execution_count": 0,
   "metadata": {
    "application/vnd.databricks.v1+cell": {
     "cellMetadata": {
      "byteLimit": 2048000,
      "rowLimit": 10000
     },
     "inputWidgets": {},
     "nuid": "b0eb6cdd-c1a2-4e8e-82ed-588f7cb20e06",
     "showTitle": false,
     "tableResultSettingsMap": {},
     "title": ""
    }
   },
   "outputs": [],
   "source": [
    "x = data.loc[:, data.columns!='class']\n",
    "y = data.loc[:, 'class']\n",
    "\n",
    "x = StandardScaler().fit_transform(x)\n",
    "\n",
    "x_train, x_test, y_train, y_test = train_test_split(\n",
    "    x, y, test_size=0.3, random_state=42\n",
    ")\n",
    "\n",
    "log_reg = LogisticRegression()\n",
    "log_reg.fit(x_train, y_train)\n",
    "log_reg.predict(x_test)\n",
    "log_reg.score(x_test, y_test)"
   ]
  },
  {
   "cell_type": "markdown",
   "metadata": {
    "application/vnd.databricks.v1+cell": {
     "cellMetadata": {
      "byteLimit": 2048000,
      "rowLimit": 10000
     },
     "inputWidgets": {},
     "nuid": "36a06920-1f9c-47ea-9426-1516c1bd9d3a",
     "showTitle": false,
     "tableResultSettingsMap": {},
     "title": ""
    }
   },
   "source": [
    "# 📌 What is the K-Nearest Neighbor (KNN) Algorithm?\n",
    "\n",
    "🎥 **Video Title:** What is the K-Nearest Neighbor (KNN) Algorithm?  \n",
    "👨‍🏫 **Creator:** [IBM Technology](https://www.youtube.com/@IBMTechnology)  \n",
    "🔗 **Watch here:** [YouTube Video](https://www.youtube.com/watch?v=b6uHw7QW_n4)  \n",
    "🖼️ **Thumbnail:**  \n",
    "![KNN](https://i.ytimg.com/vi/b6uHw7QW_n4/hqdefault.jpg)\n",
    "\n",
    "---\n",
    "\n",
    "## 🚀 KNN in a Nutshell\n",
    "\n",
    "K-Nearest Neighbors (KNN) is a **supervised learning algorithm** used for both **classification and regression**, based on the concept of **similarity proximity**.\n",
    "\n",
    "---\n",
    "\n",
    "## 📊 Key Concepts Explained\n",
    "\n",
    "### 📌 1. Core Principle\n",
    "- KNN classifies data based on how its **features compare to its \"K\" nearest neighbors**.\n",
    "- It assumes that similar things exist near each other.\n",
    "\n",
    "### 🍏 2. Fruit Example\n",
    "- Features: **Sweetness (x-axis)** & **Crunchiness (y-axis)**.\n",
    "- New data points are classified by checking proximity to existing labeled data (e.g., apples vs oranges).\n",
    "\n",
    "### 🧮 3. Distance Metrics\n",
    "- Measures proximity using:\n",
    "  - **Euclidean Distance**\n",
    "  - **Manhattan Distance**\n",
    "- Visualization: **Voronoi Diagrams** are used to show decision boundaries.\n",
    "\n",
    "### 🔢 4. Choosing the Right ‘K’\n",
    "- **K = 1**: Assign class of nearest neighbor.\n",
    "- Larger K values smooth the model’s decisions.\n",
    "- Use **odd K values** to avoid classification ties.\n",
    "\n",
    "---\n",
    "\n",
    "## ⚖️ Pros & Cons of KNN\n",
    "\n",
    "### ✅ Strengths\n",
    "- ✅ Simple and intuitive\n",
    "- ✅ Few hyperparameters (just K & distance metric)\n",
    "- ✅ Learns in real-time as new data is added\n",
    "\n",
    "### ❌ Weaknesses\n",
    "- ❌ Poor scalability with large datasets (lazy learning = memory-intensive)\n",
    "- ❌ Suffers from the **curse of dimensionality**\n",
    "- ❌ High sensitivity to noisy or irrelevant features\n",
    "\n",
    "---\n",
    "## 🔍 Exploring the Impact of K: Overfitting vs. Underfitting\n",
    "\n",
    "Choosing the right value of **K** in the K-Nearest Neighbor algorithm is crucial — it directly impacts the model’s **bias-variance tradeoff** and overall performance.\n",
    "\n",
    "---\n",
    "\n",
    "### 🔢 What Does ‘K’ Really Mean?\n",
    "\n",
    "- The **K** in KNN refers to the number of nearest data points used to determine a prediction for a new instance.\n",
    "- You can think of it as \"how many friends you're asking for advice\" before deciding.\n",
    "\n",
    "---\n",
    "\n",
    "### 📈 Low K Value = High Variance (Overfitting)\n",
    "\n",
    "- Example: **K = 1**\n",
    "  - The model simply chooses the **closest neighbor**.\n",
    "  - This can lead to **overfitting** because it's overly sensitive to noise or outliers.\n",
    "  - Every tiny fluctuation in the dataset affects predictions.\n",
    "  \n",
    "📉 **Overfitting Symptoms:**\n",
    "- Excellent training accuracy, but poor generalization to new data.\n",
    "- Highly irregular decision boundaries.\n",
    "\n",
    "---\n",
    "\n",
    "### 📉 High K Value = High Bias (Underfitting)\n",
    "\n",
    "- Example: **K = 15 or 20**\n",
    "  - The model averages over many neighbors, potentially from different classes.\n",
    "  - Can lead to **underfitting**, as it smooths out local patterns.\n",
    "  \n",
    "📉 **Underfitting Symptoms:**\n",
    "- Model is too simplistic to capture complex patterns.\n",
    "- Poor training **and** test performance.\n",
    "\n",
    "---\n",
    "\n",
    "### 🎯 How to Choose the Best K?\n",
    "\n",
    "✅ **Best Practices:**\n",
    "- Use **cross-validation** to test different K values and find the sweet spot.\n",
    "- Choose an **odd value** of K to avoid tie votes in binary classification.\n",
    "- Try plotting an **error rate vs. K** graph — this can help visualize where underfitting and overfitting happen.\n",
    "\n",
    "🛠️ **Typical Range:**  \n",
    "- Start testing with K values in the range **3–15**.\n",
    "- Use **grid search** or other hyperparameter tuning tools for optimization.\n",
    "\n",
    "---\n",
    "\n",
    "### ⚠️ Bonus Tips\n",
    "\n",
    "- **Data Scaling Matters:** Always scale features (e.g., with StandardScaler) before applying KNN, or else distance-based metrics become unreliable.\n",
    "- **Dimensionality:** Too many features can dilute distance comparisons (curse of dimensionality), making the choice of K even harder.\n",
    "\n",
    "---\n",
    "\n",
    "\n",
    "\n",
    "## 🏥 Real-World Applications\n",
    "\n",
    "- 🧬 **Healthcare:** Predicting disease risk (e.g., heart attacks, prostate cancer)\n",
    "- 💸 **Finance:** Stock prediction, fraud detection\n",
    "- 🛠️ **Missing Data Imputation:** Estimating unknown values\n",
    "- 📺 **Recommendation Systems:** Suggesting products, movies, etc.\n",
    "\n",
    "---\n"
   ]
  },
  {
   "cell_type": "markdown",
   "metadata": {
    "application/vnd.databricks.v1+cell": {
     "cellMetadata": {
      "byteLimit": 2048000,
      "rowLimit": 10000
     },
     "inputWidgets": {},
     "nuid": "3af7522b-5c9f-4a0c-a945-42d5525279e3",
     "showTitle": false,
     "tableResultSettingsMap": {},
     "title": ""
    }
   },
   "source": [
    "## Classification using KNeighborsClassifier"
   ]
  },
  {
   "cell_type": "code",
   "execution_count": 0,
   "metadata": {
    "application/vnd.databricks.v1+cell": {
     "cellMetadata": {
      "byteLimit": 2048000,
      "rowLimit": 10000
     },
     "inputWidgets": {},
     "nuid": "1b8ba5cb-7639-463d-bde8-dace56c7e4d1",
     "showTitle": false,
     "tableResultSettingsMap": {},
     "title": ""
    }
   },
   "outputs": [],
   "source": [
    "x = data.loc[:, data.columns!='class']\n",
    "y = data.loc[:, 'class']\n",
    "\n",
    "x = StandardScaler().fit_transform(x)\n",
    "\n",
    "x_train, x_test, y_train, y_test = train_test_split(\n",
    "    x, y, test_size=0.3, random_state=42\n",
    ")\n",
    "\n",
    "neig = np.arange(1, 25)\n",
    "train_accuracy = []\n",
    "test_accuracy = []\n",
    "\n",
    "for i, k in enumerate(neig):\n",
    "    knn = KNeighborsClassifier(n_neighbors=k)\n",
    "\n",
    "    knn.fit(x_train, y_train)\n",
    "\n",
    "    train_accuracy.append(knn.score(x_train, y_train))\n",
    "\n",
    "    test_accuracy.append(knn.score(x_test, y_test))\n",
    "\n",
    "plt.figure(figsize=[13,8])\n",
    "plt.plot(neig, test_accuracy, label = 'Testing Accuracy')\n",
    "plt.plot(neig, train_accuracy, label = 'Training Accuracy')\n",
    "plt.legend()\n",
    "plt.title('k value VS Accuracy')\n",
    "plt.xlabel('Number of Neighbors')\n",
    "plt.ylabel('Accuracy')\n",
    "plt.xticks(neig)\n",
    "plt.savefig('graph.png')\n",
    "plt.show()\n",
    "print(\"Best accuracy is {} with K = {}\".format(np.max(test_accuracy), 1+test_accuracy.index(np.max(test_accuracy))))"
   ]
  },
  {
   "cell_type": "markdown",
   "metadata": {
    "application/vnd.databricks.v1+cell": {
     "cellMetadata": {
      "byteLimit": 2048000,
      "rowLimit": 10000
     },
     "inputWidgets": {},
     "nuid": "d0bb21e5-2a38-4ddb-9d44-ebbbe1e549c9",
     "showTitle": false,
     "tableResultSettingsMap": {},
     "title": ""
    }
   },
   "source": [
    "# Regression\n",
    "I will use one dataset that I found on Kaggle"
   ]
  },
  {
   "cell_type": "code",
   "execution_count": 0,
   "metadata": {
    "application/vnd.databricks.v1+cell": {
     "cellMetadata": {
      "byteLimit": 2048000,
      "rowLimit": 10000
     },
     "inputWidgets": {},
     "nuid": "d0480a3d-6c33-4eb6-ac85-bf98513f43c3",
     "showTitle": false,
     "tableResultSettingsMap": {},
     "title": ""
    }
   },
   "outputs": [],
   "source": [
    "data = pd.read_csv(\"weatherHistory.csv\")\n",
    "data.head()"
   ]
  },
  {
   "cell_type": "code",
   "execution_count": 0,
   "metadata": {
    "application/vnd.databricks.v1+cell": {
     "cellMetadata": {
      "byteLimit": 2048000,
      "rowLimit": 10000
     },
     "inputWidgets": {},
     "nuid": "8e6a65bd-57b5-4195-98f9-5796ca676454",
     "showTitle": false,
     "tableResultSettingsMap": {},
     "title": ""
    }
   },
   "outputs": [],
   "source": [
    "data.info()"
   ]
  },
  {
   "cell_type": "code",
   "execution_count": 0,
   "metadata": {
    "application/vnd.databricks.v1+cell": {
     "cellMetadata": {
      "byteLimit": 2048000,
      "rowLimit": 10000
     },
     "inputWidgets": {},
     "nuid": "0beeb626-fafc-42ff-bfdc-321f4ceb45d9",
     "showTitle": false,
     "tableResultSettingsMap": {},
     "title": ""
    }
   },
   "outputs": [],
   "source": [
    "data.describe()"
   ]
  },
  {
   "cell_type": "code",
   "execution_count": 0,
   "metadata": {
    "application/vnd.databricks.v1+cell": {
     "cellMetadata": {
      "byteLimit": 2048000,
      "rowLimit": 10000
     },
     "inputWidgets": {},
     "nuid": "29286397-1bd9-4b16-a265-6737566d6db8",
     "showTitle": false,
     "tableResultSettingsMap": {},
     "title": ""
    }
   },
   "outputs": [],
   "source": [
    "data.isnull().sum()"
   ]
  },
  {
   "cell_type": "code",
   "execution_count": 0,
   "metadata": {
    "application/vnd.databricks.v1+cell": {
     "cellMetadata": {
      "byteLimit": 2048000,
      "rowLimit": 10000
     },
     "inputWidgets": {},
     "nuid": "ae1fc1b7-fc2d-4fb5-90cc-d29980128a3e",
     "showTitle": false,
     "tableResultSettingsMap": {},
     "title": ""
    }
   },
   "outputs": [],
   "source": [
    "data['Date'] = pd.to_datetime(data['Formatted Date'], errors='coerce', utc=True)\n",
    "data = data.dropna(subset=['Date'])\n",
    "data['Date'] = pd.to_datetime(data['Date'], utc=True)  \n",
    "data['year'] = data['Date'].dt.year\n",
    "data['month'] = data['Date'].dt.month\n",
    "data['day'] = data['Date'].dt.day\n",
    "data['hour'] = data['Date'].dt.hour\n",
    "display(data.head())"
   ]
  },
  {
   "cell_type": "code",
   "execution_count": 0,
   "metadata": {
    "application/vnd.databricks.v1+cell": {
     "cellMetadata": {
      "byteLimit": 2048000,
      "rowLimit": 10000
     },
     "inputWidgets": {},
     "nuid": "18963da7-4909-4fcf-828d-d275fa068033",
     "showTitle": false,
     "tableResultSettingsMap": {},
     "title": ""
    }
   },
   "outputs": [],
   "source": [
    "data = data.drop('Loud Cover', axis = 1)\n",
    "f,ax = plt.subplots(figsize=(18, 18))\n",
    "sns.heatmap(data.corr(), annot=True, linewidths=.5, fmt= '.1f',ax=ax)\n",
    "plt.show()"
   ]
  },
  {
   "cell_type": "code",
   "execution_count": 0,
   "metadata": {
    "application/vnd.databricks.v1+cell": {
     "cellMetadata": {
      "byteLimit": 2048000,
      "rowLimit": 10000
     },
     "inputWidgets": {},
     "nuid": "6b998865-8593-4da4-a0cd-5a2604cdb4d9",
     "showTitle": false,
     "tableResultSettingsMap": {},
     "title": ""
    }
   },
   "outputs": [],
   "source": [
    "data = data.drop(['Wind Speed (km/h)', 'Wind Bearing (degrees)', 'Pressure (millibars)', 'Formatted Date'], axis = 1)\n",
    "data.head()"
   ]
  },
  {
   "cell_type": "code",
   "execution_count": 0,
   "metadata": {
    "application/vnd.databricks.v1+cell": {
     "cellMetadata": {
      "byteLimit": 2048000,
      "rowLimit": 10000
     },
     "inputWidgets": {},
     "nuid": "b146107e-ab6b-4e2e-acb8-3bf0d1b85cd8",
     "showTitle": false,
     "tableResultSettingsMap": {},
     "title": ""
    }
   },
   "outputs": [],
   "source": [
    "data[data['Precip Type'].isnull()].head()"
   ]
  },
  {
   "cell_type": "code",
   "execution_count": 0,
   "metadata": {
    "application/vnd.databricks.v1+cell": {
     "cellMetadata": {
      "byteLimit": 2048000,
      "rowLimit": 10000
     },
     "inputWidgets": {},
     "nuid": "9783adf6-70a8-4a0f-83f3-b7bb9358c1ee",
     "showTitle": false,
     "tableResultSettingsMap": {},
     "title": ""
    }
   },
   "outputs": [],
   "source": [
    "data['Precip Type'].unique()"
   ]
  },
  {
   "cell_type": "code",
   "execution_count": 0,
   "metadata": {
    "application/vnd.databricks.v1+cell": {
     "cellMetadata": {
      "byteLimit": 2048000,
      "rowLimit": 10000
     },
     "inputWidgets": {},
     "nuid": "6153140c-0ad2-4880-8c45-6a11fd5bd442",
     "showTitle": false,
     "tableResultSettingsMap": {},
     "title": ""
    }
   },
   "outputs": [],
   "source": [
    "data['Precip Type'].fillna('no', inplace=True)"
   ]
  },
  {
   "cell_type": "code",
   "execution_count": 0,
   "metadata": {
    "application/vnd.databricks.v1+cell": {
     "cellMetadata": {
      "byteLimit": 2048000,
      "rowLimit": 10000
     },
     "inputWidgets": {},
     "nuid": "1b03ec44-87b6-438d-a65b-4312430790c2",
     "showTitle": false,
     "tableResultSettingsMap": {},
     "title": ""
    }
   },
   "outputs": [],
   "source": [
    "data['Precip Type'].unique()"
   ]
  },
  {
   "cell_type": "code",
   "execution_count": 0,
   "metadata": {
    "application/vnd.databricks.v1+cell": {
     "cellMetadata": {
      "byteLimit": 2048000,
      "rowLimit": 10000
     },
     "inputWidgets": {},
     "nuid": "c601d46b-0623-47e4-a5f2-6952a2691559",
     "showTitle": false,
     "tableResultSettingsMap": {},
     "title": ""
    }
   },
   "outputs": [],
   "source": [
    "le = LabelEncoder()\n",
    "data['Summary_encoded'] = le.fit_transform(data['Summary'])\n",
    "data['Precip_Type_encoded'] = le.fit_transform(data['Precip Type'])\n",
    "data['Daily_Summary_encoded'] = le.fit_transform(data['Daily Summary'])\n",
    "data.drop(['Summary', 'Precip Type', 'Daily Summary'], axis=1, inplace=True)\n",
    "data.head()"
   ]
  },
  {
   "cell_type": "code",
   "execution_count": 0,
   "metadata": {
    "application/vnd.databricks.v1+cell": {
     "cellMetadata": {
      "byteLimit": 2048000,
      "rowLimit": 10000
     },
     "inputWidgets": {},
     "nuid": "8f6ef1a1-8506-4393-af95-27901342be7e",
     "showTitle": false,
     "tableResultSettingsMap": {},
     "title": ""
    }
   },
   "outputs": [],
   "source": [
    "f,ax = plt.subplots(figsize=(18, 18))\n",
    "sns.heatmap(data.corr(), annot=True, linewidths=.5, fmt= '.1f',ax=ax)\n",
    "plt.show()"
   ]
  },
  {
   "cell_type": "code",
   "execution_count": 0,
   "metadata": {
    "application/vnd.databricks.v1+cell": {
     "cellMetadata": {
      "byteLimit": 2048000,
      "rowLimit": 10000
     },
     "inputWidgets": {},
     "nuid": "5ad11808-df9e-4bb8-86f9-01445f0405a7",
     "showTitle": false,
     "tableResultSettingsMap": {},
     "title": ""
    }
   },
   "outputs": [],
   "source": [
    "data = data.drop(['year', 'Summary_encoded', 'Apparent Temperature (C)', 'Date'], axis = 1)\n",
    "data.head()"
   ]
  },
  {
   "cell_type": "code",
   "execution_count": 0,
   "metadata": {
    "application/vnd.databricks.v1+cell": {
     "cellMetadata": {
      "byteLimit": 2048000,
      "rowLimit": 10000
     },
     "inputWidgets": {},
     "nuid": "e0e32952-1291-48a2-870a-9bc8df76acfc",
     "showTitle": false,
     "tableResultSettingsMap": {},
     "title": ""
    }
   },
   "outputs": [],
   "source": [
    "X = data.drop(['Temperature (C)'], axis=1)\n",
    "y = data['Temperature (C)']\n",
    "X = StandardScaler().fit_transform(X)\n",
    "\n",
    "X_train, X_test, y_train, y_test = train_test_split(X, y, test_size=0.3, random_state=42)\n",
    "\n",
    "model = LinearRegression()\n",
    "model.fit(X_train, y_train)\n",
    "model.predict(X_test)\n",
    "model.score(X_test, y_test)\n"
   ]
  },
  {
   "cell_type": "code",
   "execution_count": 0,
   "metadata": {
    "application/vnd.databricks.v1+cell": {
     "cellMetadata": {
      "byteLimit": 2048000,
      "rowLimit": 10000
     },
     "inputWidgets": {},
     "nuid": "b9afc826-9498-440c-9822-3865dfc60179",
     "showTitle": false,
     "tableResultSettingsMap": {},
     "title": ""
    }
   },
   "outputs": [],
   "source": [
    "X = data.drop(['Temperature (C)'], axis=1)\n",
    "y = data['Temperature (C)']\n",
    "X = StandardScaler().fit_transform(X)\n",
    "\n",
    "X_train, X_test, y_train, y_test = train_test_split(X, y, test_size=0.3, random_state=42)\n",
    "\n",
    "model = RandomForestRegressor()\n",
    "model.fit(X_train, y_train)\n",
    "model.predict(X_test)\n",
    "model.score(X_test, y_test)"
   ]
  },
  {
   "cell_type": "code",
   "execution_count": 0,
   "metadata": {
    "application/vnd.databricks.v1+cell": {
     "cellMetadata": {
      "byteLimit": 2048000,
      "rowLimit": 10000
     },
     "inputWidgets": {},
     "nuid": "bf87f3bd-7a16-4260-b9bb-962455795552",
     "showTitle": false,
     "tableResultSettingsMap": {},
     "title": ""
    }
   },
   "outputs": [],
   "source": [
    "X = data.drop(['Temperature (C)'], axis=1)\n",
    "y = data['Temperature (C)']\n",
    "\n",
    "X = StandardScaler().fit_transform(X)\n",
    "\n",
    "X_train, X_test, y_train, y_test = train_test_split(X, y, test_size=0.3, random_state=42)\n",
    "\n",
    "model = RandomForestRegressor(random_state=42)\n",
    "\n",
    "scores = cross_val_score(model, X_train, y_train, cv=5, scoring='r2')\n",
    "print(\"R² (cross-val):\", np.mean(scores))\n",
    "\n",
    "model.fit(X_train, y_train)\n",
    "\n",
    "y_pred = model.predict(X_test)\n",
    "model.score(X_test, y_test)\n",
    "\n",
    "print(\"R²:\", model.score(X_test, y_test))\n",
    "print(\"MAE:\", mean_absolute_error(y_test, y_pred))\n",
    "print(\"RMSE:\", mean_squared_error(y_test, y_pred, squared=False))\n"
   ]
  },
  {
   "cell_type": "code",
   "execution_count": 0,
   "metadata": {
    "application/vnd.databricks.v1+cell": {
     "cellMetadata": {
      "byteLimit": 2048000,
      "rowLimit": 10000
     },
     "inputWidgets": {},
     "nuid": "d2435fb7-5b56-4843-89d7-0ce45db82b7d",
     "showTitle": false,
     "tableResultSettingsMap": {},
     "title": ""
    }
   },
   "outputs": [],
   "source": [
    "plt.figure(figsize=(10,6))\n",
    "plt.plot(y_test.values, label='Actual Values', color='blue')\n",
    "plt.plot(y_pred, label='Predicted Values', color='orange')\n",
    "plt.xlabel(\"Index\")\n",
    "plt.ylabel(\"Temperature (C)\")\n",
    "plt.title(\"Actual vs Predicted Temperature\")\n",
    "plt.legend()\n",
    "plt.grid(True)\n",
    "plt.tight_layout()\n",
    "plt.show()"
   ]
  },
  {
   "cell_type": "code",
   "execution_count": 0,
   "metadata": {
    "application/vnd.databricks.v1+cell": {
     "cellMetadata": {
      "byteLimit": 2048000,
      "rowLimit": 10000
     },
     "inputWidgets": {},
     "nuid": "0470d099-0313-4d10-b969-ee87e314d8f3",
     "showTitle": false,
     "tableResultSettingsMap": {},
     "title": ""
    }
   },
   "outputs": [],
   "source": []
  }
 ],
 "metadata": {
  "application/vnd.databricks.v1+notebook": {
   "computePreferences": null,
   "dashboards": [],
   "environmentMetadata": {
    "base_environment": "",
    "environment_version": "2"
   },
   "inputWidgetPreferences": null,
   "language": "python",
   "notebookMetadata": {
    "pythonIndentUnit": 4
   },
   "notebookName": "3.BasicSupervisedLearning",
   "widgets": {}
  },
  "language_info": {
   "name": "python"
  }
 },
 "nbformat": 4,
 "nbformat_minor": 0
}
